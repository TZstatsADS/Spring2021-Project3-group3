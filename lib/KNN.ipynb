{
 "cells": [
  {
   "cell_type": "markdown",
   "metadata": {},
   "source": [
    "# knn"
   ]
  },
  {
   "cell_type": "markdown",
   "metadata": {},
   "source": [
    "data "
   ]
  },
  {
   "cell_type": "code",
   "execution_count": 1,
   "metadata": {},
   "outputs": [],
   "source": [
    "import numpy as np\n",
    "import scipy.io\n",
    "import sklearn.metrics\n",
    "import sklearn \n",
    "import os\n",
    "import random\n",
    "import pandas as pd\n",
    "import time\n",
    "import matplotlib.pyplot as plt\n",
    "import smote_variants as sv\n",
    "import imbalanced_databases as imbd\n",
    "import random\n",
    "random.seed(2021)"
   ]
  },
  {
   "cell_type": "code",
   "execution_count": 2,
   "metadata": {},
   "outputs": [],
   "source": [
    "path = \"../data//train_set\"\n",
    "image_dir = path+\"images/\"\n",
    "pt_dir = path+\"points/\"\n",
    "label_path = path+\"label.csv\""
   ]
  },
  {
   "cell_type": "code",
   "execution_count": 3,
   "metadata": {},
   "outputs": [],
   "source": [
    "def read_data(path):\n",
    "  \n",
    "  # read labels\n",
    "  labels = pd.read_csv(path+'/label.csv')\n",
    "  y= labels['label'].to_numpy()\n",
    "\n",
    "  # read points\n",
    "  n = 3000\n",
    "  for i in range(1,n+1):\n",
    "    p_path = str(i).zfill(4)+'.mat'\n",
    "    mat = scipy.io.loadmat(path+'/points/'+p_path)\n",
    "    if 'faceCoordinatesUnwarped' in mat:\n",
    "      cords = mat['faceCoordinatesUnwarped'] \n",
    "    else:\n",
    "      cords = mat['faceCoordinates2']\n",
    "\n",
    "    distance = sklearn.metrics.pairwise_distances(cords)       \n",
    "          # compute the pairwise distances in each mat\n",
    "    flatten_distance = distance[np.triu_indices(len(cords[:,0]), k = 1)]    \n",
    "          # stretch the upper triangle of the symmetric matrix \n",
    "          # to a long array with dimension 3003\n",
    "          # 3003 = (1+77)*78/2\n",
    "    if i==1:\n",
    "      distances = np.mat([flatten_distance])\n",
    "    else:\n",
    "      distances = np.append(distances, np.mat([flatten_distance]), axis = 0)\n",
    "  return (distances, y)"
   ]
  },
  {
   "cell_type": "code",
   "execution_count": 4,
   "metadata": {},
   "outputs": [
    {
     "name": "stdout",
     "output_type": "stream",
     "text": [
      "Read the original dataset takes 107.318 seconds\n"
     ]
    },
    {
     "data": {
      "text/plain": [
       "((3000, 3003), (3000,))"
      ]
     },
     "execution_count": 4,
     "metadata": {},
     "output_type": "execute_result"
    }
   ],
   "source": [
    "read_time_start=time.time()\n",
    "X, Y = read_data(path)\n",
    "print(\"Read the original dataset takes %s seconds\" % round((time.time() - read_time_start),3))\n",
    "X.shape, Y.shape "
   ]
  },
  {
   "cell_type": "code",
   "execution_count": 5,
   "metadata": {},
   "outputs": [
    {
     "name": "stdout",
     "output_type": "stream",
     "text": [
      "majority class: 2402\n",
      "minority class: 598\n"
     ]
    }
   ],
   "source": [
    "print('majority class: %d' % np.sum(Y == 0))\n",
    "print('minority class: %d' % np.sum(Y == 1))\n",
    "#imbalanced dataset"
   ]
  },
  {
   "cell_type": "markdown",
   "metadata": {},
   "source": [
    "# oversample then split data"
   ]
  },
  {
   "cell_type": "code",
   "execution_count": 6,
   "metadata": {},
   "outputs": [],
   "source": [
    "def data_preprocessing(X, Y, path):\n",
    "\n",
    "  distances = X\n",
    "  y = Y\n",
    "\n",
    "  n = y.shape[0]\n",
    "  mat_1 = np.add(np.where(y == 1),1)\n",
    "  n_oversample = (n-sum(y))-sum(y) \n",
    "    # how many samples do we need to generate\n",
    "\n",
    "  for i in range(n_oversample):\n",
    "    samples_index = random.sample(list(list(mat_1)[0]), 2)\n",
    "      # pick two random index of class 1 samples. \n",
    "\n",
    "    p_path = str(samples_index[0]).zfill(4)+'.mat'\n",
    "    mat = scipy.io.loadmat(path+'/points/'+p_path)\n",
    "    if 'faceCoordinatesUnwarped' in mat:\n",
    "      cords_0 = mat['faceCoordinatesUnwarped'] \n",
    "    else:\n",
    "      cords_0 = mat['faceCoordinates2']\n",
    "    \n",
    "    p_path = str(samples_index[1]).zfill(4)+'.mat'\n",
    "    mat = scipy.io.loadmat(path+'/points/'+p_path)\n",
    "    if 'faceCoordinatesUnwarped' in mat:\n",
    "      cords_1 = mat['faceCoordinatesUnwarped'] \n",
    "    else:\n",
    "      cords_1 = mat['faceCoordinates2']\n",
    "\n",
    "    cords_new = (cords_0 + cords_1) / 2 \n",
    "        # averaging two sets of cordinates to generate new set of cordinates\n",
    "    distance = sklearn.metrics.pairwise_distances(cords_new)\n",
    "        # compute the pairwise distances in each mat\n",
    "    flatten_distance = distance[np.triu_indices(len(cords_new[:,0]), k = 1)]\n",
    "        # stretch the upper triangle of the symmetric matrix \n",
    "        # to a long array with dimension 3003\n",
    "        # 3003 = (1+77)*78/2\n",
    "    \n",
    "    distances = np.append(distances, np.mat([flatten_distance]), axis = 0)\n",
    "    y = np.append(y,np.array(1))\n",
    "        # Append new data to the original dataset\n",
    "\n",
    "  return (distances, y)"
   ]
  },
  {
   "cell_type": "code",
   "execution_count": 7,
   "metadata": {},
   "outputs": [
    {
     "data": {
      "text/plain": [
       "((4804, 3003), (4804,))"
      ]
     },
     "execution_count": 7,
     "metadata": {},
     "output_type": "execute_result"
    }
   ],
   "source": [
    "X_balanced, Y_balanced = data_preprocessing(X, Y, path)\n",
    "X_balanced.shape, Y_balanced.shape"
   ]
  },
  {
   "cell_type": "code",
   "execution_count": 8,
   "metadata": {},
   "outputs": [
    {
     "name": "stdout",
     "output_type": "stream",
     "text": [
      "majority class: 2402\n",
      "minority class: 2402\n"
     ]
    }
   ],
   "source": [
    "print('majority class: %d' % np.sum(Y_balanced == 0))\n",
    "print('minority class: %d' % np.sum(Y_balanced == 1))\n",
    "#balanced dataset"
   ]
  },
  {
   "cell_type": "code",
   "execution_count": 9,
   "metadata": {},
   "outputs": [],
   "source": [
    "import numpy as np\n",
    "import matplotlib.pyplot as plt\n",
    "import smote_variants as sv\n",
    "import imbalanced_databases as imbd"
   ]
  },
  {
   "cell_type": "code",
   "execution_count": 10,
   "metadata": {},
   "outputs": [
    {
     "data": {
      "text/plain": [
       "((3843, 3003), (961, 3003), (3843,), (961,))"
      ]
     },
     "execution_count": 10,
     "metadata": {},
     "output_type": "execute_result"
    }
   ],
   "source": [
    "from sklearn.model_selection import train_test_split\n",
    "X_balanced_train,X_balanced_test,y_balanced_train,y_balanced_test= train_test_split(X_balanced, Y_balanced,test_size=0.2,random_state=0)\n",
    "X_balanced_train.shape,X_balanced_test.shape,y_balanced_train.shape,y_balanced_test.shape"
   ]
  },
  {
   "cell_type": "code",
   "execution_count": 11,
   "metadata": {},
   "outputs": [
    {
     "name": "stdout",
     "output_type": "stream",
     "text": [
      "majority train class: 1918\n",
      "minority train class: 1925\n",
      "majority test class: 484\n",
      "minority test class: 477\n"
     ]
    }
   ],
   "source": [
    "print('majority train class: %d' % np.sum(y_balanced_train == 0))\n",
    "print('minority train class: %d' % np.sum(y_balanced_train == 1))\n",
    "print('majority test class: %d' % np.sum(y_balanced_test == 0))\n",
    "print('minority test class: %d' % np.sum(y_balanced_test == 1))"
   ]
  },
  {
   "cell_type": "markdown",
   "metadata": {},
   "source": [
    "# split then oversample"
   ]
  },
  {
   "cell_type": "code",
   "execution_count": 12,
   "metadata": {},
   "outputs": [
    {
     "name": "stdout",
     "output_type": "stream",
     "text": [
      "majority train class: 1923\n",
      "minority train class: 477\n",
      "majority test class: 479\n",
      "minority test class: 121\n"
     ]
    }
   ],
   "source": [
    "from sklearn.model_selection import train_test_split\n",
    "X_train,X_test,Y_train,Y_test= train_test_split(X,Y,test_size=0.20,random_state=0)\n",
    "X_train.shape, Y_train.shape, X_test.shape, Y_test.shape\n",
    "print('majority train class: %d' % np.sum(Y_train == 0))\n",
    "print('minority train class: %d' % np.sum(Y_train == 1))\n",
    "print('majority test class: %d' % np.sum(Y_test == 0))\n",
    "print('minority test class: %d' % np.sum(Y_test == 1))\n",
    "#imbalanced dataset"
   ]
  },
  {
   "cell_type": "code",
   "execution_count": 13,
   "metadata": {},
   "outputs": [],
   "source": [
    "def data_preprocessing(X_train, Y_train, path):\n",
    "\n",
    "  distances = X_train\n",
    "  y = Y_train\n",
    "\n",
    "  n = y.shape[0]\n",
    "  mat_1 = np.add(np.where(y == 1),1)\n",
    "  n_oversample = (n-sum(y))-sum(y) \n",
    "    # how many samples do we need to generate\n",
    "\n",
    "  for i in range(n_oversample):\n",
    "    samples_index = random.sample(list(list(mat_1)[0]), 2)\n",
    "      # pick two random index of class 1 samples. \n",
    "\n",
    "    p_path = str(samples_index[0]).zfill(4)+'.mat'\n",
    "    mat = scipy.io.loadmat(path+'/points/'+p_path)\n",
    "    if 'faceCoordinatesUnwarped' in mat:\n",
    "      cords_0 = mat['faceCoordinatesUnwarped'] \n",
    "    else:\n",
    "      cords_0 = mat['faceCoordinates2']\n",
    "    \n",
    "    p_path = str(samples_index[1]).zfill(4)+'.mat'\n",
    "    mat = scipy.io.loadmat(path+'/points/'+p_path)\n",
    "    if 'faceCoordinatesUnwarped' in mat:\n",
    "      cords_1 = mat['faceCoordinatesUnwarped'] \n",
    "    else:\n",
    "      cords_1 = mat['faceCoordinates2']\n",
    "\n",
    "    cords_new = (cords_0 + cords_1) / 2 \n",
    "        # averaging two sets of cordinates to generate new set of cordinates\n",
    "    distance = sklearn.metrics.pairwise_distances(cords_new)\n",
    "        # compute the pairwise distances in each mat\n",
    "    flatten_distance = distance[np.triu_indices(len(cords_new[:,0]), k = 1)]\n",
    "        # stretch the upper triangle of the symmetric matrix \n",
    "        # to a long array with dimension 3003\n",
    "        # 3003 = (1+77)*78/2\n",
    "    \n",
    "    distances = np.append(distances, np.mat([flatten_distance]), axis = 0)\n",
    "    y = np.append(y,np.array(1))\n",
    "        # Append new data to the original dataset\n",
    "\n",
    "  return (distances, y)"
   ]
  },
  {
   "cell_type": "code",
   "execution_count": 14,
   "metadata": {},
   "outputs": [
    {
     "data": {
      "text/plain": [
       "((3846, 3003), (3846,))"
      ]
     },
     "execution_count": 14,
     "metadata": {},
     "output_type": "execute_result"
    }
   ],
   "source": [
    "X_train_balanced, y_train_balanced = data_preprocessing(X_train, Y_train, path)\n",
    "X_train_balanced.shape, y_train_balanced.shape"
   ]
  },
  {
   "cell_type": "code",
   "execution_count": 15,
   "metadata": {},
   "outputs": [],
   "source": [
    "def data_preprocessing(X_test, Y_test, path):\n",
    "\n",
    "  distances = X_test\n",
    "  y = Y_test\n",
    "\n",
    "  n = y.shape[0]\n",
    "  mat_1 = np.add(np.where(y == 1),1)\n",
    "  n_oversample = (n-sum(y))-sum(y) \n",
    "    # how many samples do we need to generate\n",
    "\n",
    "  for i in range(n_oversample):\n",
    "    samples_index = random.sample(list(list(mat_1)[0]), 2)\n",
    "      # pick two random index of class 1 samples. \n",
    "\n",
    "    p_path = str(samples_index[0]).zfill(4)+'.mat'\n",
    "    mat = scipy.io.loadmat(path+'/points/'+p_path)\n",
    "    if 'faceCoordinatesUnwarped' in mat:\n",
    "      cords_0 = mat['faceCoordinatesUnwarped'] \n",
    "    else:\n",
    "      cords_0 = mat['faceCoordinates2']\n",
    "    \n",
    "    p_path = str(samples_index[1]).zfill(4)+'.mat'\n",
    "    mat = scipy.io.loadmat(path+'/points/'+p_path)\n",
    "    if 'faceCoordinatesUnwarped' in mat:\n",
    "      cords_1 = mat['faceCoordinatesUnwarped'] \n",
    "    else:\n",
    "      cords_1 = mat['faceCoordinates2']\n",
    "\n",
    "    cords_new = (cords_0 + cords_1) / 2 \n",
    "        # averaging two sets of cordinates to generate new set of cordinates\n",
    "    distance = sklearn.metrics.pairwise_distances(cords_new)\n",
    "        # compute the pairwise distances in each mat\n",
    "    flatten_distance = distance[np.triu_indices(len(cords_new[:,0]), k = 1)]\n",
    "        # stretch the upper triangle of the symmetric matrix \n",
    "        # to a long array with dimension 3003\n",
    "        # 3003 = (1+77)*78/2\n",
    "    \n",
    "    distances = np.append(distances, np.mat([flatten_distance]), axis = 0)\n",
    "    y = np.append(y,np.array(1))\n",
    "        # Append new data to the original dataset\n",
    "\n",
    "  return (distances, y)"
   ]
  },
  {
   "cell_type": "code",
   "execution_count": 16,
   "metadata": {},
   "outputs": [
    {
     "name": "stdout",
     "output_type": "stream",
     "text": [
      "majority train class: 1923\n",
      "minority train class: 1923\n",
      "majority test class: 479\n",
      "minority test class: 479\n"
     ]
    }
   ],
   "source": [
    "X_test_balanced, y_test_balanced = data_preprocessing(X_test, Y_test, path)\n",
    "X_test_balanced.shape, y_test_balanced.shape\n",
    "print('majority train class: %d' % np.sum(y_train_balanced == 0))\n",
    "print('minority train class: %d' % np.sum(y_train_balanced == 1))\n",
    "print('majority test class: %d' % np.sum(y_test_balanced == 0))\n",
    "print('minority test class: %d' % np.sum(y_test_balanced == 1))"
   ]
  },
  {
   "cell_type": "markdown",
   "metadata": {},
   "source": [
    "# divide into 2 chunk 3 groups \n",
    "\n",
    "        \n",
    "    • balanced train\n",
    "    \n",
    "        1.(train with balanced,test with balanced)\n",
    "           a.X_balanced_train,y_balanced_train;X_balanced_test,y_balanced_test\n",
    "           b.X_balanced_train,y_balanced_train;X_test_balanced,y_test_balanced \n",
    "        \n",
    "        2.(train with balanced,test with imbalanced) \n",
    "            X_train_balanced.y_train_balanced;X_test,Y_test\n",
    "      \n",
    "\n",
    "    • imbalanced train\n",
    "    \n",
    "        3. (train with imbalanced,test with imbalanced)\n",
    "            X_train,Y_train; X_test,Y_test "
   ]
  },
  {
   "cell_type": "markdown",
   "metadata": {},
   "source": [
    "model"
   ]
  },
  {
   "cell_type": "code",
   "execution_count": 17,
   "metadata": {},
   "outputs": [],
   "source": [
    "from sklearn.neighbors import NearestCentroid\n",
    "import numpy as np\n",
    "from sklearn.metrics import classification_report\n",
    "import pickle"
   ]
  },
  {
   "cell_type": "code",
   "execution_count": 18,
   "metadata": {},
   "outputs": [
    {
     "name": "stdout",
     "output_type": "stream",
     "text": [
      "Training  model takes 0.085 seconds\n",
      "Predicting test data takes 0.016 seconds\n",
      "              precision    recall  f1-score   support\n",
      "\n",
      "           0       0.56      0.54      0.55       484\n",
      "           1       0.55      0.57      0.56       477\n",
      "\n",
      "    accuracy                           0.55       961\n",
      "   macro avg       0.55      0.55      0.55       961\n",
      "weighted avg       0.55      0.55      0.55       961\n",
      "\n"
     ]
    }
   ],
   "source": [
    "# 1.a.X_balanced_train,y_balanced_train;X_balanced_test,y_balanced_test\n",
    "clf = NearestCentroid()\n",
    "start_time=time.time()\n",
    "clf.fit(X_balanced_train, y_balanced_train)\n",
    "NearestCentroid()\n",
    "print(\"Training  model takes %s seconds\" % round((time.time() - start_time),3))\n",
    "\n",
    "start = time.time()\n",
    "pre=clf.predict(X_balanced_test)\n",
    "end = time.time()\n",
    "print(\"Predicting test data takes %s seconds\" % round((end - start),3))\n",
    "print(classification_report(y_balanced_test,pre))"
   ]
  },
  {
   "cell_type": "code",
   "execution_count": 22,
   "metadata": {},
   "outputs": [
    {
     "data": {
      "text/plain": [
       "NearestCentroid()"
      ]
     },
     "execution_count": 22,
     "metadata": {},
     "output_type": "execute_result"
    }
   ],
   "source": [
    "#Save trained KNN model\n",
    "pickle.dump(clf, open(\"../output/clf1a.p\",'wb'))\n",
    "\n",
    "\n",
    "#Load weighted SVM model\n",
    "pickle.load(open(\"../output/clf1a.p\",'rb'))"
   ]
  },
  {
   "cell_type": "code",
   "execution_count": 20,
   "metadata": {},
   "outputs": [
    {
     "name": "stdout",
     "output_type": "stream",
     "text": [
      "Training  model takes 0.085 seconds\n",
      "Predicting test data takes 0.016 seconds\n",
      "              precision    recall  f1-score   support\n",
      "\n",
      "           0       0.50      0.50      0.50       479\n",
      "           1       0.50      0.50      0.50       479\n",
      "\n",
      "    accuracy                           0.50       958\n",
      "   macro avg       0.50      0.50      0.50       958\n",
      "weighted avg       0.50      0.50      0.50       958\n",
      "\n"
     ]
    }
   ],
   "source": [
    "# 1.b.X_balanced_train,y_balanced_train;X_test_balanced,y_test_balanced \n",
    "clf = NearestCentroid()\n",
    "start_time=time.time()\n",
    "clf.fit(X_train_balanced, y_train_balanced)\n",
    "NearestCentroid()\n",
    "print(\"Training  model takes %s seconds\" % round((time.time() - start_time),3))\n",
    "\n",
    "start = time.time()\n",
    "pre=clf.predict(X_test_balanced)\n",
    "end = time.time()\n",
    "print(\"Predicting test data takes %s seconds\" % round((end - start),3))\n",
    "print(classification_report(y_test_balanced,pre))"
   ]
  },
  {
   "cell_type": "code",
   "execution_count": 23,
   "metadata": {},
   "outputs": [
    {
     "data": {
      "text/plain": [
       "NearestCentroid()"
      ]
     },
     "execution_count": 23,
     "metadata": {},
     "output_type": "execute_result"
    }
   ],
   "source": [
    "#Save trained KNN model\n",
    "pickle.dump(clf, open(\"../output/clf1b.p\",'wb'))\n",
    "\n",
    "\n",
    "#Load weighted SVM model\n",
    "pickle.load(open(\"../output/clf1b.p\",'rb'))"
   ]
  },
  {
   "cell_type": "code",
   "execution_count": 24,
   "metadata": {},
   "outputs": [
    {
     "name": "stdout",
     "output_type": "stream",
     "text": [
      "Training  model takes 0.082 seconds\n",
      "Predicting test data takes 0.0 seconds\n",
      "              precision    recall  f1-score   support\n",
      "\n",
      "           0       0.82      0.50      0.62       479\n",
      "           1       0.22      0.57      0.32       121\n",
      "\n",
      "    accuracy                           0.52       600\n",
      "   macro avg       0.52      0.54      0.47       600\n",
      "weighted avg       0.70      0.52      0.56       600\n",
      "\n"
     ]
    }
   ],
   "source": [
    "# 2. X_train_balanced.y_train_balanced;X_test,Y_test\n",
    "clf = NearestCentroid()\n",
    "start_time=time.time()\n",
    "clf.fit(X_train_balanced, y_train_balanced)\n",
    "NearestCentroid()\n",
    "print(\"Training  model takes %s seconds\" % round((time.time() - start_time),3))\n",
    "\n",
    "start = time.time()\n",
    "pre=clf.predict(X_test)\n",
    "end = time.time()\n",
    "print(\"Predicting test data takes %s seconds\" % round((end - start),3))\n",
    "print(classification_report(Y_test,pre))"
   ]
  },
  {
   "cell_type": "code",
   "execution_count": 25,
   "metadata": {},
   "outputs": [
    {
     "data": {
      "text/plain": [
       "NearestCentroid()"
      ]
     },
     "execution_count": 25,
     "metadata": {},
     "output_type": "execute_result"
    }
   ],
   "source": [
    "#Save trained KNN model\n",
    "pickle.dump(clf, open(\"../output/clf2.p\",'wb'))\n",
    "\n",
    "\n",
    "#Load weighted SVM model\n",
    "pickle.load(open(\"../output/clf2.p\",'rb'))"
   ]
  },
  {
   "cell_type": "code",
   "execution_count": 26,
   "metadata": {},
   "outputs": [
    {
     "name": "stdout",
     "output_type": "stream",
     "text": [
      "Training  model takes 0.053 seconds\n",
      "Predicting test data takes 0.018 seconds\n",
      "              precision    recall  f1-score   support\n",
      "\n",
      "           0       0.83      0.53      0.65       479\n",
      "           1       0.24      0.59      0.34       121\n",
      "\n",
      "    accuracy                           0.54       600\n",
      "   macro avg       0.54      0.56      0.49       600\n",
      "weighted avg       0.71      0.54      0.58       600\n",
      "\n"
     ]
    }
   ],
   "source": [
    "#3 X_train,Y_train; X_test,Y_test\n",
    "\n",
    "clf = NearestCentroid()\n",
    "start_time=time.time()\n",
    "clf.fit(X_train, Y_train)\n",
    "NearestCentroid()\n",
    "print(\"Training  model takes %s seconds\" % round((time.time() - start_time),3))\n",
    "\n",
    "start = time.time()\n",
    "pre=clf.predict(X_test)\n",
    "end = time.time()\n",
    "print(\"Predicting test data takes %s seconds\" % round((end - start),3))\n",
    "print(classification_report(Y_test,pre))"
   ]
  },
  {
   "cell_type": "code",
   "execution_count": 27,
   "metadata": {},
   "outputs": [
    {
     "data": {
      "text/plain": [
       "NearestCentroid()"
      ]
     },
     "execution_count": 27,
     "metadata": {},
     "output_type": "execute_result"
    }
   ],
   "source": [
    "#Save trained KNN model\n",
    "pickle.dump(clf, open(\"../output/clf3.p\",'wb'))\n",
    "\n",
    "\n",
    "#Load weighted SVM model\n",
    "pickle.load(open(\"../output/clf3.p\",'rb'))"
   ]
  },
  {
   "cell_type": "code",
   "execution_count": 28,
   "metadata": {},
   "outputs": [
    {
     "name": "stdout",
     "output_type": "stream",
     "text": [
      "the score of a model with k = 3 is 0.688866\n",
      "the recall of a model with k = 3 is 0.937107\n",
      "the score of a model with k = 4 is 0.728408\n",
      "the recall of a model with k = 4 is 0.899371\n",
      "the score of a model with k = 5 is 0.674298\n",
      "the recall of a model with k = 5 is 0.955975\n",
      "the score of a model with k = 6 is 0.706556\n",
      "the recall of a model with k = 6 is 0.926625\n",
      "the score of a model with k = 7 is 0.672216\n",
      "the recall of a model with k = 7 is 0.955975\n",
      "the score of a model with k = 8 is 0.693028\n",
      "the recall of a model with k = 8 is 0.941300\n",
      "the score of a model with k = 9 is 0.654527\n",
      "the recall of a model with k = 9 is 0.962264\n",
      "the score of a model with k = 3 is 0.688866\n",
      "the recall of a model with k = 3 is 0.937107\n",
      "              precision    recall  f1-score   support\n",
      "\n",
      "           0       0.88      0.44      0.59       484\n",
      "           1       0.62      0.94      0.75       477\n",
      "\n",
      "    accuracy                           0.69       961\n",
      "   macro avg       0.75      0.69      0.67       961\n",
      "weighted avg       0.75      0.69      0.67       961\n",
      "\n"
     ]
    }
   ],
   "source": [
    "# 1.a. X_balanced_train,y_balanced_train;X_balanced_test,y_balanced_test\n",
    "from sklearn.neighbors import (NeighborhoodComponentsAnalysis,KNeighborsClassifier)\n",
    "from sklearn.model_selection import train_test_split\n",
    "from sklearn.metrics import recall_score\n",
    "from sklearn.pipeline import Pipeline\n",
    "\n",
    "for k in range(3,10):\n",
    "    nca = NeighborhoodComponentsAnalysis(random_state=42)\n",
    "    knn = KNeighborsClassifier(n_neighbors=k)\n",
    "    nca_pipe = Pipeline([('nca', nca), ('knn', knn)])\n",
    "    nca_pipe.fit(X_balanced_train, y_balanced_train)\n",
    "    pre=nca_pipe.predict(X_balanced_test)\n",
    "    # Pipeline(...)\n",
    "    print('the score of a model with k = %d is %f' % (k, nca_pipe.score(X_balanced_test, y_balanced_test)))\n",
    "    print('the recall of a model with k = %d is %f' % (k, recall_score(y_balanced_test, pre)))\n",
    "    \n",
    "    \n",
    "\n",
    "from sklearn.neighbors import (NeighborhoodComponentsAnalysis,KNeighborsClassifier)\n",
    "from sklearn.model_selection import train_test_split\n",
    "from sklearn.pipeline import Pipeline\n",
    "k=3\n",
    "nca = NeighborhoodComponentsAnalysis(random_state=42)\n",
    "knn = KNeighborsClassifier(n_neighbors=k)\n",
    "nca_pipe = Pipeline([('nca', nca), ('knn', knn)])\n",
    "nca_pipe.fit(X_balanced_train, y_balanced_train)\n",
    "# Pipeline(...)\n",
    "pre=nca_pipe.predict(X_balanced_test)\n",
    "# Pipeline(...)\n",
    "print('the score of a model with k = %d is %f' % (k, nca_pipe.score(X_balanced_test, y_balanced_test)))\n",
    "print('the recall of a model with k = %d is %f' % (k, recall_score(y_balanced_test, pre)))\n",
    "\n",
    "\n",
    "from sklearn.metrics import classification_report\n",
    "\n",
    "pre=nca_pipe.predict(X_balanced_test)\n",
    "print(classification_report(y_balanced_test,pre))"
   ]
  },
  {
   "cell_type": "code",
   "execution_count": 29,
   "metadata": {},
   "outputs": [
    {
     "data": {
      "text/plain": [
       "Pipeline(steps=[('nca', NeighborhoodComponentsAnalysis(random_state=42)),\n",
       "                ('knn', KNeighborsClassifier(n_neighbors=3))])"
      ]
     },
     "execution_count": 29,
     "metadata": {},
     "output_type": "execute_result"
    }
   ],
   "source": [
    "#Save trained KNN model\n",
    "pickle.dump(nca_pipe, open(\"../output/nca_pipe1a.p\",'wb'))\n",
    "\n",
    "\n",
    "#Load weighted SVM model\n",
    "pickle.load(open(\"../output/nca_pipe1a.p\",'rb'))"
   ]
  },
  {
   "cell_type": "code",
   "execution_count": 30,
   "metadata": {},
   "outputs": [
    {
     "name": "stdout",
     "output_type": "stream",
     "text": [
      "the score of a model with k = 3 is 0.638831\n",
      "the recall of a model with k = 3 is 0.860125\n",
      "the score of a model with k = 4 is 0.655532\n",
      "the recall of a model with k = 4 is 0.791232\n",
      "the score of a model with k = 5 is 0.620042\n",
      "the recall of a model with k = 5 is 0.891441\n",
      "the score of a model with k = 6 is 0.652401\n",
      "the recall of a model with k = 6 is 0.849687\n",
      "the score of a model with k = 7 is 0.629436\n",
      "the recall of a model with k = 7 is 0.924843\n",
      "the score of a model with k = 8 is 0.646138\n",
      "the recall of a model with k = 8 is 0.885177\n",
      "the score of a model with k = 9 is 0.608559\n",
      "the recall of a model with k = 9 is 0.931106\n",
      "the score of a model with k = 3 is 0.638831\n",
      "the recall of a model with k = 3 is 0.860125\n",
      "              precision    recall  f1-score   support\n",
      "\n",
      "           0       0.75      0.42      0.54       479\n",
      "           1       0.60      0.86      0.70       479\n",
      "\n",
      "    accuracy                           0.64       958\n",
      "   macro avg       0.67      0.64      0.62       958\n",
      "weighted avg       0.67      0.64      0.62       958\n",
      "\n"
     ]
    }
   ],
   "source": [
    "# 1.b.X_balanced_train,y_balanced_train;X_test_balanced,y_test_balanced \n",
    "from sklearn.neighbors import (NeighborhoodComponentsAnalysis,KNeighborsClassifier)\n",
    "from sklearn.model_selection import train_test_split\n",
    "from sklearn.metrics import recall_score\n",
    "from sklearn.pipeline import Pipeline\n",
    "\n",
    "for k in range(3,10):\n",
    "    nca = NeighborhoodComponentsAnalysis(random_state=42)\n",
    "    knn = KNeighborsClassifier(n_neighbors=k)\n",
    "    nca_pipe = Pipeline([('nca', nca), ('knn', knn)])\n",
    "    nca_pipe.fit(X_train_balanced, y_train_balanced)\n",
    "    pre=nca_pipe.predict(X_test_balanced)\n",
    "    # Pipeline(...)\n",
    "    print('the score of a model with k = %d is %f' % (k, nca_pipe.score(X_test_balanced, y_test_balanced)))\n",
    "    print('the recall of a model with k = %d is %f' % (k, recall_score(y_test_balanced, pre)))\n",
    "    \n",
    "    \n",
    "\n",
    "from sklearn.neighbors import (NeighborhoodComponentsAnalysis,KNeighborsClassifier)\n",
    "from sklearn.model_selection import train_test_split\n",
    "from sklearn.pipeline import Pipeline\n",
    "k=3\n",
    "nca = NeighborhoodComponentsAnalysis(random_state=42)\n",
    "knn = KNeighborsClassifier(n_neighbors=k)\n",
    "nca_pipe = Pipeline([('nca', nca), ('knn', knn)])\n",
    "nca_pipe.fit(X_train_balanced, y_train_balanced)\n",
    "# Pipeline(...)\n",
    "pre=nca_pipe.predict(X_test_balanced)\n",
    "# Pipeline(...)\n",
    "print('the score of a model with k = %d is %f' % (k, nca_pipe.score(X_test_balanced, y_test_balanced)))\n",
    "print('the recall of a model with k = %d is %f' % (k, recall_score(y_test_balanced, pre)))\n",
    "\n",
    "\n",
    "from sklearn.metrics import classification_report\n",
    "\n",
    "pre=nca_pipe.predict(X_test_balanced)\n",
    "print(classification_report(y_test_balanced,pre))"
   ]
  },
  {
   "cell_type": "code",
   "execution_count": 31,
   "metadata": {},
   "outputs": [
    {
     "data": {
      "text/plain": [
       "Pipeline(steps=[('nca', NeighborhoodComponentsAnalysis(random_state=42)),\n",
       "                ('knn', KNeighborsClassifier(n_neighbors=3))])"
      ]
     },
     "execution_count": 31,
     "metadata": {},
     "output_type": "execute_result"
    }
   ],
   "source": [
    "#Save trained KNN model\n",
    "pickle.dump(nca_pipe, open(\"../output/nca_pipe1b.p\",'wb'))\n",
    "\n",
    "\n",
    "#Load weighted SVM model\n",
    "pickle.load(open(\"../output/nca_pipe1b.p\",'rb'))"
   ]
  },
  {
   "cell_type": "code",
   "execution_count": 32,
   "metadata": {},
   "outputs": [
    {
     "name": "stdout",
     "output_type": "stream",
     "text": [
      "the score of a model with k = 3 is 0.481667\n",
      "the recall of a model with k = 3 is 0.735537\n",
      "the score of a model with k = 4 is 0.536667\n",
      "the recall of a model with k = 4 is 0.603306\n",
      "the score of a model with k = 5 is 0.431667\n",
      "the recall of a model with k = 5 is 0.760331\n",
      "the score of a model with k = 6 is 0.506667\n",
      "the recall of a model with k = 6 is 0.710744\n",
      "the score of a model with k = 7 is 0.438333\n",
      "the recall of a model with k = 7 is 0.851240\n",
      "the score of a model with k = 8 is 0.481667\n",
      "the recall of a model with k = 8 is 0.776860\n",
      "the score of a model with k = 9 is 0.400000\n",
      "the recall of a model with k = 9 is 0.851240\n",
      "the score of a model with k = 3 is 0.481667\n",
      "the recall of a model with k = 3 is 0.735537\n",
      "              precision    recall  f1-score   support\n",
      "\n",
      "           0       0.86      0.42      0.56       479\n",
      "           1       0.24      0.74      0.36       121\n",
      "\n",
      "    accuracy                           0.48       600\n",
      "   macro avg       0.55      0.58      0.46       600\n",
      "weighted avg       0.74      0.48      0.52       600\n",
      "\n"
     ]
    }
   ],
   "source": [
    "# 2. X_train_balanced.y_train_balanced;X_test,Y_test\n",
    "\n",
    "from sklearn.neighbors import (NeighborhoodComponentsAnalysis,KNeighborsClassifier)\n",
    "from sklearn.model_selection import train_test_split\n",
    "from sklearn.metrics import recall_score\n",
    "from sklearn.pipeline import Pipeline\n",
    "\n",
    "for k in range(3,10):\n",
    "    nca = NeighborhoodComponentsAnalysis(random_state=42)\n",
    "    knn = KNeighborsClassifier(n_neighbors=k)\n",
    "    nca_pipe = Pipeline([('nca', nca), ('knn', knn)])\n",
    "    nca_pipe.fit(X_train_balanced, y_train_balanced)\n",
    "    pre=nca_pipe.predict(X_test)\n",
    "    # Pipeline(...)\n",
    "    print('the score of a model with k = %d is %f' % (k, nca_pipe.score(X_test, Y_test)))\n",
    "    print('the recall of a model with k = %d is %f' % (k, recall_score(Y_test, pre)))\n",
    "    \n",
    "    \n",
    "\n",
    "from sklearn.neighbors import (NeighborhoodComponentsAnalysis,KNeighborsClassifier)\n",
    "from sklearn.model_selection import train_test_split\n",
    "from sklearn.pipeline import Pipeline\n",
    "k=3\n",
    "nca = NeighborhoodComponentsAnalysis(random_state=42)\n",
    "knn = KNeighborsClassifier(n_neighbors=k)\n",
    "nca_pipe = Pipeline([('nca', nca), ('knn', knn)])\n",
    "nca_pipe.fit(X_train_balanced, y_train_balanced)\n",
    "# Pipeline(...)\n",
    "pre=nca_pipe.predict(X_test)\n",
    "# Pipeline(...)\n",
    "print('the score of a model with k = %d is %f' % (k, nca_pipe.score(X_test, Y_test)))\n",
    "print('the recall of a model with k = %d is %f' % (k, recall_score(Y_test, pre)))\n",
    "\n",
    "\n",
    "from sklearn.metrics import classification_report\n",
    "\n",
    "pre=nca_pipe.predict(X_test)\n",
    "print(classification_report(Y_test,pre))"
   ]
  },
  {
   "cell_type": "code",
   "execution_count": 33,
   "metadata": {},
   "outputs": [
    {
     "data": {
      "text/plain": [
       "Pipeline(steps=[('nca', NeighborhoodComponentsAnalysis(random_state=42)),\n",
       "                ('knn', KNeighborsClassifier(n_neighbors=3))])"
      ]
     },
     "execution_count": 33,
     "metadata": {},
     "output_type": "execute_result"
    }
   ],
   "source": [
    "#Save trained KNN model\n",
    "pickle.dump(nca_pipe, open(\"../output/nca_pipe2.p\",'wb'))\n",
    "\n",
    "\n",
    "#Load weighted SVM model\n",
    "pickle.load(open(\"../output/nca_pipe2.p\",'rb'))"
   ]
  },
  {
   "cell_type": "code",
   "execution_count": 34,
   "metadata": {},
   "outputs": [
    {
     "name": "stdout",
     "output_type": "stream",
     "text": [
      "the score of a model with k = 3 is 0.776667\n",
      "the recall of a model with k = 3 is 0.223140\n",
      "the score of a model with k = 4 is 0.800000\n",
      "the recall of a model with k = 4 is 0.090909\n",
      "the score of a model with k = 5 is 0.786667\n",
      "the recall of a model with k = 5 is 0.148760\n",
      "the score of a model with k = 6 is 0.800000\n",
      "the recall of a model with k = 6 is 0.082645\n",
      "the score of a model with k = 7 is 0.790000\n",
      "the recall of a model with k = 7 is 0.115702\n",
      "the score of a model with k = 8 is 0.810000\n",
      "the recall of a model with k = 8 is 0.082645\n",
      "the score of a model with k = 9 is 0.803333\n",
      "the recall of a model with k = 9 is 0.132231\n",
      "the score of a model with k = 3 is 0.776667\n",
      "the recall of a model with k = 3 is 0.223140\n",
      "              precision    recall  f1-score   support\n",
      "\n",
      "           0       0.82      0.92      0.87       479\n",
      "           1       0.40      0.22      0.29       121\n",
      "\n",
      "    accuracy                           0.78       600\n",
      "   macro avg       0.61      0.57      0.58       600\n",
      "weighted avg       0.74      0.78      0.75       600\n",
      "\n"
     ]
    }
   ],
   "source": [
    "#3 X_train,Y_train; X_test,Y_test\n",
    "from sklearn.neighbors import (NeighborhoodComponentsAnalysis,KNeighborsClassifier)\n",
    "from sklearn.model_selection import train_test_split\n",
    "from sklearn.metrics import recall_score\n",
    "from sklearn.pipeline import Pipeline\n",
    "\n",
    "for k in range(3,10):\n",
    "    nca = NeighborhoodComponentsAnalysis(random_state=42)\n",
    "    knn = KNeighborsClassifier(n_neighbors=k)\n",
    "    nca_pipe = Pipeline([('nca', nca), ('knn', knn)])\n",
    "    nca_pipe.fit(X_train, Y_train)\n",
    "    pre=nca_pipe.predict(X_test)\n",
    "    # Pipeline(...)\n",
    "    print('the score of a model with k = %d is %f' % (k, nca_pipe.score(X_test, Y_test)))\n",
    "    print('the recall of a model with k = %d is %f' % (k, recall_score(Y_test, pre)))\n",
    "    \n",
    "    \n",
    "\n",
    "from sklearn.neighbors import (NeighborhoodComponentsAnalysis,KNeighborsClassifier)\n",
    "from sklearn.model_selection import train_test_split\n",
    "from sklearn.pipeline import Pipeline\n",
    "k=3\n",
    "nca = NeighborhoodComponentsAnalysis(random_state=42)\n",
    "knn = KNeighborsClassifier(n_neighbors=k)\n",
    "nca_pipe = Pipeline([('nca', nca), ('knn', knn)])\n",
    "nca_pipe.fit(X_train, Y_train)\n",
    "# Pipeline(...)\n",
    "pre=nca_pipe.predict(X_test)\n",
    "# Pipeline(...)\n",
    "print('the score of a model with k = %d is %f' % (k, nca_pipe.score(X_test, Y_test)))\n",
    "print('the recall of a model with k = %d is %f' % (k, recall_score(Y_test, pre)))\n",
    "\n",
    "\n",
    "from sklearn.metrics import classification_report\n",
    "\n",
    "pre=nca_pipe.predict(X_test)\n",
    "print(classification_report(Y_test,pre))"
   ]
  },
  {
   "cell_type": "code",
   "execution_count": 35,
   "metadata": {},
   "outputs": [
    {
     "data": {
      "text/plain": [
       "Pipeline(steps=[('nca', NeighborhoodComponentsAnalysis(random_state=42)),\n",
       "                ('knn', KNeighborsClassifier(n_neighbors=3))])"
      ]
     },
     "execution_count": 35,
     "metadata": {},
     "output_type": "execute_result"
    }
   ],
   "source": [
    "#Save trained KNN model\n",
    "pickle.dump(nca_pipe, open(\"../output/nca_pipe3.p\",'wb'))\n",
    "\n",
    "\n",
    "#Load weighted SVM model\n",
    "pickle.load(open(\"../output/nca_pipe3.p\",'rb'))"
   ]
  },
  {
   "cell_type": "code",
   "execution_count": null,
   "metadata": {},
   "outputs": [],
   "source": []
  },
  {
   "cell_type": "code",
   "execution_count": null,
   "metadata": {},
   "outputs": [],
   "source": []
  },
  {
   "cell_type": "code",
   "execution_count": null,
   "metadata": {},
   "outputs": [],
   "source": []
  },
  {
   "cell_type": "code",
   "execution_count": null,
   "metadata": {},
   "outputs": [],
   "source": []
  }
 ],
 "metadata": {
  "kernelspec": {
   "display_name": "Python 3",
   "language": "python",
   "name": "python3"
  },
  "language_info": {
   "codemirror_mode": {
    "name": "ipython",
    "version": 3
   },
   "file_extension": ".py",
   "mimetype": "text/x-python",
   "name": "python",
   "nbconvert_exporter": "python",
   "pygments_lexer": "ipython3",
   "version": "3.8.5"
  }
 },
 "nbformat": 4,
 "nbformat_minor": 4
}
