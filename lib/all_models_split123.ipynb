{
 "cells": [
  {
   "cell_type": "code",
   "execution_count": 2,
   "metadata": {},
   "outputs": [],
   "source": [
    "import numpy as np\n",
    "import scipy.io\n",
    "import sklearn.metrics\n",
    "import sklearn \n",
    "import os\n",
    "import random\n",
    "import pandas as pd\n",
    "import time"
   ]
  },
  {
   "cell_type": "code",
   "execution_count": 3,
   "metadata": {},
   "outputs": [],
   "source": [
    "path = '../data/train_set/'\n",
    "image_dir = path+\"images/\"\n",
    "pt_dir = path+\"points/\"\n",
    "label_path = path+\"label.csv\""
   ]
  },
  {
   "cell_type": "code",
   "execution_count": 4,
   "metadata": {},
   "outputs": [],
   "source": [
    "def read_data(path):\n",
    "  \n",
    "  # read labels\n",
    "  labels = pd.read_csv(path+'/label.csv')\n",
    "  y= labels['label'].to_numpy()\n",
    "\n",
    "  # read points\n",
    "  n = 3000\n",
    "  for i in range(1,n+1):\n",
    "    p_path = str(i).zfill(4)+'.mat'\n",
    "    mat = scipy.io.loadmat(path+'/points/'+p_path)\n",
    "    if 'faceCoordinatesUnwarped' in mat:\n",
    "      cords = mat['faceCoordinatesUnwarped'] \n",
    "    else:\n",
    "      cords = mat['faceCoordinates2']\n",
    "\n",
    "    distance = sklearn.metrics.pairwise_distances(cords)       \n",
    "          # compute the pairwise distances in each mat\n",
    "    flatten_distance = distance[np.triu_indices(len(cords[:,0]), k = 1)]    \n",
    "          # stretch the upper triangle of the symmetric matrix \n",
    "          # to a long array with dimension 3003\n",
    "          # 3003 = (1+77)*78/2\n",
    "    if i==1:\n",
    "      distances = np.mat([flatten_distance])\n",
    "    else:\n",
    "      distances = np.append(distances, np.mat([flatten_distance]), axis = 0)\n",
    "  return (distances, y)"
   ]
  },
  {
   "cell_type": "code",
   "execution_count": 5,
   "metadata": {},
   "outputs": [
    {
     "ename": "FileNotFoundError",
     "evalue": "[Errno 2] No such file or directory: 'C:\\\\Users\\\\liqia\\\\Spring2021-Project3-group-3-master\\\\qiaoli/data/train_set//label.csv'",
     "output_type": "error",
     "traceback": [
      "\u001b[1;31m---------------------------------------------------------------------------\u001b[0m",
      "\u001b[1;31mFileNotFoundError\u001b[0m                         Traceback (most recent call last)",
      "\u001b[1;32m<ipython-input-5-7559afafe12d>\u001b[0m in \u001b[0;36m<module>\u001b[1;34m\u001b[0m\n\u001b[0;32m      1\u001b[0m \u001b[0mread_time_start\u001b[0m\u001b[1;33m=\u001b[0m\u001b[0mtime\u001b[0m\u001b[1;33m.\u001b[0m\u001b[0mtime\u001b[0m\u001b[1;33m(\u001b[0m\u001b[1;33m)\u001b[0m\u001b[1;33m\u001b[0m\u001b[1;33m\u001b[0m\u001b[0m\n\u001b[1;32m----> 2\u001b[1;33m \u001b[0mX\u001b[0m\u001b[1;33m,\u001b[0m \u001b[0mY\u001b[0m \u001b[1;33m=\u001b[0m \u001b[0mread_data\u001b[0m\u001b[1;33m(\u001b[0m\u001b[0mpath\u001b[0m\u001b[1;33m)\u001b[0m\u001b[1;33m\u001b[0m\u001b[1;33m\u001b[0m\u001b[0m\n\u001b[0m\u001b[0;32m      3\u001b[0m \u001b[0mprint\u001b[0m\u001b[1;33m(\u001b[0m\u001b[1;34m\"Read the original dataset takes %s seconds\"\u001b[0m \u001b[1;33m%\u001b[0m \u001b[0mround\u001b[0m\u001b[1;33m(\u001b[0m\u001b[1;33m(\u001b[0m\u001b[0mtime\u001b[0m\u001b[1;33m.\u001b[0m\u001b[0mtime\u001b[0m\u001b[1;33m(\u001b[0m\u001b[1;33m)\u001b[0m \u001b[1;33m-\u001b[0m \u001b[0mread_time_start\u001b[0m\u001b[1;33m)\u001b[0m\u001b[1;33m,\u001b[0m\u001b[1;36m3\u001b[0m\u001b[1;33m)\u001b[0m\u001b[1;33m)\u001b[0m\u001b[1;33m\u001b[0m\u001b[1;33m\u001b[0m\u001b[0m\n",
      "\u001b[1;32m<ipython-input-4-281ed147f1dc>\u001b[0m in \u001b[0;36mread_data\u001b[1;34m(path)\u001b[0m\n\u001b[0;32m      2\u001b[0m \u001b[1;33m\u001b[0m\u001b[0m\n\u001b[0;32m      3\u001b[0m   \u001b[1;31m# read labels\u001b[0m\u001b[1;33m\u001b[0m\u001b[1;33m\u001b[0m\u001b[1;33m\u001b[0m\u001b[0m\n\u001b[1;32m----> 4\u001b[1;33m   \u001b[0mlabels\u001b[0m \u001b[1;33m=\u001b[0m \u001b[0mpd\u001b[0m\u001b[1;33m.\u001b[0m\u001b[0mread_csv\u001b[0m\u001b[1;33m(\u001b[0m\u001b[0mpath\u001b[0m\u001b[1;33m+\u001b[0m\u001b[1;34m'/label.csv'\u001b[0m\u001b[1;33m)\u001b[0m\u001b[1;33m\u001b[0m\u001b[1;33m\u001b[0m\u001b[0m\n\u001b[0m\u001b[0;32m      5\u001b[0m   \u001b[0my\u001b[0m\u001b[1;33m=\u001b[0m \u001b[0mlabels\u001b[0m\u001b[1;33m[\u001b[0m\u001b[1;34m'label'\u001b[0m\u001b[1;33m]\u001b[0m\u001b[1;33m.\u001b[0m\u001b[0mto_numpy\u001b[0m\u001b[1;33m(\u001b[0m\u001b[1;33m)\u001b[0m\u001b[1;33m\u001b[0m\u001b[1;33m\u001b[0m\u001b[0m\n\u001b[0;32m      6\u001b[0m \u001b[1;33m\u001b[0m\u001b[0m\n",
      "\u001b[1;32m~\\anaconda3\\lib\\site-packages\\pandas\\io\\parsers.py\u001b[0m in \u001b[0;36mread_csv\u001b[1;34m(filepath_or_buffer, sep, delimiter, header, names, index_col, usecols, squeeze, prefix, mangle_dupe_cols, dtype, engine, converters, true_values, false_values, skipinitialspace, skiprows, skipfooter, nrows, na_values, keep_default_na, na_filter, verbose, skip_blank_lines, parse_dates, infer_datetime_format, keep_date_col, date_parser, dayfirst, cache_dates, iterator, chunksize, compression, thousands, decimal, lineterminator, quotechar, quoting, doublequote, escapechar, comment, encoding, dialect, error_bad_lines, warn_bad_lines, delim_whitespace, low_memory, memory_map, float_precision)\u001b[0m\n\u001b[0;32m    684\u001b[0m     )\n\u001b[0;32m    685\u001b[0m \u001b[1;33m\u001b[0m\u001b[0m\n\u001b[1;32m--> 686\u001b[1;33m     \u001b[1;32mreturn\u001b[0m \u001b[0m_read\u001b[0m\u001b[1;33m(\u001b[0m\u001b[0mfilepath_or_buffer\u001b[0m\u001b[1;33m,\u001b[0m \u001b[0mkwds\u001b[0m\u001b[1;33m)\u001b[0m\u001b[1;33m\u001b[0m\u001b[1;33m\u001b[0m\u001b[0m\n\u001b[0m\u001b[0;32m    687\u001b[0m \u001b[1;33m\u001b[0m\u001b[0m\n\u001b[0;32m    688\u001b[0m \u001b[1;33m\u001b[0m\u001b[0m\n",
      "\u001b[1;32m~\\anaconda3\\lib\\site-packages\\pandas\\io\\parsers.py\u001b[0m in \u001b[0;36m_read\u001b[1;34m(filepath_or_buffer, kwds)\u001b[0m\n\u001b[0;32m    450\u001b[0m \u001b[1;33m\u001b[0m\u001b[0m\n\u001b[0;32m    451\u001b[0m     \u001b[1;31m# Create the parser.\u001b[0m\u001b[1;33m\u001b[0m\u001b[1;33m\u001b[0m\u001b[1;33m\u001b[0m\u001b[0m\n\u001b[1;32m--> 452\u001b[1;33m     \u001b[0mparser\u001b[0m \u001b[1;33m=\u001b[0m \u001b[0mTextFileReader\u001b[0m\u001b[1;33m(\u001b[0m\u001b[0mfp_or_buf\u001b[0m\u001b[1;33m,\u001b[0m \u001b[1;33m**\u001b[0m\u001b[0mkwds\u001b[0m\u001b[1;33m)\u001b[0m\u001b[1;33m\u001b[0m\u001b[1;33m\u001b[0m\u001b[0m\n\u001b[0m\u001b[0;32m    453\u001b[0m \u001b[1;33m\u001b[0m\u001b[0m\n\u001b[0;32m    454\u001b[0m     \u001b[1;32mif\u001b[0m \u001b[0mchunksize\u001b[0m \u001b[1;32mor\u001b[0m \u001b[0miterator\u001b[0m\u001b[1;33m:\u001b[0m\u001b[1;33m\u001b[0m\u001b[1;33m\u001b[0m\u001b[0m\n",
      "\u001b[1;32m~\\anaconda3\\lib\\site-packages\\pandas\\io\\parsers.py\u001b[0m in \u001b[0;36m__init__\u001b[1;34m(self, f, engine, **kwds)\u001b[0m\n\u001b[0;32m    944\u001b[0m             \u001b[0mself\u001b[0m\u001b[1;33m.\u001b[0m\u001b[0moptions\u001b[0m\u001b[1;33m[\u001b[0m\u001b[1;34m\"has_index_names\"\u001b[0m\u001b[1;33m]\u001b[0m \u001b[1;33m=\u001b[0m \u001b[0mkwds\u001b[0m\u001b[1;33m[\u001b[0m\u001b[1;34m\"has_index_names\"\u001b[0m\u001b[1;33m]\u001b[0m\u001b[1;33m\u001b[0m\u001b[1;33m\u001b[0m\u001b[0m\n\u001b[0;32m    945\u001b[0m \u001b[1;33m\u001b[0m\u001b[0m\n\u001b[1;32m--> 946\u001b[1;33m         \u001b[0mself\u001b[0m\u001b[1;33m.\u001b[0m\u001b[0m_make_engine\u001b[0m\u001b[1;33m(\u001b[0m\u001b[0mself\u001b[0m\u001b[1;33m.\u001b[0m\u001b[0mengine\u001b[0m\u001b[1;33m)\u001b[0m\u001b[1;33m\u001b[0m\u001b[1;33m\u001b[0m\u001b[0m\n\u001b[0m\u001b[0;32m    947\u001b[0m \u001b[1;33m\u001b[0m\u001b[0m\n\u001b[0;32m    948\u001b[0m     \u001b[1;32mdef\u001b[0m \u001b[0mclose\u001b[0m\u001b[1;33m(\u001b[0m\u001b[0mself\u001b[0m\u001b[1;33m)\u001b[0m\u001b[1;33m:\u001b[0m\u001b[1;33m\u001b[0m\u001b[1;33m\u001b[0m\u001b[0m\n",
      "\u001b[1;32m~\\anaconda3\\lib\\site-packages\\pandas\\io\\parsers.py\u001b[0m in \u001b[0;36m_make_engine\u001b[1;34m(self, engine)\u001b[0m\n\u001b[0;32m   1176\u001b[0m     \u001b[1;32mdef\u001b[0m \u001b[0m_make_engine\u001b[0m\u001b[1;33m(\u001b[0m\u001b[0mself\u001b[0m\u001b[1;33m,\u001b[0m \u001b[0mengine\u001b[0m\u001b[1;33m=\u001b[0m\u001b[1;34m\"c\"\u001b[0m\u001b[1;33m)\u001b[0m\u001b[1;33m:\u001b[0m\u001b[1;33m\u001b[0m\u001b[1;33m\u001b[0m\u001b[0m\n\u001b[0;32m   1177\u001b[0m         \u001b[1;32mif\u001b[0m \u001b[0mengine\u001b[0m \u001b[1;33m==\u001b[0m \u001b[1;34m\"c\"\u001b[0m\u001b[1;33m:\u001b[0m\u001b[1;33m\u001b[0m\u001b[1;33m\u001b[0m\u001b[0m\n\u001b[1;32m-> 1178\u001b[1;33m             \u001b[0mself\u001b[0m\u001b[1;33m.\u001b[0m\u001b[0m_engine\u001b[0m \u001b[1;33m=\u001b[0m \u001b[0mCParserWrapper\u001b[0m\u001b[1;33m(\u001b[0m\u001b[0mself\u001b[0m\u001b[1;33m.\u001b[0m\u001b[0mf\u001b[0m\u001b[1;33m,\u001b[0m \u001b[1;33m**\u001b[0m\u001b[0mself\u001b[0m\u001b[1;33m.\u001b[0m\u001b[0moptions\u001b[0m\u001b[1;33m)\u001b[0m\u001b[1;33m\u001b[0m\u001b[1;33m\u001b[0m\u001b[0m\n\u001b[0m\u001b[0;32m   1179\u001b[0m         \u001b[1;32melse\u001b[0m\u001b[1;33m:\u001b[0m\u001b[1;33m\u001b[0m\u001b[1;33m\u001b[0m\u001b[0m\n\u001b[0;32m   1180\u001b[0m             \u001b[1;32mif\u001b[0m \u001b[0mengine\u001b[0m \u001b[1;33m==\u001b[0m \u001b[1;34m\"python\"\u001b[0m\u001b[1;33m:\u001b[0m\u001b[1;33m\u001b[0m\u001b[1;33m\u001b[0m\u001b[0m\n",
      "\u001b[1;32m~\\anaconda3\\lib\\site-packages\\pandas\\io\\parsers.py\u001b[0m in \u001b[0;36m__init__\u001b[1;34m(self, src, **kwds)\u001b[0m\n\u001b[0;32m   2006\u001b[0m         \u001b[0mkwds\u001b[0m\u001b[1;33m[\u001b[0m\u001b[1;34m\"usecols\"\u001b[0m\u001b[1;33m]\u001b[0m \u001b[1;33m=\u001b[0m \u001b[0mself\u001b[0m\u001b[1;33m.\u001b[0m\u001b[0musecols\u001b[0m\u001b[1;33m\u001b[0m\u001b[1;33m\u001b[0m\u001b[0m\n\u001b[0;32m   2007\u001b[0m \u001b[1;33m\u001b[0m\u001b[0m\n\u001b[1;32m-> 2008\u001b[1;33m         \u001b[0mself\u001b[0m\u001b[1;33m.\u001b[0m\u001b[0m_reader\u001b[0m \u001b[1;33m=\u001b[0m \u001b[0mparsers\u001b[0m\u001b[1;33m.\u001b[0m\u001b[0mTextReader\u001b[0m\u001b[1;33m(\u001b[0m\u001b[0msrc\u001b[0m\u001b[1;33m,\u001b[0m \u001b[1;33m**\u001b[0m\u001b[0mkwds\u001b[0m\u001b[1;33m)\u001b[0m\u001b[1;33m\u001b[0m\u001b[1;33m\u001b[0m\u001b[0m\n\u001b[0m\u001b[0;32m   2009\u001b[0m         \u001b[0mself\u001b[0m\u001b[1;33m.\u001b[0m\u001b[0munnamed_cols\u001b[0m \u001b[1;33m=\u001b[0m \u001b[0mself\u001b[0m\u001b[1;33m.\u001b[0m\u001b[0m_reader\u001b[0m\u001b[1;33m.\u001b[0m\u001b[0munnamed_cols\u001b[0m\u001b[1;33m\u001b[0m\u001b[1;33m\u001b[0m\u001b[0m\n\u001b[0;32m   2010\u001b[0m \u001b[1;33m\u001b[0m\u001b[0m\n",
      "\u001b[1;32mpandas\\_libs\\parsers.pyx\u001b[0m in \u001b[0;36mpandas._libs.parsers.TextReader.__cinit__\u001b[1;34m()\u001b[0m\n",
      "\u001b[1;32mpandas\\_libs\\parsers.pyx\u001b[0m in \u001b[0;36mpandas._libs.parsers.TextReader._setup_parser_source\u001b[1;34m()\u001b[0m\n",
      "\u001b[1;31mFileNotFoundError\u001b[0m: [Errno 2] No such file or directory: 'C:\\\\Users\\\\liqia\\\\Spring2021-Project3-group-3-master\\\\qiaoli/data/train_set//label.csv'"
     ]
    }
   ],
   "source": [
    "read_time_start=time.time()\n",
    "X, Y = read_data(path)\n",
    "print(\"Read the original dataset takes %s seconds\" % round((time.time() - read_time_start),3))"
   ]
  },
  {
   "cell_type": "code",
   "execution_count": 7,
   "metadata": {},
   "outputs": [
    {
     "data": {
      "text/plain": [
       "((3000, 3003), (3000,))"
      ]
     },
     "execution_count": 7,
     "metadata": {},
     "output_type": "execute_result"
    }
   ],
   "source": [
    "X.shape, Y.shape "
   ]
  },
  {
   "cell_type": "code",
   "execution_count": 1,
   "metadata": {},
   "outputs": [
    {
     "ename": "NameError",
     "evalue": "name 'np' is not defined",
     "output_type": "error",
     "traceback": [
      "\u001b[1;31m---------------------------------------------------------------------------\u001b[0m",
      "\u001b[1;31mNameError\u001b[0m                                 Traceback (most recent call last)",
      "\u001b[1;32m<ipython-input-1-4565c3fe2523>\u001b[0m in \u001b[0;36m<module>\u001b[1;34m\u001b[0m\n\u001b[1;32m----> 1\u001b[1;33m \u001b[0mprint\u001b[0m\u001b[1;33m(\u001b[0m\u001b[1;34m'majority class: %d'\u001b[0m \u001b[1;33m%\u001b[0m \u001b[0mnp\u001b[0m\u001b[1;33m.\u001b[0m\u001b[0msum\u001b[0m\u001b[1;33m(\u001b[0m\u001b[0mY\u001b[0m \u001b[1;33m==\u001b[0m \u001b[1;36m0\u001b[0m\u001b[1;33m)\u001b[0m\u001b[1;33m)\u001b[0m\u001b[1;33m\u001b[0m\u001b[1;33m\u001b[0m\u001b[0m\n\u001b[0m\u001b[0;32m      2\u001b[0m \u001b[0mprint\u001b[0m\u001b[1;33m(\u001b[0m\u001b[1;34m'minority class: %d'\u001b[0m \u001b[1;33m%\u001b[0m \u001b[0mnp\u001b[0m\u001b[1;33m.\u001b[0m\u001b[0msum\u001b[0m\u001b[1;33m(\u001b[0m\u001b[0mY\u001b[0m \u001b[1;33m==\u001b[0m \u001b[1;36m1\u001b[0m\u001b[1;33m)\u001b[0m\u001b[1;33m)\u001b[0m\u001b[1;33m\u001b[0m\u001b[1;33m\u001b[0m\u001b[0m\n\u001b[0;32m      3\u001b[0m \u001b[1;31m#imbalanced dataset\u001b[0m\u001b[1;33m\u001b[0m\u001b[1;33m\u001b[0m\u001b[1;33m\u001b[0m\u001b[0m\n",
      "\u001b[1;31mNameError\u001b[0m: name 'np' is not defined"
     ]
    }
   ],
   "source": [
    "print('majority class: %d' % np.sum(Y == 0))\n",
    "print('minority class: %d' % np.sum(Y == 1))\n",
    "#imbalanced dataset"
   ]
  },
  {
   "cell_type": "markdown",
   "metadata": {},
   "source": [
    "# oversample then split data"
   ]
  },
  {
   "cell_type": "code",
   "execution_count": 8,
   "metadata": {},
   "outputs": [],
   "source": [
    "def data_preprocessing(X, Y, path):\n",
    "\n",
    "  distances = X\n",
    "  y = Y\n",
    "\n",
    "  n = y.shape[0]\n",
    "  mat_1 = np.add(np.where(y == 1),1)\n",
    "  n_oversample = (n-sum(y))-sum(y) \n",
    "    # how many samples do we need to generate\n",
    "\n",
    "  for i in range(n_oversample):\n",
    "    samples_index = random.sample(list(list(mat_1)[0]), 2)\n",
    "      # pick two random index of class 1 samples. \n",
    "\n",
    "    p_path = str(samples_index[0]).zfill(4)+'.mat'\n",
    "    mat = scipy.io.loadmat(path+'/points/'+p_path)\n",
    "    if 'faceCoordinatesUnwarped' in mat:\n",
    "      cords_0 = mat['faceCoordinatesUnwarped'] \n",
    "    else:\n",
    "      cords_0 = mat['faceCoordinates2']\n",
    "    \n",
    "    p_path = str(samples_index[1]).zfill(4)+'.mat'\n",
    "    mat = scipy.io.loadmat(path+'/points/'+p_path)\n",
    "    if 'faceCoordinatesUnwarped' in mat:\n",
    "      cords_1 = mat['faceCoordinatesUnwarped'] \n",
    "    else:\n",
    "      cords_1 = mat['faceCoordinates2']\n",
    "\n",
    "    cords_new = (cords_0 + cords_1) / 2 \n",
    "        # averaging two sets of cordinates to generate new set of cordinates\n",
    "    distance = sklearn.metrics.pairwise_distances(cords_new)\n",
    "        # compute the pairwise distances in each mat\n",
    "    flatten_distance = distance[np.triu_indices(len(cords_new[:,0]), k = 1)]\n",
    "        # stretch the upper triangle of the symmetric matrix \n",
    "        # to a long array with dimension 3003\n",
    "        # 3003 = (1+77)*78/2\n",
    "    \n",
    "    distances = np.append(distances, np.mat([flatten_distance]), axis = 0)\n",
    "    y = np.append(y,np.array(1))\n",
    "        # Append new data to the original dataset\n",
    "\n",
    "  return (distances, y)"
   ]
  },
  {
   "cell_type": "code",
   "execution_count": 9,
   "metadata": {},
   "outputs": [
    {
     "data": {
      "text/plain": [
       "((4804, 3003), (4804,))"
      ]
     },
     "execution_count": 9,
     "metadata": {},
     "output_type": "execute_result"
    }
   ],
   "source": [
    "X_balanced, Y_balanced = data_preprocessing(X, Y, path)\n",
    "X_balanced.shape, Y_balanced.shape"
   ]
  },
  {
   "cell_type": "code",
   "execution_count": 10,
   "metadata": {},
   "outputs": [
    {
     "name": "stdout",
     "output_type": "stream",
     "text": [
      "majority class: 2402\n",
      "minority class: 2402\n"
     ]
    }
   ],
   "source": [
    "print('majority class: %d' % np.sum(Y_balanced == 0))\n",
    "print('minority class: %d' % np.sum(Y_balanced == 1))\n",
    "#balanced dataset"
   ]
  },
  {
   "cell_type": "code",
   "execution_count": 11,
   "metadata": {},
   "outputs": [],
   "source": [
    "import numpy as np\n",
    "import matplotlib.pyplot as plt\n",
    "import smote_variants as sv\n",
    "import imbalanced_databases as imbd"
   ]
  },
  {
   "cell_type": "code",
   "execution_count": 12,
   "metadata": {},
   "outputs": [
    {
     "data": {
      "text/plain": [
       "((3843, 3003), (961, 3003), (3843,), (961,))"
      ]
     },
     "execution_count": 12,
     "metadata": {},
     "output_type": "execute_result"
    }
   ],
   "source": [
    "from sklearn.model_selection import train_test_split\n",
    "X_balanced_train,X_balanced_test,y_balanced_train,y_balanced_test= train_test_split(X_balanced, Y_balanced,test_size=0.2,random_state=0)\n",
    "X_balanced_train.shape,X_balanced_test.shape,y_balanced_train.shape,y_balanced_test.shape"
   ]
  },
  {
   "cell_type": "code",
   "execution_count": 13,
   "metadata": {},
   "outputs": [
    {
     "name": "stdout",
     "output_type": "stream",
     "text": [
      "majority train class: 1918\n",
      "minority train class: 1925\n",
      "majority test class: 484\n",
      "minority test class: 477\n"
     ]
    }
   ],
   "source": [
    "print('majority train class: %d' % np.sum(y_balanced_train == 0))\n",
    "print('minority train class: %d' % np.sum(y_balanced_train == 1))\n",
    "print('majority test class: %d' % np.sum(y_balanced_test == 0))\n",
    "print('minority test class: %d' % np.sum(y_balanced_test == 1))"
   ]
  },
  {
   "cell_type": "markdown",
   "metadata": {},
   "source": [
    "# split then oversample"
   ]
  },
  {
   "cell_type": "code",
   "execution_count": 47,
   "metadata": {},
   "outputs": [
    {
     "name": "stdout",
     "output_type": "stream",
     "text": [
      "majority train class: 1923\n",
      "minority train class: 477\n",
      "majority test class: 479\n",
      "minority test class: 121\n"
     ]
    }
   ],
   "source": [
    "from sklearn.model_selection import train_test_split\n",
    "X_train,X_test,Y_train,Y_test= train_test_split(X,Y,test_size=0.20,random_state=0)\n",
    "X_train.shape, Y_train.shape, X_test.shape, Y_test.shape\n",
    "print('majority train class: %d' % np.sum(Y_train == 0))\n",
    "print('minority train class: %d' % np.sum(Y_train == 1))\n",
    "print('majority test class: %d' % np.sum(Y_test == 0))\n",
    "print('minority test class: %d' % np.sum(Y_test == 1))\n",
    "#imbalanced dataset"
   ]
  },
  {
   "cell_type": "code",
   "execution_count": 15,
   "metadata": {},
   "outputs": [],
   "source": [
    "def data_preprocessing(X_train, Y_train, path):\n",
    "\n",
    "  distances = X_train\n",
    "  y = Y_train\n",
    "\n",
    "  n = y.shape[0]\n",
    "  mat_1 = np.add(np.where(y == 1),1)\n",
    "  n_oversample = (n-sum(y))-sum(y) \n",
    "    # how many samples do we need to generate\n",
    "\n",
    "  for i in range(n_oversample):\n",
    "    samples_index = random.sample(list(list(mat_1)[0]), 2)\n",
    "      # pick two random index of class 1 samples. \n",
    "\n",
    "    p_path = str(samples_index[0]).zfill(4)+'.mat'\n",
    "    mat = scipy.io.loadmat(path+'/points/'+p_path)\n",
    "    if 'faceCoordinatesUnwarped' in mat:\n",
    "      cords_0 = mat['faceCoordinatesUnwarped'] \n",
    "    else:\n",
    "      cords_0 = mat['faceCoordinates2']\n",
    "    \n",
    "    p_path = str(samples_index[1]).zfill(4)+'.mat'\n",
    "    mat = scipy.io.loadmat(path+'/points/'+p_path)\n",
    "    if 'faceCoordinatesUnwarped' in mat:\n",
    "      cords_1 = mat['faceCoordinatesUnwarped'] \n",
    "    else:\n",
    "      cords_1 = mat['faceCoordinates2']\n",
    "\n",
    "    cords_new = (cords_0 + cords_1) / 2 \n",
    "        # averaging two sets of cordinates to generate new set of cordinates\n",
    "    distance = sklearn.metrics.pairwise_distances(cords_new)\n",
    "        # compute the pairwise distances in each mat\n",
    "    flatten_distance = distance[np.triu_indices(len(cords_new[:,0]), k = 1)]\n",
    "        # stretch the upper triangle of the symmetric matrix \n",
    "        # to a long array with dimension 3003\n",
    "        # 3003 = (1+77)*78/2\n",
    "    \n",
    "    distances = np.append(distances, np.mat([flatten_distance]), axis = 0)\n",
    "    y = np.append(y,np.array(1))\n",
    "        # Append new data to the original dataset\n",
    "\n",
    "  return (distances, y)"
   ]
  },
  {
   "cell_type": "code",
   "execution_count": 16,
   "metadata": {},
   "outputs": [
    {
     "data": {
      "text/plain": [
       "((3846, 3003), (3846,))"
      ]
     },
     "execution_count": 16,
     "metadata": {},
     "output_type": "execute_result"
    }
   ],
   "source": [
    "X_train_balanced, y_train_balanced = data_preprocessing(X_train, Y_train, path)\n",
    "X_train_balanced.shape, y_train_balanced.shape"
   ]
  },
  {
   "cell_type": "code",
   "execution_count": 17,
   "metadata": {},
   "outputs": [],
   "source": [
    "def data_preprocessing(X_test, Y_test, path):\n",
    "\n",
    "  distances = X_test\n",
    "  y = Y_test\n",
    "\n",
    "  n = y.shape[0]\n",
    "  mat_1 = np.add(np.where(y == 1),1)\n",
    "  n_oversample = (n-sum(y))-sum(y) \n",
    "    # how many samples do we need to generate\n",
    "\n",
    "  for i in range(n_oversample):\n",
    "    samples_index = random.sample(list(list(mat_1)[0]), 2)\n",
    "      # pick two random index of class 1 samples. \n",
    "\n",
    "    p_path = str(samples_index[0]).zfill(4)+'.mat'\n",
    "    mat = scipy.io.loadmat(path+'/points/'+p_path)\n",
    "    if 'faceCoordinatesUnwarped' in mat:\n",
    "      cords_0 = mat['faceCoordinatesUnwarped'] \n",
    "    else:\n",
    "      cords_0 = mat['faceCoordinates2']\n",
    "    \n",
    "    p_path = str(samples_index[1]).zfill(4)+'.mat'\n",
    "    mat = scipy.io.loadmat(path+'/points/'+p_path)\n",
    "    if 'faceCoordinatesUnwarped' in mat:\n",
    "      cords_1 = mat['faceCoordinatesUnwarped'] \n",
    "    else:\n",
    "      cords_1 = mat['faceCoordinates2']\n",
    "\n",
    "    cords_new = (cords_0 + cords_1) / 2 \n",
    "        # averaging two sets of cordinates to generate new set of cordinates\n",
    "    distance = sklearn.metrics.pairwise_distances(cords_new)\n",
    "        # compute the pairwise distances in each mat\n",
    "    flatten_distance = distance[np.triu_indices(len(cords_new[:,0]), k = 1)]\n",
    "        # stretch the upper triangle of the symmetric matrix \n",
    "        # to a long array with dimension 3003\n",
    "        # 3003 = (1+77)*78/2\n",
    "    \n",
    "    distances = np.append(distances, np.mat([flatten_distance]), axis = 0)\n",
    "    y = np.append(y,np.array(1))\n",
    "        # Append new data to the original dataset\n",
    "\n",
    "  return (distances, y)"
   ]
  },
  {
   "cell_type": "code",
   "execution_count": 48,
   "metadata": {},
   "outputs": [
    {
     "name": "stdout",
     "output_type": "stream",
     "text": [
      "majority train class: 1923\n",
      "minority train class: 1923\n",
      "majority test class: 479\n",
      "minority test class: 479\n"
     ]
    }
   ],
   "source": [
    "X_test_balanced, y_test_balanced = data_preprocessing(X_test, Y_test, path)\n",
    "X_test_balanced.shape, y_test_balanced.shape\n",
    "print('majority train class: %d' % np.sum(y_train_balanced == 0))\n",
    "print('minority train class: %d' % np.sum(y_train_balanced == 1))\n",
    "print('majority test class: %d' % np.sum(y_test_balanced == 0))\n",
    "print('minority test class: %d' % np.sum(y_test_balanced == 1))"
   ]
  },
  {
   "cell_type": "markdown",
   "metadata": {},
   "source": [
    "# divide into 2 chunk 3 groups \n",
    "\n",
    "        \n",
    "    • balanced train\n",
    "    \n",
    "        1.(train with balanced,test with balanced)\n",
    "           a.X_balanced_train,y_balanced_train;X_balanced_test,y_balanced_test\n",
    "           b.X_balanced_train,y_balanced_train;X_test_balanced,y_test_balanced \n",
    "        \n",
    "        2.(train with balanced,test with imbalanced) \n",
    "            X_train_balanced.y_train_balanced;X_test,Y_test\n",
    "      \n",
    "\n",
    "    • imbalanced train\n",
    "    \n",
    "        3. (train with imbalanced,test with imbalanced)\n",
    "            X_train,Y_train; X_test,Y_test "
   ]
  },
  {
   "cell_type": "markdown",
   "metadata": {},
   "source": [
    "# knn"
   ]
  },
  {
   "cell_type": "code",
   "execution_count": 19,
   "metadata": {},
   "outputs": [],
   "source": [
    "from sklearn.neighbors import NearestCentroid\n",
    "import numpy as np\n",
    "from sklearn.metrics import classification_report"
   ]
  },
  {
   "cell_type": "code",
   "execution_count": 20,
   "metadata": {},
   "outputs": [
    {
     "name": "stdout",
     "output_type": "stream",
     "text": [
      "Training  model takes 0.079 seconds\n",
      "Predicting test data takes 0.016 seconds\n",
      "              precision    recall  f1-score   support\n",
      "\n",
      "           0       0.58      0.54      0.56       484\n",
      "           1       0.56      0.61      0.59       477\n",
      "\n",
      "    accuracy                           0.57       961\n",
      "   macro avg       0.57      0.57      0.57       961\n",
      "weighted avg       0.57      0.57      0.57       961\n",
      "\n"
     ]
    }
   ],
   "source": [
    "# 1.a.X_balanced_train,y_balanced_train;X_balanced_test,y_balanced_test\n",
    "clf = NearestCentroid()\n",
    "start_time=time.time()\n",
    "clf.fit(X_balanced_train, y_balanced_train)\n",
    "NearestCentroid()\n",
    "print(\"Training  model takes %s seconds\" % round((time.time() - start_time),3))\n",
    "\n",
    "start = time.time()\n",
    "pre=clf.predict(X_balanced_test)\n",
    "end = time.time()\n",
    "print(\"Predicting test data takes %s seconds\" % round((end - start),3))\n",
    "print(classification_report(y_balanced_test,pre))"
   ]
  },
  {
   "cell_type": "code",
   "execution_count": 21,
   "metadata": {},
   "outputs": [
    {
     "name": "stdout",
     "output_type": "stream",
     "text": [
      "Training  model takes 0.093 seconds\n",
      "Predicting test data takes 0.016 seconds\n",
      "              precision    recall  f1-score   support\n",
      "\n",
      "           0       0.49      0.48      0.49       479\n",
      "           1       0.49      0.51      0.50       479\n",
      "\n",
      "    accuracy                           0.49       958\n",
      "   macro avg       0.49      0.49      0.49       958\n",
      "weighted avg       0.49      0.49      0.49       958\n",
      "\n"
     ]
    }
   ],
   "source": [
    "# 1.b.X_balanced_train,y_balanced_train;X_test_balanced,y_test_balanced \n",
    "clf = NearestCentroid()\n",
    "start_time=time.time()\n",
    "clf.fit(X_train_balanced, y_train_balanced)\n",
    "NearestCentroid()\n",
    "print(\"Training  model takes %s seconds\" % round((time.time() - start_time),3))\n",
    "\n",
    "start = time.time()\n",
    "pre=clf.predict(X_test_balanced)\n",
    "end = time.time()\n",
    "print(\"Predicting test data takes %s seconds\" % round((end - start),3))\n",
    "print(classification_report(y_test_balanced,pre))"
   ]
  },
  {
   "cell_type": "code",
   "execution_count": 49,
   "metadata": {},
   "outputs": [
    {
     "name": "stdout",
     "output_type": "stream",
     "text": [
      "Training  model takes 0.087 seconds\n",
      "Predicting test data takes 0.01 seconds\n",
      "              precision    recall  f1-score   support\n",
      "\n",
      "           0       0.85      0.48      0.61       479\n",
      "           1       0.24      0.65      0.35       121\n",
      "\n",
      "    accuracy                           0.51       600\n",
      "   macro avg       0.54      0.57      0.48       600\n",
      "weighted avg       0.72      0.51      0.56       600\n",
      "\n"
     ]
    }
   ],
   "source": [
    "# 2. X_train_balanced.y_train_balanced;X_test,Y_test\n",
    "clf = NearestCentroid()\n",
    "start_time=time.time()\n",
    "clf.fit(X_train_balanced, y_train_balanced)\n",
    "NearestCentroid()\n",
    "print(\"Training  model takes %s seconds\" % round((time.time() - start_time),3))\n",
    "\n",
    "start = time.time()\n",
    "pre=clf.predict(X_test)\n",
    "end = time.time()\n",
    "print(\"Predicting test data takes %s seconds\" % round((end - start),3))\n",
    "print(classification_report(Y_test,pre))"
   ]
  },
  {
   "cell_type": "code",
   "execution_count": 22,
   "metadata": {},
   "outputs": [
    {
     "name": "stdout",
     "output_type": "stream",
     "text": [
      "Training  model takes 0.071 seconds\n",
      "Predicting test data takes 0.011 seconds\n",
      "              precision    recall  f1-score   support\n",
      "\n",
      "           0       0.83      0.53      0.65       479\n",
      "           1       0.24      0.59      0.34       121\n",
      "\n",
      "    accuracy                           0.54       600\n",
      "   macro avg       0.54      0.56      0.49       600\n",
      "weighted avg       0.71      0.54      0.58       600\n",
      "\n"
     ]
    }
   ],
   "source": [
    "#3 X_train,Y_train; X_test,Y_test\n",
    "\n",
    "clf = NearestCentroid()\n",
    "start_time=time.time()\n",
    "clf.fit(X_train, Y_train)\n",
    "NearestCentroid()\n",
    "print(\"Training  model takes %s seconds\" % round((time.time() - start_time),3))\n",
    "\n",
    "start = time.time()\n",
    "pre=clf.predict(X_test)\n",
    "end = time.time()\n",
    "print(\"Predicting test data takes %s seconds\" % round((end - start),3))\n",
    "print(classification_report(Y_test,pre))"
   ]
  },
  {
   "cell_type": "code",
   "execution_count": null,
   "metadata": {},
   "outputs": [],
   "source": []
  },
  {
   "cell_type": "code",
   "execution_count": 23,
   "metadata": {},
   "outputs": [
    {
     "name": "stdout",
     "output_type": "stream",
     "text": [
      "the score of a model with k = 3 is 0.703434\n",
      "the recall of a model with k = 3 is 0.945493\n",
      "the score of a model with k = 4 is 0.735692\n",
      "the recall of a model with k = 4 is 0.909853\n",
      "the score of a model with k = 5 is 0.680541\n",
      "the recall of a model with k = 5 is 0.970650\n",
      "the score of a model with k = 6 is 0.715921\n",
      "the recall of a model with k = 6 is 0.941300\n",
      "the score of a model with k = 7 is 0.681582\n",
      "the recall of a model with k = 7 is 0.972746\n",
      "the score of a model with k = 8 is 0.702393\n",
      "the recall of a model with k = 8 is 0.953878\n",
      "the score of a model with k = 9 is 0.665973\n",
      "the recall of a model with k = 9 is 0.974843\n",
      "the score of a model with k = 3 is 0.703434\n",
      "the recall of a model with k = 3 is 0.945493\n",
      "              precision    recall  f1-score   support\n",
      "\n",
      "           0       0.90      0.46      0.61       484\n",
      "           1       0.64      0.95      0.76       477\n",
      "\n",
      "    accuracy                           0.70       961\n",
      "   macro avg       0.77      0.71      0.69       961\n",
      "weighted avg       0.77      0.70      0.69       961\n",
      "\n"
     ]
    }
   ],
   "source": [
    "# 1.a. X_balanced_train,y_balanced_train;X_balanced_test,y_balanced_test\n",
    "from sklearn.neighbors import (NeighborhoodComponentsAnalysis,KNeighborsClassifier)\n",
    "from sklearn.model_selection import train_test_split\n",
    "from sklearn.metrics import recall_score\n",
    "from sklearn.pipeline import Pipeline\n",
    "\n",
    "for k in range(3,10):\n",
    "    nca = NeighborhoodComponentsAnalysis(random_state=42)\n",
    "    knn = KNeighborsClassifier(n_neighbors=k)\n",
    "    nca_pipe = Pipeline([('nca', nca), ('knn', knn)])\n",
    "    nca_pipe.fit(X_balanced_train, y_balanced_train)\n",
    "    pre=nca_pipe.predict(X_balanced_test)\n",
    "    # Pipeline(...)\n",
    "    print('the score of a model with k = %d is %f' % (k, nca_pipe.score(X_balanced_test, y_balanced_test)))\n",
    "    print('the recall of a model with k = %d is %f' % (k, recall_score(y_balanced_test, pre)))\n",
    "    \n",
    "    \n",
    "\n",
    "from sklearn.neighbors import (NeighborhoodComponentsAnalysis,KNeighborsClassifier)\n",
    "from sklearn.model_selection import train_test_split\n",
    "from sklearn.pipeline import Pipeline\n",
    "k=3\n",
    "nca = NeighborhoodComponentsAnalysis(random_state=42)\n",
    "knn = KNeighborsClassifier(n_neighbors=k)\n",
    "nca_pipe = Pipeline([('nca', nca), ('knn', knn)])\n",
    "nca_pipe.fit(X_balanced_train, y_balanced_train)\n",
    "# Pipeline(...)\n",
    "pre=nca_pipe.predict(X_balanced_test)\n",
    "# Pipeline(...)\n",
    "print('the score of a model with k = %d is %f' % (k, nca_pipe.score(X_balanced_test, y_balanced_test)))\n",
    "print('the recall of a model with k = %d is %f' % (k, recall_score(y_balanced_test, pre)))\n",
    "\n",
    "\n",
    "from sklearn.metrics import classification_report\n",
    "\n",
    "pre=nca_pipe.predict(X_balanced_test)\n",
    "print(classification_report(y_balanced_test,pre))"
   ]
  },
  {
   "cell_type": "code",
   "execution_count": 24,
   "metadata": {},
   "outputs": [
    {
     "name": "stdout",
     "output_type": "stream",
     "text": [
      "the score of a model with k = 3 is 0.634656\n",
      "the recall of a model with k = 3 is 0.853862\n",
      "the score of a model with k = 4 is 0.654489\n",
      "the recall of a model with k = 4 is 0.795407\n",
      "the score of a model with k = 5 is 0.607516\n",
      "the recall of a model with k = 5 is 0.889353\n",
      "the score of a model with k = 6 is 0.638831\n",
      "the recall of a model with k = 6 is 0.849687\n",
      "the score of a model with k = 7 is 0.603340\n",
      "the recall of a model with k = 7 is 0.903967\n",
      "the score of a model with k = 8 is 0.618998\n",
      "the recall of a model with k = 8 is 0.868476\n",
      "the score of a model with k = 9 is 0.597077\n",
      "the recall of a model with k = 9 is 0.912317\n",
      "the score of a model with k = 3 is 0.634656\n",
      "the recall of a model with k = 3 is 0.853862\n",
      "              precision    recall  f1-score   support\n",
      "\n",
      "           0       0.74      0.42      0.53       479\n",
      "           1       0.59      0.85      0.70       479\n",
      "\n",
      "    accuracy                           0.63       958\n",
      "   macro avg       0.67      0.63      0.62       958\n",
      "weighted avg       0.67      0.63      0.62       958\n",
      "\n"
     ]
    }
   ],
   "source": [
    "# 1.b.X_balanced_train,y_balanced_train;X_test_balanced,y_test_balanced \n",
    "from sklearn.neighbors import (NeighborhoodComponentsAnalysis,KNeighborsClassifier)\n",
    "from sklearn.model_selection import train_test_split\n",
    "from sklearn.metrics import recall_score\n",
    "from sklearn.pipeline import Pipeline\n",
    "\n",
    "for k in range(3,10):\n",
    "    nca = NeighborhoodComponentsAnalysis(random_state=42)\n",
    "    knn = KNeighborsClassifier(n_neighbors=k)\n",
    "    nca_pipe = Pipeline([('nca', nca), ('knn', knn)])\n",
    "    nca_pipe.fit(X_train_balanced, y_train_balanced)\n",
    "    pre=nca_pipe.predict(X_test_balanced)\n",
    "    # Pipeline(...)\n",
    "    print('the score of a model with k = %d is %f' % (k, nca_pipe.score(X_test_balanced, y_test_balanced)))\n",
    "    print('the recall of a model with k = %d is %f' % (k, recall_score(y_test_balanced, pre)))\n",
    "    \n",
    "    \n",
    "\n",
    "from sklearn.neighbors import (NeighborhoodComponentsAnalysis,KNeighborsClassifier)\n",
    "from sklearn.model_selection import train_test_split\n",
    "from sklearn.pipeline import Pipeline\n",
    "k=3\n",
    "nca = NeighborhoodComponentsAnalysis(random_state=42)\n",
    "knn = KNeighborsClassifier(n_neighbors=k)\n",
    "nca_pipe = Pipeline([('nca', nca), ('knn', knn)])\n",
    "nca_pipe.fit(X_train_balanced, y_train_balanced)\n",
    "# Pipeline(...)\n",
    "pre=nca_pipe.predict(X_test_balanced)\n",
    "# Pipeline(...)\n",
    "print('the score of a model with k = %d is %f' % (k, nca_pipe.score(X_test_balanced, y_test_balanced)))\n",
    "print('the recall of a model with k = %d is %f' % (k, recall_score(y_test_balanced, pre)))\n",
    "\n",
    "\n",
    "from sklearn.metrics import classification_report\n",
    "\n",
    "pre=nca_pipe.predict(X_test_balanced)\n",
    "print(classification_report(y_test_balanced,pre))"
   ]
  },
  {
   "cell_type": "code",
   "execution_count": 50,
   "metadata": {},
   "outputs": [
    {
     "name": "stdout",
     "output_type": "stream",
     "text": [
      "the score of a model with k = 3 is 0.478333\n",
      "the recall of a model with k = 3 is 0.727273\n",
      "the score of a model with k = 4 is 0.535000\n",
      "the recall of a model with k = 4 is 0.619835\n",
      "the score of a model with k = 5 is 0.415000\n",
      "the recall of a model with k = 5 is 0.768595\n",
      "the score of a model with k = 6 is 0.480000\n",
      "the recall of a model with k = 6 is 0.685950\n",
      "the score of a model with k = 7 is 0.396667\n",
      "the recall of a model with k = 7 is 0.768595\n",
      "the score of a model with k = 8 is 0.436667\n",
      "the recall of a model with k = 8 is 0.702479\n",
      "the score of a model with k = 9 is 0.388333\n",
      "the recall of a model with k = 9 is 0.809917\n",
      "the score of a model with k = 3 is 0.478333\n",
      "the recall of a model with k = 3 is 0.727273\n",
      "              precision    recall  f1-score   support\n",
      "\n",
      "           0       0.86      0.42      0.56       479\n",
      "           1       0.24      0.73      0.36       121\n",
      "\n",
      "    accuracy                           0.48       600\n",
      "   macro avg       0.55      0.57      0.46       600\n",
      "weighted avg       0.73      0.48      0.52       600\n",
      "\n"
     ]
    }
   ],
   "source": [
    "# 2. X_train_balanced.y_train_balanced;X_test,Y_test\n",
    "\n",
    "from sklearn.neighbors import (NeighborhoodComponentsAnalysis,KNeighborsClassifier)\n",
    "from sklearn.model_selection import train_test_split\n",
    "from sklearn.metrics import recall_score\n",
    "from sklearn.pipeline import Pipeline\n",
    "\n",
    "for k in range(3,10):\n",
    "    nca = NeighborhoodComponentsAnalysis(random_state=42)\n",
    "    knn = KNeighborsClassifier(n_neighbors=k)\n",
    "    nca_pipe = Pipeline([('nca', nca), ('knn', knn)])\n",
    "    nca_pipe.fit(X_train_balanced, y_train_balanced)\n",
    "    pre=nca_pipe.predict(X_test)\n",
    "    # Pipeline(...)\n",
    "    print('the score of a model with k = %d is %f' % (k, nca_pipe.score(X_test, Y_test)))\n",
    "    print('the recall of a model with k = %d is %f' % (k, recall_score(Y_test, pre)))\n",
    "    \n",
    "    \n",
    "\n",
    "from sklearn.neighbors import (NeighborhoodComponentsAnalysis,KNeighborsClassifier)\n",
    "from sklearn.model_selection import train_test_split\n",
    "from sklearn.pipeline import Pipeline\n",
    "k=3\n",
    "nca = NeighborhoodComponentsAnalysis(random_state=42)\n",
    "knn = KNeighborsClassifier(n_neighbors=k)\n",
    "nca_pipe = Pipeline([('nca', nca), ('knn', knn)])\n",
    "nca_pipe.fit(X_train_balanced, y_train_balanced)\n",
    "# Pipeline(...)\n",
    "pre=nca_pipe.predict(X_test)\n",
    "# Pipeline(...)\n",
    "print('the score of a model with k = %d is %f' % (k, nca_pipe.score(X_test, Y_test)))\n",
    "print('the recall of a model with k = %d is %f' % (k, recall_score(Y_test, pre)))\n",
    "\n",
    "\n",
    "from sklearn.metrics import classification_report\n",
    "\n",
    "pre=nca_pipe.predict(X_test)\n",
    "print(classification_report(Y_test,pre))"
   ]
  },
  {
   "cell_type": "code",
   "execution_count": 25,
   "metadata": {},
   "outputs": [
    {
     "name": "stdout",
     "output_type": "stream",
     "text": [
      "the score of a model with k = 3 is 0.776667\n",
      "the recall of a model with k = 3 is 0.223140\n",
      "the score of a model with k = 4 is 0.800000\n",
      "the recall of a model with k = 4 is 0.090909\n",
      "the score of a model with k = 5 is 0.786667\n",
      "the recall of a model with k = 5 is 0.148760\n",
      "the score of a model with k = 6 is 0.800000\n",
      "the recall of a model with k = 6 is 0.082645\n",
      "the score of a model with k = 7 is 0.790000\n",
      "the recall of a model with k = 7 is 0.115702\n",
      "the score of a model with k = 8 is 0.810000\n",
      "the recall of a model with k = 8 is 0.082645\n",
      "the score of a model with k = 9 is 0.803333\n",
      "the recall of a model with k = 9 is 0.132231\n",
      "the score of a model with k = 3 is 0.776667\n",
      "the recall of a model with k = 3 is 0.223140\n",
      "              precision    recall  f1-score   support\n",
      "\n",
      "           0       0.82      0.92      0.87       479\n",
      "           1       0.40      0.22      0.29       121\n",
      "\n",
      "    accuracy                           0.78       600\n",
      "   macro avg       0.61      0.57      0.58       600\n",
      "weighted avg       0.74      0.78      0.75       600\n",
      "\n"
     ]
    }
   ],
   "source": [
    "#3 X_train,Y_train; X_test,Y_test\n",
    "from sklearn.neighbors import (NeighborhoodComponentsAnalysis,KNeighborsClassifier)\n",
    "from sklearn.model_selection import train_test_split\n",
    "from sklearn.metrics import recall_score\n",
    "from sklearn.pipeline import Pipeline\n",
    "\n",
    "for k in range(3,10):\n",
    "    nca = NeighborhoodComponentsAnalysis(random_state=42)\n",
    "    knn = KNeighborsClassifier(n_neighbors=k)\n",
    "    nca_pipe = Pipeline([('nca', nca), ('knn', knn)])\n",
    "    nca_pipe.fit(X_train, Y_train)\n",
    "    pre=nca_pipe.predict(X_test)\n",
    "    # Pipeline(...)\n",
    "    print('the score of a model with k = %d is %f' % (k, nca_pipe.score(X_test, Y_test)))\n",
    "    print('the recall of a model with k = %d is %f' % (k, recall_score(Y_test, pre)))\n",
    "    \n",
    "    \n",
    "\n",
    "from sklearn.neighbors import (NeighborhoodComponentsAnalysis,KNeighborsClassifier)\n",
    "from sklearn.model_selection import train_test_split\n",
    "from sklearn.pipeline import Pipeline\n",
    "k=3\n",
    "nca = NeighborhoodComponentsAnalysis(random_state=42)\n",
    "knn = KNeighborsClassifier(n_neighbors=k)\n",
    "nca_pipe = Pipeline([('nca', nca), ('knn', knn)])\n",
    "nca_pipe.fit(X_train, Y_train)\n",
    "# Pipeline(...)\n",
    "pre=nca_pipe.predict(X_test)\n",
    "# Pipeline(...)\n",
    "print('the score of a model with k = %d is %f' % (k, nca_pipe.score(X_test, Y_test)))\n",
    "print('the recall of a model with k = %d is %f' % (k, recall_score(Y_test, pre)))\n",
    "\n",
    "\n",
    "from sklearn.metrics import classification_report\n",
    "\n",
    "pre=nca_pipe.predict(X_test)\n",
    "print(classification_report(Y_test,pre))"
   ]
  },
  {
   "cell_type": "code",
   "execution_count": null,
   "metadata": {},
   "outputs": [],
   "source": []
  },
  {
   "cell_type": "markdown",
   "metadata": {},
   "source": [
    "# Stochastic Gradient Descent"
   ]
  },
  {
   "cell_type": "code",
   "execution_count": 26,
   "metadata": {},
   "outputs": [
    {
     "name": "stdout",
     "output_type": "stream",
     "text": [
      "Training  model takes 11.161 seconds\n",
      "Predicting test data takes 0.011 seconds\n",
      "              precision    recall  f1-score   support\n",
      "\n",
      "           0       0.78      0.77      0.78       484\n",
      "           1       0.77      0.78      0.78       477\n",
      "\n",
      "    accuracy                           0.78       961\n",
      "   macro avg       0.78      0.78      0.78       961\n",
      "weighted avg       0.78      0.78      0.78       961\n",
      "\n"
     ]
    }
   ],
   "source": [
    "# 1.a.X_balanced_train,y_balanced_train;X_balanced_test,y_balanced_test\n",
    "# SGD with penalty=l1\n",
    "from sklearn.linear_model import SGDClassifier\n",
    "\n",
    "clf = SGDClassifier(loss=\"log\", penalty=\"l1\", max_iter=200, shuffle=True, class_weight='balanced')\n",
    "start_time=time.time()\n",
    "clf.fit(X_balanced_train, y_balanced_train)\n",
    "print(\"Training  model takes %s seconds\" % round((time.time() - start_time),3))\n",
    "\n",
    "from sklearn.metrics import classification_report\n",
    "start = time.time()\n",
    "pre=clf.predict(X_balanced_test)\n",
    "end = time.time()\n",
    "print(\"Predicting test data takes %s seconds\" % round((end - start),3))\n",
    "print(classification_report(y_balanced_test,pre))"
   ]
  },
  {
   "cell_type": "code",
   "execution_count": 27,
   "metadata": {},
   "outputs": [
    {
     "name": "stdout",
     "output_type": "stream",
     "text": [
      "Training  model takes 14.668 seconds\n",
      "Predicting test data takes 0.008 seconds\n",
      "              precision    recall  f1-score   support\n",
      "\n",
      "           0       0.58      0.68      0.63       479\n",
      "           1       0.62      0.51      0.56       479\n",
      "\n",
      "    accuracy                           0.59       958\n",
      "   macro avg       0.60      0.59      0.59       958\n",
      "weighted avg       0.60      0.59      0.59       958\n",
      "\n"
     ]
    }
   ],
   "source": [
    "# 1.b.X_balanced_train,y_balanced_train;X_test_balanced,y_test_balanced \n",
    "\n",
    "# SGD with penalty=l1\n",
    "from sklearn.linear_model import SGDClassifier\n",
    "\n",
    "clf = SGDClassifier(loss=\"log\", penalty=\"l1\", max_iter=200, shuffle=True, class_weight='balanced')\n",
    "start_time=time.time()\n",
    "clf.fit(X_train_balanced, y_train_balanced)\n",
    "print(\"Training  model takes %s seconds\" % round((time.time() - start_time),3))\n",
    "\n",
    "from sklearn.metrics import classification_report\n",
    "start = time.time()\n",
    "pre=clf.predict(X_test_balanced)\n",
    "end = time.time()\n",
    "print(\"Predicting test data takes %s seconds\" % round((end - start),3))\n",
    "print(classification_report(y_test_balanced,pre))"
   ]
  },
  {
   "cell_type": "code",
   "execution_count": 51,
   "metadata": {},
   "outputs": [
    {
     "name": "stdout",
     "output_type": "stream",
     "text": [
      "Training  model takes 14.668 seconds\n",
      "Predicting test data takes 0.089 seconds\n",
      "              precision    recall  f1-score   support\n",
      "\n",
      "           0       0.52      0.94      0.67       479\n",
      "           1       0.68      0.13      0.22       479\n",
      "\n",
      "    accuracy                           0.53       958\n",
      "   macro avg       0.60      0.53      0.44       958\n",
      "weighted avg       0.60      0.53      0.44       958\n",
      "\n"
     ]
    }
   ],
   "source": [
    "# 2. X_train_balanced.y_train_balanced;X_test,Y_test\n",
    "\n",
    "# SGD with penalty=l1\n",
    "from sklearn.linear_model import SGDClassifier\n",
    "\n",
    "clf = SGDClassifier(loss=\"log\", penalty=\"l1\", max_iter=200, shuffle=True, class_weight='balanced')\n",
    "start_time=time.time()\n",
    "clf.fit(X_train_balanced, y_train_balanced)\n",
    "print(\"Training  model takes %s seconds\" % round((time.time() - start_time),3))\n",
    "\n",
    "from sklearn.metrics import classification_report\n",
    "start = time.time()\n",
    "pre=clf.predict(X_test_balanced)\n",
    "end = time.time()\n",
    "print(\"Predicting test data takes %s seconds\" % round((end - start),3))\n",
    "print(classification_report(y_test_balanced,pre))"
   ]
  },
  {
   "cell_type": "code",
   "execution_count": 28,
   "metadata": {},
   "outputs": [
    {
     "name": "stdout",
     "output_type": "stream",
     "text": [
      "Training  model takes 5.325 seconds\n",
      "Predicting test data takes 0.005 seconds\n",
      "              precision    recall  f1-score   support\n",
      "\n",
      "           0       0.95      0.42      0.58       479\n",
      "           1       0.28      0.91      0.43       121\n",
      "\n",
      "    accuracy                           0.52       600\n",
      "   macro avg       0.62      0.66      0.51       600\n",
      "weighted avg       0.81      0.52      0.55       600\n",
      "\n"
     ]
    }
   ],
   "source": [
    "#3 X_train,Y_train; X_test,Y_test\n",
    "\n",
    "# SGD with penalty=l1\n",
    "from sklearn.linear_model import SGDClassifier\n",
    "\n",
    "clf = SGDClassifier(loss=\"log\", penalty=\"l1\", max_iter=200, shuffle=True, class_weight='balanced')\n",
    "start_time=time.time()\n",
    "clf.fit(X_train, Y_train)\n",
    "print(\"Training  model takes %s seconds\" % round((time.time() - start_time),3))\n",
    "\n",
    "from sklearn.metrics import classification_report\n",
    "start = time.time()\n",
    "pre=clf.predict(X_test)\n",
    "end = time.time()\n",
    "print(\"Predicting test data takes %s seconds\" % round((end - start),3))\n",
    "print(classification_report(Y_test,pre))"
   ]
  },
  {
   "cell_type": "code",
   "execution_count": null,
   "metadata": {},
   "outputs": [],
   "source": []
  },
  {
   "cell_type": "code",
   "execution_count": 29,
   "metadata": {},
   "outputs": [
    {
     "name": "stdout",
     "output_type": "stream",
     "text": [
      "Training  model takes 5.304 seconds\n",
      "Predicting test data takes 0.007 seconds\n",
      "              precision    recall  f1-score   support\n",
      "\n",
      "           0       0.50      1.00      0.67       484\n",
      "           1       1.00      0.00      0.00       477\n",
      "\n",
      "    accuracy                           0.50       961\n",
      "   macro avg       0.75      0.50      0.34       961\n",
      "weighted avg       0.75      0.50      0.34       961\n",
      "\n"
     ]
    },
    {
     "name": "stderr",
     "output_type": "stream",
     "text": [
      "C:\\Users\\liqia\\anaconda3\\lib\\site-packages\\sklearn\\linear_model\\_stochastic_gradient.py:574: ConvergenceWarning: Maximum number of iteration reached before convergence. Consider increasing max_iter to improve the fit.\n",
      "  warnings.warn(\"Maximum number of iteration reached before \"\n"
     ]
    }
   ],
   "source": [
    "# 1.a. X_balanced_train,y_balanced_train;X_balanced_test,y_balanced_test\n",
    "# SGD with penalty=12\n",
    "from sklearn.linear_model import SGDClassifier\n",
    "\n",
    "clf = SGDClassifier(loss=\"log\", penalty=\"l2\", max_iter=200, shuffle=True, class_weight='balanced')\n",
    "start_time=time.time()\n",
    "clf.fit(X_balanced_train, y_balanced_train)\n",
    "print(\"Training  model takes %s seconds\" % round((time.time() - start_time),3))\n",
    "\n",
    "from sklearn.metrics import classification_report\n",
    "start = time.time()\n",
    "pre=clf.predict(X_balanced_test)\n",
    "end = time.time()\n",
    "print(\"Predicting test data takes %s seconds\" % round((end - start),3))\n",
    "print(classification_report(y_balanced_test,pre))"
   ]
  },
  {
   "cell_type": "code",
   "execution_count": 30,
   "metadata": {},
   "outputs": [
    {
     "name": "stdout",
     "output_type": "stream",
     "text": [
      "Training  model takes 4.624 seconds\n",
      "Predicting test data takes 0.01 seconds\n",
      "              precision    recall  f1-score   support\n",
      "\n",
      "           0       0.52      0.94      0.67       479\n",
      "           1       0.68      0.12      0.20       479\n",
      "\n",
      "    accuracy                           0.53       958\n",
      "   macro avg       0.60      0.53      0.44       958\n",
      "weighted avg       0.60      0.53      0.44       958\n",
      "\n"
     ]
    }
   ],
   "source": [
    "# 1.b.X_balanced_train,y_balanced_train;X_test_balanced,y_test_balanced \n",
    "# SGD with penalty=12\n",
    "from sklearn.linear_model import SGDClassifier\n",
    "\n",
    "clf = SGDClassifier(loss=\"log\", penalty=\"l2\", max_iter=200, shuffle=True, class_weight='balanced')\n",
    "start_time=time.time()\n",
    "clf.fit(X_train_balanced, y_train_balanced)\n",
    "print(\"Training  model takes %s seconds\" % round((time.time() - start_time),3))\n",
    "\n",
    "from sklearn.metrics import classification_report\n",
    "start = time.time()\n",
    "pre=clf.predict(X_test_balanced)\n",
    "end = time.time()\n",
    "print(\"Predicting test data takes %s seconds\" % round((end - start),3))\n",
    "print(classification_report(y_test_balanced,pre))"
   ]
  },
  {
   "cell_type": "code",
   "execution_count": 52,
   "metadata": {},
   "outputs": [
    {
     "name": "stdout",
     "output_type": "stream",
     "text": [
      "Training  model takes 4.285 seconds\n",
      "Predicting test data takes 0.0 seconds\n",
      "              precision    recall  f1-score   support\n",
      "\n",
      "           0       1.00      0.02      0.04       479\n",
      "           1       0.20      1.00      0.34       121\n",
      "\n",
      "    accuracy                           0.22       600\n",
      "   macro avg       0.60      0.51      0.19       600\n",
      "weighted avg       0.84      0.22      0.10       600\n",
      "\n"
     ]
    }
   ],
   "source": [
    "# 2. X_train_balanced.y_train_balanced;X_test,Y_test\n",
    "# SGD with penalty=12\n",
    "from sklearn.linear_model import SGDClassifier\n",
    "\n",
    "clf = SGDClassifier(loss=\"log\", penalty=\"l2\", max_iter=200, shuffle=True, class_weight='balanced')\n",
    "start_time=time.time()\n",
    "clf.fit(X_train_balanced, y_train_balanced)\n",
    "print(\"Training  model takes %s seconds\" % round((time.time() - start_time),3))\n",
    "\n",
    "from sklearn.metrics import classification_report\n",
    "start = time.time()\n",
    "pre=clf.predict(X_test)\n",
    "end = time.time()\n",
    "print(\"Predicting test data takes %s seconds\" % round((end - start),3))\n",
    "print(classification_report(Y_test,pre))"
   ]
  },
  {
   "cell_type": "code",
   "execution_count": 31,
   "metadata": {},
   "outputs": [
    {
     "name": "stdout",
     "output_type": "stream",
     "text": [
      "Training  model takes 1.543 seconds\n",
      "Predicting test data takes 0.016 seconds\n",
      "              precision    recall  f1-score   support\n",
      "\n",
      "           0       0.87      0.83      0.85       479\n",
      "           1       0.42      0.49      0.45       121\n",
      "\n",
      "    accuracy                           0.76       600\n",
      "   macro avg       0.64      0.66      0.65       600\n",
      "weighted avg       0.78      0.76      0.77       600\n",
      "\n"
     ]
    }
   ],
   "source": [
    "#3 X_train,Y_train; X_test,Y_test\n",
    "\n",
    "# SGD with penalty=12\n",
    "from sklearn.linear_model import SGDClassifier\n",
    "\n",
    "clf = SGDClassifier(loss=\"log\", penalty=\"l2\", max_iter=200, shuffle=True, class_weight='balanced')\n",
    "start_time=time.time()\n",
    "clf.fit(X_train, Y_train)\n",
    "print(\"Training  model takes %s seconds\" % round((time.time() - start_time),3))\n",
    "\n",
    "from sklearn.metrics import classification_report\n",
    "start = time.time()\n",
    "pre=clf.predict(X_test)\n",
    "end = time.time()\n",
    "print(\"Predicting test data takes %s seconds\" % round((end - start),3))\n",
    "print(classification_report(Y_test,pre))"
   ]
  },
  {
   "cell_type": "code",
   "execution_count": null,
   "metadata": {},
   "outputs": [],
   "source": []
  },
  {
   "cell_type": "markdown",
   "metadata": {},
   "source": [
    "# Neural Networks"
   ]
  },
  {
   "cell_type": "code",
   "execution_count": 32,
   "metadata": {},
   "outputs": [
    {
     "name": "stdout",
     "output_type": "stream",
     "text": [
      "Training  model takes 0.489 seconds\n",
      "Predicting test data takes 0.01 seconds\n",
      "              precision    recall  f1-score   support\n",
      "\n",
      "           0       0.00      0.00      0.00       484\n",
      "           1       0.50      1.00      0.66       477\n",
      "\n",
      "    accuracy                           0.50       961\n",
      "   macro avg       0.25      0.50      0.33       961\n",
      "weighted avg       0.25      0.50      0.33       961\n",
      "\n"
     ]
    },
    {
     "name": "stderr",
     "output_type": "stream",
     "text": [
      "C:\\Users\\liqia\\anaconda3\\lib\\site-packages\\sklearn\\metrics\\_classification.py:1245: UndefinedMetricWarning: Precision and F-score are ill-defined and being set to 0.0 in labels with no predicted samples. Use `zero_division` parameter to control this behavior.\n",
      "  _warn_prf(average, modifier, msg_start, len(result))\n",
      "C:\\Users\\liqia\\anaconda3\\lib\\site-packages\\sklearn\\metrics\\_classification.py:1245: UndefinedMetricWarning: Precision and F-score are ill-defined and being set to 0.0 in labels with no predicted samples. Use `zero_division` parameter to control this behavior.\n",
      "  _warn_prf(average, modifier, msg_start, len(result))\n",
      "C:\\Users\\liqia\\anaconda3\\lib\\site-packages\\sklearn\\metrics\\_classification.py:1245: UndefinedMetricWarning: Precision and F-score are ill-defined and being set to 0.0 in labels with no predicted samples. Use `zero_division` parameter to control this behavior.\n",
      "  _warn_prf(average, modifier, msg_start, len(result))\n"
     ]
    }
   ],
   "source": [
    "# 1.a. X_balanced_train,y_balanced_train;X_balanced_test,y_balanced_test\n",
    "from sklearn.neural_network import MLPClassifier\n",
    "\n",
    "clf = MLPClassifier(activation='relu', alpha=1e-05, batch_size='auto',\n",
    "              beta_1=0.9, beta_2=0.999, early_stopping=False,\n",
    "              epsilon=1e-08, hidden_layer_sizes=(5,2),\n",
    "              learning_rate='constant', learning_rate_init=0.001,\n",
    "              max_iter=200, momentum=0.9, n_iter_no_change=10,\n",
    "              nesterovs_momentum=True, power_t=0.5, random_state=2,\n",
    "              shuffle=True, solver='lbfgs', tol=0.0001,\n",
    "              validation_fraction=0.1, verbose=False, warm_start=False)\n",
    "start_time=time.time()\n",
    "clf.fit(X_balanced_train, y_balanced_train)\n",
    "print(\"Training  model takes %s seconds\" % round((time.time() - start_time),3))\n",
    "\n",
    "from sklearn.metrics import classification_report\n",
    "start = time.time()\n",
    "pre=clf.predict(X_balanced_test)\n",
    "end = time.time()\n",
    "print(\"Predicting test data takes %s seconds\" % round((end - start),3))\n",
    "print(classification_report(y_balanced_test,pre))"
   ]
  },
  {
   "cell_type": "code",
   "execution_count": 33,
   "metadata": {},
   "outputs": [
    {
     "name": "stdout",
     "output_type": "stream",
     "text": [
      "Training  model takes 0.423 seconds\n",
      "Predicting test data takes 0.01 seconds\n",
      "              precision    recall  f1-score   support\n",
      "\n",
      "           0       0.50      1.00      0.67       479\n",
      "           1       0.00      0.00      0.00       479\n",
      "\n",
      "    accuracy                           0.50       958\n",
      "   macro avg       0.25      0.50      0.33       958\n",
      "weighted avg       0.25      0.50      0.33       958\n",
      "\n"
     ]
    },
    {
     "name": "stderr",
     "output_type": "stream",
     "text": [
      "C:\\Users\\liqia\\anaconda3\\lib\\site-packages\\sklearn\\metrics\\_classification.py:1245: UndefinedMetricWarning: Precision and F-score are ill-defined and being set to 0.0 in labels with no predicted samples. Use `zero_division` parameter to control this behavior.\n",
      "  _warn_prf(average, modifier, msg_start, len(result))\n",
      "C:\\Users\\liqia\\anaconda3\\lib\\site-packages\\sklearn\\metrics\\_classification.py:1245: UndefinedMetricWarning: Precision and F-score are ill-defined and being set to 0.0 in labels with no predicted samples. Use `zero_division` parameter to control this behavior.\n",
      "  _warn_prf(average, modifier, msg_start, len(result))\n",
      "C:\\Users\\liqia\\anaconda3\\lib\\site-packages\\sklearn\\metrics\\_classification.py:1245: UndefinedMetricWarning: Precision and F-score are ill-defined and being set to 0.0 in labels with no predicted samples. Use `zero_division` parameter to control this behavior.\n",
      "  _warn_prf(average, modifier, msg_start, len(result))\n"
     ]
    }
   ],
   "source": [
    "# 1. b.X_balanced_train,y_balanced_train;X_test_balanced,y_test_balanced \n",
    "\n",
    "from sklearn.neural_network import MLPClassifier\n",
    "\n",
    "clf = MLPClassifier(activation='relu', alpha=1e-05, batch_size='auto',\n",
    "              beta_1=0.9, beta_2=0.999, early_stopping=False,\n",
    "              epsilon=1e-08, hidden_layer_sizes=(5,2),\n",
    "              learning_rate='constant', learning_rate_init=0.001,\n",
    "              max_iter=200, momentum=0.9, n_iter_no_change=10,\n",
    "              nesterovs_momentum=True, power_t=0.5, random_state=2,\n",
    "              shuffle=True, solver='lbfgs', tol=0.0001,\n",
    "              validation_fraction=0.1, verbose=False, warm_start=False)\n",
    "start_time=time.time()\n",
    "clf.fit(X_train_balanced, y_train_balanced)\n",
    "print(\"Training  model takes %s seconds\" % round((time.time() - start_time),3))\n",
    "\n",
    "from sklearn.metrics import classification_report\n",
    "start = time.time()\n",
    "pre=clf.predict(X_test_balanced)\n",
    "end = time.time()\n",
    "print(\"Predicting test data takes %s seconds\" % round((end - start),3))\n",
    "print(classification_report(y_test_balanced,pre))"
   ]
  },
  {
   "cell_type": "code",
   "execution_count": 53,
   "metadata": {},
   "outputs": [
    {
     "name": "stdout",
     "output_type": "stream",
     "text": [
      "Training  model takes 0.521 seconds\n",
      "Predicting test data takes 0.013 seconds\n",
      "              precision    recall  f1-score   support\n",
      "\n",
      "           0       0.80      1.00      0.89       479\n",
      "           1       0.00      0.00      0.00       121\n",
      "\n",
      "    accuracy                           0.80       600\n",
      "   macro avg       0.40      0.50      0.44       600\n",
      "weighted avg       0.64      0.80      0.71       600\n",
      "\n"
     ]
    },
    {
     "name": "stderr",
     "output_type": "stream",
     "text": [
      "C:\\Users\\liqia\\anaconda3\\lib\\site-packages\\sklearn\\metrics\\_classification.py:1245: UndefinedMetricWarning: Precision and F-score are ill-defined and being set to 0.0 in labels with no predicted samples. Use `zero_division` parameter to control this behavior.\n",
      "  _warn_prf(average, modifier, msg_start, len(result))\n",
      "C:\\Users\\liqia\\anaconda3\\lib\\site-packages\\sklearn\\metrics\\_classification.py:1245: UndefinedMetricWarning: Precision and F-score are ill-defined and being set to 0.0 in labels with no predicted samples. Use `zero_division` parameter to control this behavior.\n",
      "  _warn_prf(average, modifier, msg_start, len(result))\n",
      "C:\\Users\\liqia\\anaconda3\\lib\\site-packages\\sklearn\\metrics\\_classification.py:1245: UndefinedMetricWarning: Precision and F-score are ill-defined and being set to 0.0 in labels with no predicted samples. Use `zero_division` parameter to control this behavior.\n",
      "  _warn_prf(average, modifier, msg_start, len(result))\n"
     ]
    }
   ],
   "source": [
    "# 2. X_train_balanced.y_train_balanced;X_test,Y_test\n",
    "from sklearn.neural_network import MLPClassifier\n",
    "\n",
    "clf = MLPClassifier(activation='relu', alpha=1e-05, batch_size='auto',\n",
    "              beta_1=0.9, beta_2=0.999, early_stopping=False,\n",
    "              epsilon=1e-08, hidden_layer_sizes=(5,2),\n",
    "              learning_rate='constant', learning_rate_init=0.001,\n",
    "              max_iter=200, momentum=0.9, n_iter_no_change=10,\n",
    "              nesterovs_momentum=True, power_t=0.5, random_state=2,\n",
    "              shuffle=True, solver='lbfgs', tol=0.0001,\n",
    "              validation_fraction=0.1, verbose=False, warm_start=False)\n",
    "start_time=time.time()\n",
    "clf.fit(X_train_balanced, y_train_balanced)\n",
    "print(\"Training  model takes %s seconds\" % round((time.time() - start_time),3))\n",
    "\n",
    "from sklearn.metrics import classification_report\n",
    "start = time.time()\n",
    "pre=clf.predict(X_test)\n",
    "end = time.time()\n",
    "print(\"Predicting test data takes %s seconds\" % round((end - start),3))\n",
    "print(classification_report(Y_test,pre))"
   ]
  },
  {
   "cell_type": "code",
   "execution_count": 34,
   "metadata": {},
   "outputs": [
    {
     "name": "stdout",
     "output_type": "stream",
     "text": [
      "Training  model takes 0.384 seconds\n",
      "Predicting test data takes 0.01 seconds\n",
      "              precision    recall  f1-score   support\n",
      "\n",
      "           0       0.80      1.00      0.89       479\n",
      "           1       0.00      0.00      0.00       121\n",
      "\n",
      "    accuracy                           0.80       600\n",
      "   macro avg       0.40      0.50      0.44       600\n",
      "weighted avg       0.64      0.80      0.71       600\n",
      "\n"
     ]
    },
    {
     "name": "stderr",
     "output_type": "stream",
     "text": [
      "C:\\Users\\liqia\\anaconda3\\lib\\site-packages\\sklearn\\metrics\\_classification.py:1245: UndefinedMetricWarning: Precision and F-score are ill-defined and being set to 0.0 in labels with no predicted samples. Use `zero_division` parameter to control this behavior.\n",
      "  _warn_prf(average, modifier, msg_start, len(result))\n",
      "C:\\Users\\liqia\\anaconda3\\lib\\site-packages\\sklearn\\metrics\\_classification.py:1245: UndefinedMetricWarning: Precision and F-score are ill-defined and being set to 0.0 in labels with no predicted samples. Use `zero_division` parameter to control this behavior.\n",
      "  _warn_prf(average, modifier, msg_start, len(result))\n",
      "C:\\Users\\liqia\\anaconda3\\lib\\site-packages\\sklearn\\metrics\\_classification.py:1245: UndefinedMetricWarning: Precision and F-score are ill-defined and being set to 0.0 in labels with no predicted samples. Use `zero_division` parameter to control this behavior.\n",
      "  _warn_prf(average, modifier, msg_start, len(result))\n"
     ]
    }
   ],
   "source": [
    "#3 X_train,Y_train; X_test,Y_test\n",
    "\n",
    "from sklearn.neural_network import MLPClassifier\n",
    "\n",
    "clf = MLPClassifier(activation='relu', alpha=1e-05, batch_size='auto',\n",
    "              beta_1=0.9, beta_2=0.999, early_stopping=False,\n",
    "              epsilon=1e-08, hidden_layer_sizes=(5,2),\n",
    "              learning_rate='constant', learning_rate_init=0.001,\n",
    "              max_iter=200, momentum=0.9, n_iter_no_change=10,\n",
    "              nesterovs_momentum=True, power_t=0.5, random_state=2,\n",
    "              shuffle=True, solver='lbfgs', tol=0.0001,\n",
    "              validation_fraction=0.1, verbose=False, warm_start=False)\n",
    "start_time=time.time()\n",
    "clf.fit(X_train, Y_train)\n",
    "print(\"Training  model takes %s seconds\" % round((time.time() - start_time),3))\n",
    "\n",
    "from sklearn.metrics import classification_report\n",
    "start = time.time()\n",
    "pre=clf.predict(X_test)\n",
    "end = time.time()\n",
    "print(\"Predicting test data takes %s seconds\" % round((end - start),3))\n",
    "print(classification_report(Y_test,pre))"
   ]
  },
  {
   "cell_type": "code",
   "execution_count": null,
   "metadata": {},
   "outputs": [],
   "source": []
  },
  {
   "cell_type": "markdown",
   "metadata": {},
   "source": [
    "# Decision Tree"
   ]
  },
  {
   "cell_type": "code",
   "execution_count": 35,
   "metadata": {},
   "outputs": [
    {
     "name": "stdout",
     "output_type": "stream",
     "text": [
      "Training  model takes 5.108 seconds\n",
      "Predicting test data takes 0.011 seconds\n",
      "              precision    recall  f1-score   support\n",
      "\n",
      "           0       0.73      0.47      0.57       484\n",
      "           1       0.61      0.82      0.70       477\n",
      "\n",
      "    accuracy                           0.65       961\n",
      "   macro avg       0.67      0.65      0.63       961\n",
      "weighted avg       0.67      0.65      0.63       961\n",
      "\n"
     ]
    }
   ],
   "source": [
    "# 1.a. X_balanced_train,y_balanced_train;X_balanced_test,y_balanced_test\n",
    "from sklearn import tree\n",
    "\n",
    "clf = tree.DecisionTreeClassifier(max_depth = 30, min_samples_leaf=2, max_leaf_nodes=3, class_weight='balanced')\n",
    "start_time=time.time()\n",
    "clf = clf.fit(X_balanced_train, y_balanced_train)\n",
    "print(\"Training  model takes %s seconds\" % round((time.time() - start_time),3))\n",
    "\n",
    "from sklearn.metrics import classification_report\n",
    "start = time.time()\n",
    "pre=clf.predict(X_balanced_test)\n",
    "end = time.time()\n",
    "print(\"Predicting test data takes %s seconds\" % round((end - start),3))\n",
    "print(classification_report(y_balanced_test,pre))"
   ]
  },
  {
   "cell_type": "code",
   "execution_count": 36,
   "metadata": {},
   "outputs": [
    {
     "name": "stdout",
     "output_type": "stream",
     "text": [
      "Training  model takes 5.134 seconds\n",
      "Predicting test data takes 0.008 seconds\n",
      "              precision    recall  f1-score   support\n",
      "\n",
      "           0       0.72      0.27      0.39       479\n",
      "           1       0.55      0.90      0.68       479\n",
      "\n",
      "    accuracy                           0.58       958\n",
      "   macro avg       0.64      0.58      0.54       958\n",
      "weighted avg       0.64      0.58      0.54       958\n",
      "\n"
     ]
    }
   ],
   "source": [
    "# 1. b.X_balanced_train,y_balanced_train;X_test_balanced,y_test_balanced \n",
    "\n",
    "from sklearn import tree\n",
    "\n",
    "clf = tree.DecisionTreeClassifier(max_depth = 30, min_samples_leaf=2, max_leaf_nodes=3, class_weight='balanced')\n",
    "start_time=time.time()\n",
    "clf = clf.fit(X_train_balanced, y_train_balanced)\n",
    "print(\"Training  model takes %s seconds\" % round((time.time() - start_time),3))\n",
    "\n",
    "from sklearn.metrics import classification_report\n",
    "start = time.time()\n",
    "pre=clf.predict(X_test_balanced)\n",
    "end = time.time()\n",
    "print(\"Predicting test data takes %s seconds\" % round((end - start),3))\n",
    "print(classification_report(y_test_balanced,pre))"
   ]
  },
  {
   "cell_type": "code",
   "execution_count": 54,
   "metadata": {},
   "outputs": [
    {
     "name": "stdout",
     "output_type": "stream",
     "text": [
      "Training  model takes 5.831 seconds\n",
      "Predicting test data takes 0.011 seconds\n",
      "              precision    recall  f1-score   support\n",
      "\n",
      "           0       0.91      0.27      0.42       479\n",
      "           1       0.24      0.90      0.38       121\n",
      "\n",
      "    accuracy                           0.40       600\n",
      "   macro avg       0.58      0.59      0.40       600\n",
      "weighted avg       0.78      0.40      0.41       600\n",
      "\n"
     ]
    }
   ],
   "source": [
    "# 2. X_train_balanced.y_train_balanced;X_test,Y_test\n",
    "from sklearn import tree\n",
    "\n",
    "clf = tree.DecisionTreeClassifier(max_depth = 30, min_samples_leaf=2, max_leaf_nodes=3, class_weight='balanced')\n",
    "start_time=time.time()\n",
    "clf = clf.fit(X_train_balanced, y_train_balanced)\n",
    "print(\"Training  model takes %s seconds\" % round((time.time() - start_time),3))\n",
    "\n",
    "from sklearn.metrics import classification_report\n",
    "start = time.time()\n",
    "pre=clf.predict(X_test)\n",
    "end = time.time()\n",
    "print(\"Predicting test data takes %s seconds\" % round((end - start),3))\n",
    "print(classification_report(Y_test,pre))"
   ]
  },
  {
   "cell_type": "code",
   "execution_count": 37,
   "metadata": {},
   "outputs": [
    {
     "name": "stdout",
     "output_type": "stream",
     "text": [
      "Training  model takes 2.674 seconds\n",
      "Predicting test data takes 0.01 seconds\n",
      "              precision    recall  f1-score   support\n",
      "\n",
      "           0       0.86      0.71      0.77       479\n",
      "           1       0.31      0.53      0.39       121\n",
      "\n",
      "    accuracy                           0.67       600\n",
      "   macro avg       0.58      0.62      0.58       600\n",
      "weighted avg       0.75      0.67      0.70       600\n",
      "\n"
     ]
    }
   ],
   "source": [
    "#3 X_train,Y_train; X_test,Y_test\n",
    "\n",
    "from sklearn import tree\n",
    "\n",
    "clf = tree.DecisionTreeClassifier(max_depth = 30, min_samples_leaf=2, max_leaf_nodes=3, class_weight='balanced')\n",
    "start_time=time.time()\n",
    "clf = clf.fit(X_train, Y_train)\n",
    "print(\"Training  model takes %s seconds\" % round((time.time() - start_time),3))\n",
    "\n",
    "from sklearn.metrics import classification_report\n",
    "start = time.time()\n",
    "pre=clf.predict(X_test)\n",
    "end = time.time()\n",
    "print(\"Predicting test data takes %s seconds\" % round((end - start),3))\n",
    "print(classification_report(Y_test,pre))"
   ]
  },
  {
   "cell_type": "code",
   "execution_count": null,
   "metadata": {},
   "outputs": [],
   "source": []
  },
  {
   "cell_type": "markdown",
   "metadata": {},
   "source": [
    "# Random Forest & Adaboost"
   ]
  },
  {
   "cell_type": "code",
   "execution_count": 38,
   "metadata": {},
   "outputs": [
    {
     "name": "stdout",
     "output_type": "stream",
     "text": [
      "Training  model takes 91.754 seconds\n",
      "Predicting test data takes 0.201 seconds\n",
      "              precision    recall  f1-score   support\n",
      "\n",
      "           0       0.85      0.86      0.86       484\n",
      "           1       0.86      0.85      0.85       477\n",
      "\n",
      "    accuracy                           0.86       961\n",
      "   macro avg       0.86      0.86      0.86       961\n",
      "weighted avg       0.86      0.86      0.86       961\n",
      "\n"
     ]
    }
   ],
   "source": [
    "# 1.a. X_balanced_train,y_balanced_train;X_balanced_test,y_balanced_test\n",
    "from sklearn.ensemble import RandomForestClassifier\n",
    "\n",
    "clf = RandomForestClassifier(n_estimators=300, class_weight='balanced')\n",
    "start_time=time.time()\n",
    "clf = clf.fit(X_balanced_train, y_balanced_train)\n",
    "print(\"Training  model takes %s seconds\" % round((time.time() - start_time),3))\n",
    "\n",
    "from sklearn.metrics import classification_report\n",
    "start = time.time()\n",
    "pre=clf.predict(X_balanced_test)\n",
    "end = time.time()\n",
    "print(\"Predicting test data takes %s seconds\" % round((end - start),3))\n",
    "print(classification_report(y_balanced_test,pre))"
   ]
  },
  {
   "cell_type": "code",
   "execution_count": 39,
   "metadata": {},
   "outputs": [
    {
     "name": "stdout",
     "output_type": "stream",
     "text": [
      "Training  model takes 98.876 seconds\n",
      "Predicting test data takes 0.31 seconds\n",
      "              precision    recall  f1-score   support\n",
      "\n",
      "           0       0.72      0.80      0.76       479\n",
      "           1       0.78      0.69      0.73       479\n",
      "\n",
      "    accuracy                           0.75       958\n",
      "   macro avg       0.75      0.75      0.74       958\n",
      "weighted avg       0.75      0.75      0.74       958\n",
      "\n"
     ]
    }
   ],
   "source": [
    "# 1. b.X_balanced_train,y_balanced_train;X_test_balanced,y_test_balanced \n",
    "\n",
    "from sklearn.ensemble import RandomForestClassifier\n",
    "\n",
    "clf = RandomForestClassifier(n_estimators=300, class_weight='balanced')\n",
    "start_time=time.time()\n",
    "clf = clf.fit(X_train_balanced, y_train_balanced)\n",
    "print(\"Training  model takes %s seconds\" % round((time.time() - start_time),3))\n",
    "\n",
    "from sklearn.metrics import classification_report\n",
    "start = time.time()\n",
    "pre=clf.predict(X_test_balanced)\n",
    "end = time.time()\n",
    "print(\"Predicting test data takes %s seconds\" % round((end - start),3))\n",
    "print(classification_report(y_test_balanced,pre))"
   ]
  },
  {
   "cell_type": "code",
   "execution_count": 55,
   "metadata": {},
   "outputs": [
    {
     "name": "stdout",
     "output_type": "stream",
     "text": [
      "Training  model takes 94.417 seconds\n",
      "Predicting test data takes 0.131 seconds\n",
      "              precision    recall  f1-score   support\n",
      "\n",
      "           0       0.83      0.81      0.82       479\n",
      "           1       0.32      0.36      0.33       121\n",
      "\n",
      "    accuracy                           0.71       600\n",
      "   macro avg       0.57      0.58      0.58       600\n",
      "weighted avg       0.73      0.71      0.72       600\n",
      "\n"
     ]
    }
   ],
   "source": [
    "# 2. X_train_balanced.y_train_balanced;X_test,Y_test\n",
    "from sklearn.ensemble import RandomForestClassifier\n",
    "\n",
    "clf = RandomForestClassifier(n_estimators=300, class_weight='balanced')\n",
    "start_time=time.time()\n",
    "clf = clf.fit(X_train_balanced, y_train_balanced)\n",
    "print(\"Training  model takes %s seconds\" % round((time.time() - start_time),3))\n",
    "\n",
    "from sklearn.metrics import classification_report\n",
    "start = time.time()\n",
    "pre=clf.predict(X_test)\n",
    "end = time.time()\n",
    "print(\"Predicting test data takes %s seconds\" % round((end - start),3))\n",
    "print(classification_report(Y_test,pre))"
   ]
  },
  {
   "cell_type": "code",
   "execution_count": 40,
   "metadata": {},
   "outputs": [
    {
     "name": "stdout",
     "output_type": "stream",
     "text": [
      "Training  model takes 33.408 seconds\n",
      "Predicting test data takes 0.165 seconds\n",
      "              precision    recall  f1-score   support\n",
      "\n",
      "           0       0.82      0.99      0.89       479\n",
      "           1       0.68      0.12      0.21       121\n",
      "\n",
      "    accuracy                           0.81       600\n",
      "   macro avg       0.75      0.55      0.55       600\n",
      "weighted avg       0.79      0.81      0.76       600\n",
      "\n"
     ]
    }
   ],
   "source": [
    "#3 X_train,Y_train; X_test,Y_test\n",
    "\n",
    "from sklearn.ensemble import RandomForestClassifier\n",
    "\n",
    "clf = RandomForestClassifier(n_estimators=300, class_weight='balanced')\n",
    "start_time=time.time()\n",
    "clf = clf.fit(X_train, Y_train)\n",
    "print(\"Training  model takes %s seconds\" % round((time.time() - start_time),3))\n",
    "\n",
    "from sklearn.metrics import classification_report\n",
    "start = time.time()\n",
    "pre=clf.predict(X_test)\n",
    "end = time.time()\n",
    "print(\"Predicting test data takes %s seconds\" % round((end - start),3))\n",
    "print(classification_report(Y_test,pre))"
   ]
  },
  {
   "cell_type": "code",
   "execution_count": null,
   "metadata": {},
   "outputs": [],
   "source": []
  },
  {
   "cell_type": "code",
   "execution_count": 41,
   "metadata": {},
   "outputs": [
    {
     "name": "stdout",
     "output_type": "stream",
     "text": [
      "Training  model takes 398.47 seconds\n",
      "Predicting test data takes 401.48 seconds\n",
      "              precision    recall  f1-score   support\n",
      "\n",
      "           0       0.86      0.81      0.83       484\n",
      "           1       0.82      0.87      0.84       477\n",
      "\n",
      "    accuracy                           0.84       961\n",
      "   macro avg       0.84      0.84      0.84       961\n",
      "weighted avg       0.84      0.84      0.84       961\n",
      "\n"
     ]
    }
   ],
   "source": [
    "# 1.a. X_balanced_train,y_balanced_train;X_balanced_test,y_balanced_test\n",
    "from sklearn.model_selection import cross_val_score\n",
    "from sklearn.ensemble import AdaBoostClassifier\n",
    "\n",
    "clf = AdaBoostClassifier(n_estimators=200)\n",
    "start_time=time.time()\n",
    "clf = clf.fit(X_balanced_train, y_balanced_train)\n",
    "print(\"Training  model takes %s seconds\" % round((time.time() - start_time),3))\n",
    "\n",
    "from sklearn.metrics import classification_report\n",
    "start_time=time.time()\n",
    "pre=clf.predict(X_balanced_test)\n",
    "end = time.time()\n",
    "print(\"Predicting test data takes %s seconds\" % round((end - start),3))\n",
    "print(classification_report(y_balanced_test,pre))"
   ]
  },
  {
   "cell_type": "code",
   "execution_count": 42,
   "metadata": {},
   "outputs": [
    {
     "name": "stdout",
     "output_type": "stream",
     "text": [
      "Training  model takes 432.111 seconds\n",
      "Predicting test data takes 836.371 seconds\n",
      "              precision    recall  f1-score   support\n",
      "\n",
      "           0       0.78      0.73      0.75       479\n",
      "           1       0.75      0.79      0.77       479\n",
      "\n",
      "    accuracy                           0.76       958\n",
      "   macro avg       0.76      0.76      0.76       958\n",
      "weighted avg       0.76      0.76      0.76       958\n",
      "\n"
     ]
    }
   ],
   "source": [
    "#1. b.X_balanced_train,y_balanced_train;X_test_balanced,y_test_balanced \n",
    "\n",
    "from sklearn.model_selection import cross_val_score\n",
    "from sklearn.ensemble import AdaBoostClassifier\n",
    "\n",
    "clf = AdaBoostClassifier(n_estimators=200)\n",
    "start_time=time.time()\n",
    "clf = clf.fit(X_train_balanced, y_train_balanced)\n",
    "print(\"Training  model takes %s seconds\" % round((time.time() - start_time),3))\n",
    "\n",
    "from sklearn.metrics import classification_report\n",
    "start_time=time.time()\n",
    "pre=clf.predict(X_test_balanced)\n",
    "end = time.time()\n",
    "print(\"Predicting test data takes %s seconds\" % round((end - start),3))\n",
    "print(classification_report(y_test_balanced,pre))"
   ]
  },
  {
   "cell_type": "code",
   "execution_count": 56,
   "metadata": {},
   "outputs": [
    {
     "name": "stdout",
     "output_type": "stream",
     "text": [
      "Training  model takes 386.623 seconds\n",
      "Predicting test data takes 388.423 seconds\n",
      "              precision    recall  f1-score   support\n",
      "\n",
      "           0       0.84      0.73      0.78       479\n",
      "           1       0.30      0.46      0.37       121\n",
      "\n",
      "    accuracy                           0.68       600\n",
      "   macro avg       0.57      0.60      0.57       600\n",
      "weighted avg       0.73      0.68      0.70       600\n",
      "\n"
     ]
    }
   ],
   "source": [
    "# 2. X_train_balanced.y_train_balanced;X_test,Y_test\n",
    "from sklearn.model_selection import cross_val_score\n",
    "from sklearn.ensemble import AdaBoostClassifier\n",
    "\n",
    "clf = AdaBoostClassifier(n_estimators=200)\n",
    "start_time=time.time()\n",
    "clf = clf.fit(X_train_balanced, y_train_balanced)\n",
    "print(\"Training  model takes %s seconds\" % round((time.time() - start_time),3))\n",
    "\n",
    "from sklearn.metrics import classification_report\n",
    "start_time=time.time()\n",
    "pre=clf.predict(X_test)\n",
    "end = time.time()\n",
    "print(\"Predicting test data takes %s seconds\" % round((end - start),3))\n",
    "print(classification_report(Y_test,pre))"
   ]
  },
  {
   "cell_type": "code",
   "execution_count": 43,
   "metadata": {},
   "outputs": [
    {
     "name": "stdout",
     "output_type": "stream",
     "text": [
      "Training  model takes 256.084 seconds\n",
      "Predicting test data takes 1094.426 seconds\n",
      "              precision    recall  f1-score   support\n",
      "\n",
      "           0       0.86      0.90      0.88       479\n",
      "           1       0.53      0.42      0.47       121\n",
      "\n",
      "    accuracy                           0.81       600\n",
      "   macro avg       0.69      0.66      0.67       600\n",
      "weighted avg       0.79      0.81      0.80       600\n",
      "\n"
     ]
    }
   ],
   "source": [
    "#3 X_train,Y_train; X_test,Y_test\n",
    "\n",
    "from sklearn.model_selection import cross_val_score\n",
    "from sklearn.ensemble import AdaBoostClassifier\n",
    "\n",
    "clf = AdaBoostClassifier(n_estimators=200)\n",
    "start_time=time.time()\n",
    "clf = clf.fit(X_train, Y_train)\n",
    "print(\"Training  model takes %s seconds\" % round((time.time() - start_time),3))\n",
    "\n",
    "from sklearn.metrics import classification_report\n",
    "start_time=time.time()\n",
    "pre=clf.predict(X_test)\n",
    "end = time.time()\n",
    "print(\"Predicting test data takes %s seconds\" % round((end - start),3))\n",
    "print(classification_report(Y_test,pre))"
   ]
  },
  {
   "cell_type": "code",
   "execution_count": null,
   "metadata": {},
   "outputs": [],
   "source": []
  },
  {
   "cell_type": "code",
   "execution_count": 44,
   "metadata": {},
   "outputs": [
    {
     "name": "stdout",
     "output_type": "stream",
     "text": [
      "Training  model takes 224.617 seconds\n",
      "Predicting test data takes 1320.294 seconds\n",
      "              precision    recall  f1-score   support\n",
      "\n",
      "           0       0.84      0.80      0.82       484\n",
      "           1       0.81      0.84      0.83       477\n",
      "\n",
      "    accuracy                           0.82       961\n",
      "   macro avg       0.82      0.82      0.82       961\n",
      "weighted avg       0.82      0.82      0.82       961\n",
      "\n"
     ]
    }
   ],
   "source": [
    "#1.a. X_balanced_train,y_balanced_train;X_balanced_test,y_balanced_test\n",
    "from sklearn.model_selection import cross_val_score\n",
    "from sklearn.ensemble import AdaBoostClassifier\n",
    "\n",
    "clf = AdaBoostClassifier(n_estimators=100)\n",
    "start_time=time.time()\n",
    "clf = clf.fit(X_balanced_train, y_balanced_train)\n",
    "#scores = cross_val_score(clf, img_set, label, cv=5)\n",
    "#print('the 5-fold cross validation score for AdaBoost with 100 estimators is %f' % scores.mean())\n",
    "print(\"Training  model takes %s seconds\" % round((time.time() - start_time),3))\n",
    "\n",
    "from sklearn.metrics import classification_report\n",
    "start_time=time.time()\n",
    "pre=clf.predict(X_balanced_test)\n",
    "end = time.time()\n",
    "print(\"Predicting test data takes %s seconds\" % round((end - start),3))\n",
    "print(classification_report(y_balanced_test,pre))"
   ]
  },
  {
   "cell_type": "code",
   "execution_count": 45,
   "metadata": {},
   "outputs": [
    {
     "name": "stdout",
     "output_type": "stream",
     "text": [
      "Training  model takes 227.602 seconds\n",
      "Predicting test data takes 1549.553 seconds\n",
      "              precision    recall  f1-score   support\n",
      "\n",
      "           0       0.75      0.72      0.73       479\n",
      "           1       0.73      0.76      0.74       479\n",
      "\n",
      "    accuracy                           0.74       958\n",
      "   macro avg       0.74      0.74      0.74       958\n",
      "weighted avg       0.74      0.74      0.74       958\n",
      "\n"
     ]
    }
   ],
   "source": [
    "# 1. b.X_balanced_train,y_balanced_train;X_test_balanced,y_test_balanced \n",
    "\n",
    "from sklearn.model_selection import cross_val_score\n",
    "from sklearn.ensemble import AdaBoostClassifier\n",
    "\n",
    "clf = AdaBoostClassifier(n_estimators=100)\n",
    "start_time=time.time()\n",
    "clf = clf.fit(X_train_balanced, y_train_balanced)\n",
    "#scores = cross_val_score(clf, img_set, label, cv=5)\n",
    "#print('the 5-fold cross validation score for AdaBoost with 100 estimators is %f' % scores.mean())\n",
    "print(\"Training  model takes %s seconds\" % round((time.time() - start_time),3))\n",
    "\n",
    "from sklearn.metrics import classification_report\n",
    "start_time=time.time()\n",
    "pre=clf.predict(X_test_balanced)\n",
    "end = time.time()\n",
    "print(\"Predicting test data takes %s seconds\" % round((end - start),3))\n",
    "print(classification_report(y_test_balanced,pre))"
   ]
  },
  {
   "cell_type": "code",
   "execution_count": 57,
   "metadata": {},
   "outputs": [
    {
     "name": "stdout",
     "output_type": "stream",
     "text": [
      "Training  model takes 192.366 seconds\n",
      "Predicting test data takes 581.598 seconds\n",
      "              precision    recall  f1-score   support\n",
      "\n",
      "           0       0.84      0.72      0.77       479\n",
      "           1       0.28      0.44      0.34       121\n",
      "\n",
      "    accuracy                           0.66       600\n",
      "   macro avg       0.56      0.58      0.56       600\n",
      "weighted avg       0.72      0.66      0.69       600\n",
      "\n"
     ]
    }
   ],
   "source": [
    "# 2. X_train_balanced.y_train_balanced;X_test,Y_test\n",
    "from sklearn.model_selection import cross_val_score\n",
    "from sklearn.ensemble import AdaBoostClassifier\n",
    "\n",
    "clf = AdaBoostClassifier(n_estimators=100)\n",
    "start_time=time.time()\n",
    "clf = clf.fit(X_train_balanced, y_train_balanced)\n",
    "#scores = cross_val_score(clf, img_set, label, cv=5)\n",
    "#print('the 5-fold cross validation score for AdaBoost with 100 estimators is %f' % scores.mean())\n",
    "print(\"Training  model takes %s seconds\" % round((time.time() - start_time),3))\n",
    "\n",
    "from sklearn.metrics import classification_report\n",
    "start_time=time.time()\n",
    "pre=clf.predict(X_test)\n",
    "end = time.time()\n",
    "print(\"Predicting test data takes %s seconds\" % round((end - start),3))\n",
    "print(classification_report(Y_test,pre))"
   ]
  },
  {
   "cell_type": "code",
   "execution_count": 46,
   "metadata": {},
   "outputs": [
    {
     "name": "stdout",
     "output_type": "stream",
     "text": [
      "Training  model takes 123.66 seconds\n",
      "Predicting test data takes 1674.172 seconds\n",
      "              precision    recall  f1-score   support\n",
      "\n",
      "           0       0.84      0.92      0.88       479\n",
      "           1       0.49      0.32      0.39       121\n",
      "\n",
      "    accuracy                           0.80       600\n",
      "   macro avg       0.67      0.62      0.63       600\n",
      "weighted avg       0.77      0.80      0.78       600\n",
      "\n"
     ]
    }
   ],
   "source": [
    "#3 X_train,Y_train; X_test,Y_test\n",
    "\n",
    "from sklearn.model_selection import cross_val_score\n",
    "from sklearn.ensemble import AdaBoostClassifier\n",
    "\n",
    "clf = AdaBoostClassifier(n_estimators=100)\n",
    "start_time=time.time()\n",
    "clf = clf.fit(X_train, Y_train)\n",
    "#scores = cross_val_score(clf, img_set, label, cv=5)\n",
    "#print('the 5-fold cross validation score for AdaBoost with 100 estimators is %f' % scores.mean())\n",
    "print(\"Training  model takes %s seconds\" % round((time.time() - start_time),3))\n",
    "\n",
    "from sklearn.metrics import classification_report\n",
    "start_time=time.time()\n",
    "pre=clf.predict(X_test)\n",
    "end = time.time()\n",
    "print(\"Predicting test data takes %s seconds\" % round((end - start),3))\n",
    "print(classification_report(Y_test,pre))"
   ]
  },
  {
   "cell_type": "code",
   "execution_count": null,
   "metadata": {},
   "outputs": [],
   "source": []
  }
 ],
 "metadata": {
  "kernelspec": {
   "display_name": "Python 3",
   "language": "python",
   "name": "python3"
  },
  "language_info": {
   "codemirror_mode": {
    "name": "ipython",
    "version": 3
   },
   "file_extension": ".py",
   "mimetype": "text/x-python",
   "name": "python",
   "nbconvert_exporter": "python",
   "pygments_lexer": "ipython3",
   "version": "3.8.5"
  }
 },
 "nbformat": 4,
 "nbformat_minor": 4
}
