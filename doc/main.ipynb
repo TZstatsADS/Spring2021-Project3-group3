{
 "cells": [
  {
   "cell_type": "markdown",
   "metadata": {},
   "source": [
    "<h1><center>Predictive Analytics on Imbalanced Data</center></h1>\n",
    "<h2><center>Group 2: Olha Maslova, Mark Morrissey, Qiao Li, Renyin Zhang, April Yang</center></h2>"
   ]
  },
  {
   "cell_type": "markdown",
   "metadata": {},
   "source": [
    "## Step 0: Set up the environment\n",
    "First, make sure you have python installed. "
   ]
  },
  {
   "cell_type": "code",
   "execution_count": null,
   "metadata": {},
   "outputs": [],
   "source": [
    "!python --version"
   ]
  },
  {
   "cell_type": "markdown",
   "metadata": {},
   "source": [
    "If you don't have python installed - please follow this [link](https://realpython.com/installing-python/) for instructions."
   ]
  },
  {
   "cell_type": "markdown",
   "metadata": {},
   "source": [
    "Running the cell below will start the installation of required python libraries, assuming you have python already installed. "
   ]
  },
  {
   "cell_type": "code",
   "execution_count": null,
   "metadata": {
    "colab": {
     "base_uri": "https://localhost:8080/"
    },
    "id": "1zPBlpyrtlTl",
    "outputId": "3277f945-2735-4b27-cb4f-c96c89b25a7a"
   },
   "outputs": [],
   "source": [
    "!pip install scipy\n",
    "!pip install matplotlib \n",
    "!pip install imbalanced-learn\n",
    "!pip install pandas\n",
    "!pip install numpy\n",
    "!pip install opencv-python\n",
    "!pip install -U scikit-learn\n",
    "!pip install --upgrade tensorflow\n",
    "!pip install Keras\n",
    "!pip install imbalanced-databases\n",
    "!pip install smote-variants\n",
    "!pip install xgboost"
   ]
  },
  {
   "cell_type": "markdown",
   "metadata": {},
   "source": [
    "Setting up working directories."
   ]
  },
  {
   "cell_type": "code",
   "execution_count": 5,
   "metadata": {},
   "outputs": [],
   "source": [
    "# path = \"C:/Users/liqia/Spring2021-Project3-group-3-master\"\n",
    "# train_dir = \"C:/Users/liqia/Spring2021-Project3-group-3-master/data//train_set\"\n",
    "\n",
    "train_dir = 'data/train_set/'\n",
    "image_dir = train_dir + \"images/\"\n",
    "pt_dir = train_dir + \"points/\"\n",
    "label_path = train_dir + \"label.csv\""
   ]
  },
  {
   "cell_type": "markdown",
   "metadata": {},
   "source": [
    "Import libraries.\n",
    "\n",
    "**NOTE:** some of our team memebers had issues installing XGBoost. If you experience the same issue, please comment out ```import xgboost as xgb``` line below and set run_xgboost = False. This will ignore the model and should run smoothly. "
   ]
  },
  {
   "cell_type": "code",
   "execution_count": 1,
   "metadata": {
    "id": "HKRO6IFijCef"
   },
   "outputs": [],
   "source": [
    "from scipy.spatial.distance import pdist\n",
    "import imbalanced_databases as imbd\n",
    "import matplotlib.pyplot as plt\n",
    "import scipy.io as scio\n",
    "from PIL import Image\n",
    "import pandas as pd\n",
    "import numpy as np\n",
    "import xlsxwriter\n",
    "import scipy.io\n",
    "import sklearn\n",
    "import os, sys\n",
    "import pickle\n",
    "import random\n",
    "import time\n",
    "import cv2\n",
    "\n",
    "from sklearn.pipeline import Pipeline\n",
    "from sklearn.datasets import make_classification\n",
    "from sklearn.metrics import (classification_report, \n",
    "                            confusion_matrix, \n",
    "                            recall_score,\n",
    "                            accuracy_score,\n",
    "                            make_scorer,\n",
    "                            roc_auc_score,\n",
    "                            auc,\n",
    "                            roc_curve)\n",
    "\n",
    "from sklearn.model_selection import (train_test_split,\n",
    "                                    cross_validate, \n",
    "                                    GridSearchCV,\n",
    "                                    RepeatedStratifiedKFold,\n",
    "                                    cross_val_score,\n",
    "                                    validation_curve)\n",
    "\n",
    "# dealing with imbalanced dataset\n",
    "from imblearn.under_sampling import RandomUnderSampler               \n",
    "from imblearn.over_sampling import SMOTE\n",
    "\n",
    "# models\n",
    "from sklearn.svm import SVC\n",
    "from sklearn.tree import DecisionTreeClassifier\n",
    "from sklearn.linear_model import SGDClassifier\n",
    "from sklearn.ensemble import (GradientBoostingClassifier, \n",
    "                              RandomForestClassifier,\n",
    "                              AdaBoostClassifier,\n",
    "                              VotingClassifier)\n",
    "\n",
    "from sklearn.linear_model import (LogisticRegression, \n",
    "                                  RidgeClassifier,\n",
    "                                  Lasso)\n",
    "\n",
    "from sklearn.neighbors import KNeighborsClassifier\n",
    "from sklearn.linear_model import RidgeClassifier\n",
    "from sklearn.tree import DecisionTreeClassifier\n",
    "from sklearn.naive_bayes import GaussianNB\n",
    "from sklearn.svm import SVC\n",
    "from sklearn import tree\n",
    "#import xgboost as xgb\n",
    "from sklearn.neighbors import (KNeighborsClassifier, \n",
    "                               NearestCentroid,\n",
    "                               NeighborhoodComponentsAnalysis)\n",
    "\n",
    "random.seed(2021)\n",
    "\n",
    "# for CNN and Neural Networks\n",
    "import tensorflow as tf\n",
    "from tensorflow import keras\n",
    "from keras.regularizers import l2, l1_l2\n",
    "from tensorflow.keras import layers\n",
    "from tensorflow.keras import metrics\n",
    "from tensorflow.keras import regularizers\n",
    "from tensorflow.keras.models import Sequential\n",
    "from keras.preprocessing.image import ImageDataGenerator"
   ]
  },
  {
   "cell_type": "markdown",
   "metadata": {},
   "source": [
    "## Step 1: Set up controls for evaluation experiments"
   ]
  },
  {
   "cell_type": "markdown",
   "metadata": {},
   "source": [
    "In this chunk, we have a set of controls for model training/testing. If true, then we train the model and generate predictions on the test set, and if false, then we skip that model. By default, only baseline and advanced are set to True.\n",
    "\n",
    "**NOTE:** Please note, that this notebook contains all pre-run outputs for you to evaluate. You don't need to run all the classifiers. "
   ]
  },
  {
   "cell_type": "code",
   "execution_count": 16,
   "metadata": {},
   "outputs": [],
   "source": [
    "run_baseline = True\n",
    "run_advanced = True\n",
    "\n",
    "run_nearest_centroid = False\n",
    "run_knn = False\n",
    "run_adaboost = False\n",
    "run_random_forest=False\n",
    "run_svm = False\n",
    "run_weighted_svm = False\n",
    "run_stochastic_gradient_descent = False\n",
    "run_neural_networks = False\n",
    "run_cnn = False\n",
    "run_nn = False\n",
    "run_decision_tree = False\n",
    "run_ridge_regression = False\n",
    "run_voting_classifier = False\n",
    "run_xgboost = False\n",
    "run_gaussian_nb = False\n",
    "run_lasso_regression = False"
   ]
  },
  {
   "cell_type": "markdown",
   "metadata": {},
   "source": [
    "If you re-trained models you have an option to save them in the output directory."
   ]
  },
  {
   "cell_type": "code",
   "execution_count": 2,
   "metadata": {},
   "outputs": [],
   "source": [
    "save = True"
   ]
  },
  {
   "cell_type": "markdown",
   "metadata": {},
   "source": [
    "fold cross validation with AUC scoring:"
   ]
  },
  {
   "cell_type": "code",
   "execution_count": 14,
   "metadata": {},
   "outputs": [],
   "source": [
    "run_cv = False"
   ]
  },
  {
   "cell_type": "markdown",
   "metadata": {},
   "source": [
    "run code to fine-tune models:"
   ]
  },
  {
   "cell_type": "code",
   "execution_count": 13,
   "metadata": {},
   "outputs": [],
   "source": [
    "fine_tuning = False"
   ]
  },
  {
   "cell_type": "markdown",
   "metadata": {},
   "source": [
    "## Step 2: Import data and perform train-test split"
   ]
  },
  {
   "cell_type": "markdown",
   "metadata": {},
   "source": [
    "Fiducial points are stored in matlab format. In this step, we read them and store them in a list."
   ]
  },
  {
   "cell_type": "code",
   "execution_count": 3,
   "metadata": {},
   "outputs": [],
   "source": [
    "def read_data(train_dir):      \n",
    "    # read labels\n",
    "    labels = pd.read_csv(train_dir+'label.csv')\n",
    "    y = labels['label'].to_numpy()\n",
    "\n",
    "    # read points\n",
    "    n = 3000\n",
    "    for i in range(1, n + 1):\n",
    "        p_path = str(i).zfill(4) + '.mat'\n",
    "        mat = scipy.io.loadmat(train_dir + '/points/' + p_path)\n",
    "        # pull out the matrix\n",
    "        if 'faceCoordinatesUnwarped' in mat:\n",
    "            cords = mat['faceCoordinatesUnwarped'] \n",
    "        else:\n",
    "            cords = mat['faceCoordinates2']\n",
    "        # find the distance \n",
    "        distance = sklearn.metrics.pairwise_distances(cords)       \n",
    "        flatten_distance = distance[np.triu_indices(len(cords[:,0]), k = 1)]    \n",
    "\n",
    "        # add distance to an array\n",
    "        if i == 1:\n",
    "            distances = np.mat([flatten_distance])\n",
    "        else:\n",
    "            distances = np.append(distances, np.mat([flatten_distance]), axis = 0)\n",
    "    \n",
    "    return (distances, y)\n",
    "\n",
    "# now instead of the whole matrix we are dealing with pairwise distance"
   ]
  },
  {
   "cell_type": "code",
   "execution_count": 6,
   "metadata": {},
   "outputs": [
    {
     "name": "stdout",
     "output_type": "stream",
     "text": [
      "Read the original dataset takes 87.188 seconds\n"
     ]
    }
   ],
   "source": [
    "read_time_start = time.time()\n",
    "X, Y = read_data(train_dir)\n",
    "\n",
    "print(\"Read the original dataset takes %s seconds\" % round((time.time() - read_time_start), 3))"
   ]
  },
  {
   "cell_type": "code",
   "execution_count": 7,
   "metadata": {},
   "outputs": [
    {
     "name": "stdout",
     "output_type": "stream",
     "text": [
      "majority class: 2402\n",
      "minority class: 598\n"
     ]
    }
   ],
   "source": [
    "print('majority class: %d' % np.sum(Y == 0))\n",
    "print('minority class: %d' % np.sum(Y == 1))"
   ]
  },
  {
   "cell_type": "markdown",
   "metadata": {},
   "source": [
    "Train-test split since we can see that the dataset is imbalanced, in this chunk we do an 80-20 train-test split."
   ]
  },
  {
   "cell_type": "code",
   "execution_count": 8,
   "metadata": {},
   "outputs": [
    {
     "data": {
      "text/plain": [
       "((2400, 3003), (2400,), (600, 3003), (600,))"
      ]
     },
     "execution_count": 8,
     "metadata": {},
     "output_type": "execute_result"
    }
   ],
   "source": [
    "X_train, X_test, y_train, y_test = train_test_split(X, Y, test_size=0.2, random_state=0, stratify=Y)\n",
    "X_train.shape, y_train.shape, X_test.shape, y_test.shape"
   ]
  },
  {
   "cell_type": "markdown",
   "metadata": {},
   "source": [
    "Data Preprocessing Imbalanced Dataset (SMOTE)-oversamplig"
   ]
  },
  {
   "cell_type": "code",
   "execution_count": 9,
   "metadata": {},
   "outputs": [],
   "source": [
    "def data_preprocessing(X, Y, train_dir):\n",
    "\n",
    "    distances = X\n",
    "    y = Y\n",
    "\n",
    "    n = y.shape[0]\n",
    "    mat_1 = np.add(np.where(y == 1), 1)\n",
    "    n_oversample = (n - sum(y)) - sum(y) \n",
    "\n",
    "    for i in range(n_oversample):\n",
    "        samples_index = random.sample(list(list(mat_1)[0]), 2) \n",
    "        \n",
    "        p_path = str(samples_index[0]).zfill(4) + '.mat'\n",
    "        mat = scipy.io.loadmat(train_dir + '/points/' + p_path)\n",
    "        \n",
    "        if 'faceCoordinatesUnwarped' in mat:\n",
    "            cords_0 = mat['faceCoordinatesUnwarped'] \n",
    "        else:\n",
    "            cords_0 = mat['faceCoordinates2']\n",
    "\n",
    "        p_path = str(samples_index[1]).zfill(4) + '.mat'\n",
    "        mat = scipy.io.loadmat(train_dir + '/points/' + p_path)\n",
    "        \n",
    "        if 'faceCoordinatesUnwarped' in mat:\n",
    "            cords_1 = mat['faceCoordinatesUnwarped'] \n",
    "        else:\n",
    "            cords_1 = mat['faceCoordinates2']\n",
    "\n",
    "        cords_new = (cords_0 + cords_1) / 2 \n",
    "        \n",
    "        # compute the pairwise distances in each mat\n",
    "        distance = sklearn.metrics.pairwise_distances(cords_new)\n",
    "        \n",
    "        # stretch the upper triangle of the symmetric matrix \n",
    "        # to a long array with dimension 3003\n",
    "        # 3003 = (1+77) * 78/2\n",
    "        flatten_distance = distance[np.triu_indices(len(cords_new[:,0]), k = 1)]\n",
    "        \n",
    "        distances = np.append(distances, np.mat([flatten_distance]), axis = 0)\n",
    "        \n",
    "        y = np.append(y, np.array(1))\n",
    "            \n",
    "    return (distances, y)"
   ]
  },
  {
   "cell_type": "code",
   "execution_count": 10,
   "metadata": {},
   "outputs": [],
   "source": [
    "X_train, y_train = data_preprocessing(X_train, y_train, train_dir)"
   ]
  },
  {
   "cell_type": "code",
   "execution_count": 11,
   "metadata": {},
   "outputs": [
    {
     "data": {
      "text/plain": [
       "((3844, 3003), (3844,))"
      ]
     },
     "execution_count": 11,
     "metadata": {},
     "output_type": "execute_result"
    }
   ],
   "source": [
    "X_train.shape, y_train.shape"
   ]
  },
  {
   "cell_type": "markdown",
   "metadata": {},
   "source": [
    "Here we define functions to visualise confusion matrix and call the model"
   ]
  },
  {
   "cell_type": "markdown",
   "metadata": {},
   "source": [
    "## Step 3: Construct a baseline Gradient Boosting Model"
   ]
  },
  {
   "cell_type": "code",
   "execution_count": 26,
   "metadata": {
    "id": "HUkvseen_56s"
   },
   "outputs": [],
   "source": [
    "# define the model\n",
    "def train_model_gb(X, y):\n",
    "    model_gb = GradientBoostingClassifier(n_estimators=100)\n",
    "    model_gb.fit(X, y)\n",
    "    \n",
    "    return model_gb"
   ]
  },
  {
   "cell_type": "code",
   "execution_count": 28,
   "metadata": {},
   "outputs": [],
   "source": [
    "def fine_tune_gbm():\n",
    "    param_range = [10, 50, 100, 200, 300, 400]\n",
    "    train_scores, valid_scores = validation_curve(\n",
    "        model_gb, \n",
    "        X = X_train, \n",
    "        y=y_train, \n",
    "        param_name='n_estimators',\n",
    "        param_range=param_range\n",
    "    )\n",
    "    \n",
    "    # compute means and std\n",
    "    train_scores_mean = np.mean(train_scores, axis=1)\n",
    "    train_scores_std = np.std(train_scores, axis=1)\n",
    "    val_scores_mean = np.mean(valid_scores, axis=1)\n",
    "    val_scores_std = np.std(valid_scores, axis=1)\n",
    "    \n",
    "    plt.title(\"Validation Curve with GBM\")\n",
    "    plt.xlabel(\"n_estimators\")\n",
    "    plt.ylabel(\"Score\")\n",
    "    plt.ylim(0.01, 1)\n",
    "    lw = 2\n",
    "    plt.semilogx(param_range, train_scores_mean, label=\"Training score\",\n",
    "                 color=\"darkorange\", lw=lw)\n",
    "    plt.fill_between(param_range, train_scores_mean - train_scores_std,\n",
    "                     train_scores_mean + train_scores_std, alpha=0.2,\n",
    "                     color=\"darkorange\", lw=lw)\n",
    "    plt.semilogx(param_range, val_scores_mean, label=\"Cross-validation score\",\n",
    "                 color=\"navy\", lw=lw)\n",
    "    plt.fill_between(param_range, val_scores_mean - val_scores_std,\n",
    "                     val_scores_mean + val_scores_std, alpha=0.2,\n",
    "                     color=\"navy\", lw=lw)\n",
    "    plt.legend(loc=\"best\")\n",
    "    plt.show()\n",
    "    \n",
    "if fine_tuning:\n",
    "    fine_tune_gbm()"
   ]
  },
  {
   "cell_type": "markdown",
   "metadata": {},
   "source": [
    "#### Step 3.1 Train the baseline model and evaluate on imbalanced test set"
   ]
  },
  {
   "cell_type": "code",
   "execution_count": 30,
   "metadata": {
    "id": "f79wkgyj5x4x"
   },
   "outputs": [
    {
     "name": "stdout",
     "output_type": "stream",
     "text": [
      "Train the Gradient Boosting Model takes 299.138 seconds\n",
      "[[348 132]\n",
      " [ 66  54]]\n",
      "              precision    recall  f1-score   support\n",
      "\n",
      "           0       0.84      0.72      0.78       480\n",
      "           1       0.29      0.45      0.35       120\n",
      "\n",
      "    accuracy                           0.67       600\n",
      "   macro avg       0.57      0.59      0.57       600\n",
      "weighted avg       0.73      0.67      0.69       600\n",
      "\n"
     ]
    }
   ],
   "source": [
    "# train the model\n",
    "if run_baseline:\n",
    "    training_gbm = time.time()\n",
    "    model_gb = train_model_gb(X_train, y_train)\n",
    "\n",
    "    print(\"Train the Gradient Boosting Model takes %s seconds\" % round((time.time() - training_gbm), 3))\n",
    "\n",
    "    y_pred = model_gb.predict(X_test)\n",
    "\n",
    "    # print the confusion matrix\n",
    "    print(confusion_matrix(y_true=y_test, y_pred=y_pred))\n",
    "    print(classification_report(y_true=y_test, y_pred=y_pred))\n",
    "    \n",
    "    # save model\n",
    "    if save:\n",
    "        pickle.dump(model_gb, open( path + \"/output/baseline.p\",'wb'))\n",
    "          \n",
    "else:\n",
    "    # load model\n",
    "    pickle.load(open(path + \"/output/baseline.p\",'rb'))"
   ]
  },
  {
   "cell_type": "markdown",
   "metadata": {},
   "source": [
    "#### Step 3.2 Evaluate baseline model on Balanced dataset using Undersampling"
   ]
  },
  {
   "cell_type": "markdown",
   "metadata": {},
   "source": [
    "To properly evaluate our model, we are performing undersampling to have a balanced dataset. "
   ]
  },
  {
   "cell_type": "code",
   "execution_count": 31,
   "metadata": {},
   "outputs": [],
   "source": [
    "under = RandomUnderSampler()"
   ]
  },
  {
   "cell_type": "code",
   "execution_count": 32,
   "metadata": {},
   "outputs": [],
   "source": [
    "# fit and apply the transform\n",
    "X_test_1, y_test_1 = under.fit_resample(X_test, y_test)"
   ]
  },
  {
   "cell_type": "code",
   "execution_count": 33,
   "metadata": {},
   "outputs": [
    {
     "name": "stdout",
     "output_type": "stream",
     "text": [
      "Predicting test data takes 0.007 seconds\n"
     ]
    }
   ],
   "source": [
    "start = time.time()\n",
    "y_pred_1 = model_gb.predict(X_test_1)\n",
    "end = time.time()\n",
    "\n",
    "print(\"Predicting test data takes %s seconds\" % round((end - start), 3))"
   ]
  },
  {
   "cell_type": "code",
   "execution_count": 34,
   "metadata": {},
   "outputs": [
    {
     "name": "stdout",
     "output_type": "stream",
     "text": [
      "AUC is: 0.6675\n"
     ]
    }
   ],
   "source": [
    "y_pred_prob = model_gb.predict_proba(X_test_1)[:,1]\n",
    "print('AUC is: {:.4f}'.format(roc_auc_score(y_test_1, y_pred_prob)))"
   ]
  },
  {
   "cell_type": "code",
   "execution_count": 35,
   "metadata": {},
   "outputs": [
    {
     "name": "stdout",
     "output_type": "stream",
     "text": [
      "[[90 30]\n",
      " [66 54]]\n",
      "              precision    recall  f1-score   support\n",
      "\n",
      "           0       0.58      0.75      0.65       120\n",
      "           1       0.64      0.45      0.53       120\n",
      "\n",
      "    accuracy                           0.60       240\n",
      "   macro avg       0.61      0.60      0.59       240\n",
      "weighted avg       0.61      0.60      0.59       240\n",
      "\n"
     ]
    }
   ],
   "source": [
    "# print the confusion matrix\n",
    "print(confusion_matrix(y_true=y_test_1, y_pred=y_pred_1))\n",
    "print(classification_report(y_true=y_test_1, y_pred=y_pred_1))"
   ]
  },
  {
   "cell_type": "markdown",
   "metadata": {},
   "source": [
    "### Step 4: Build and Evaluate Advanced Model: Weighted SVM"
   ]
  },
  {
   "cell_type": "code",
   "execution_count": 36,
   "metadata": {},
   "outputs": [],
   "source": [
    "def fine_tune_svm():\n",
    "    weighted_svm = SVC(gamma = 'scale', class_weight = 'balanced')\n",
    "\n",
    "    #CV Weighted SVM \n",
    "    cv = RepeatedStratifiedKFold(n_splits=10, n_repeats=3, random_state=1)\n",
    "    # evaluate model\n",
    "    scores = cross_val_score(weighted_svm, X_train, y_train, scoring='roc_auc', cv=cv, n_jobs=-1)\n",
    "    # summarize performance\n",
    "    print('Mean ROC AUC: %.3f' % np.mean(scores))\n",
    "\n",
    "    # parameter space for the model\n",
    "    param_grid = {\n",
    "        'C': [0.1, 1, 10, 100, 1000],\n",
    "        'gamma': [1, 0.1, 0.01, 0.001, 0.0001],\n",
    "        'kernel': ['rbf']} \n",
    "\n",
    "    grid_svm = GridSearchCV(SVC(), param_grid, refit=True, verbose=3)\n",
    "    grid_svm.fit(X_train,y_train)\n",
    "    \n",
    "    print(grid_svm.best_params_)\n",
    "    print(grid_svm.best_estimator_)\n",
    "    \n",
    "    balance = [{0:598.0, 1:2402.0},{0:1,1:100}, {0:1,1:10}, {0:1,1:1}, {0:10,1:1}, {0:100,1:1}]\n",
    "    param_grid = dict(class_weight=balance)\n",
    "\n",
    "    grid_weightedsvm = GridSearchCV(estimator=weighted_svm, param_grid=param_grid, n_jobs=-1, cv=cv, scoring='roc_auc')\n",
    "    grid_weightedsvm.fit(X_train, y_train)\n",
    "    grid_weightedsvm.best_params_\n",
    "    grid_weightedsvm.best_estimator_\n",
    "    grid_weightedsvm.best_params_\n",
    "    grid_weightedsvm.best_estimator_\n",
    "    \n",
    "    print(\"Best: %f using %s\" % (grid_weightedsvm.best_score_, grid_weightedsvm.best_params_))\n",
    "    \n",
    "    # report all configurations\n",
    "    means = grid_weightedsvm.cv_results_['mean_test_score']\n",
    "    stds = grid_weightedsvm.cv_results_['std_test_score']\n",
    "    params = grid_weightedsvm.cv_results_['params']\n",
    "    \n",
    "    for mean, stdev, param in zip(means, stds, params):\n",
    "        print(\"%f (%f) with: %r\" % (mean, stdev, param))"
   ]
  },
  {
   "cell_type": "code",
   "execution_count": 37,
   "metadata": {},
   "outputs": [],
   "source": [
    "if fine_tuning:\n",
    "    fine_tune_svm()"
   ]
  },
  {
   "cell_type": "markdown",
   "metadata": {},
   "source": [
    "Train SVM using best params:\n",
    "- 'C' = 10\n",
    "- 'gamma' = 0.0001\n",
    "- 'kernel' = 'rbf'"
   ]
  },
  {
   "cell_type": "code",
   "execution_count": null,
   "metadata": {},
   "outputs": [
    {
     "name": "stdout",
     "output_type": "stream",
     "text": [
      "Training  model takes 98.393 seconds\n",
      "Testing Accuracy of weighted SVM on test set: 0.575\n",
      "Predicting test data takes 2.97 seconds\n",
      "Classification error rate: 0.425\n",
      "Classification report \n",
      "               precision    recall  f1-score   support\n",
      "\n",
      "           0       0.87      0.55      0.67       480\n",
      "           1       0.27      0.68      0.39       120\n",
      "\n",
      "    accuracy                           0.57       600\n",
      "   macro avg       0.57      0.62      0.53       600\n",
      "weighted avg       0.75      0.57      0.62       600\n",
      "\n",
      "Confusion Matrix \n",
      " [[263 217]\n",
      " [ 38  82]]\n",
      "AUC is: 0.6893\n"
     ]
    }
   ],
   "source": [
    "if run_advanced:\n",
    "    weighted_svm_best = SVC(\n",
    "        gamma = 'scale',\n",
    "        class_weight = {\n",
    "            0: 598.0, \n",
    "            1: 2402.0\n",
    "        },\n",
    "        probability=True\n",
    "    )\n",
    "    \n",
    "    start_time = time.time()\n",
    "    \n",
    "    # fit svm model\n",
    "    weighted_svm_best.fit(X_train, y_train)\n",
    "    \n",
    "    print(\"Training  model takes %s seconds\" % round((time.time() - start_time),3))\n",
    "    print('Testing Accuracy of weighted SVM on test set: {:.3f}'\n",
    "          .format(weighted_svm_best.score(X_test,y_test)))\n",
    "    \n",
    "    start = time.time()\n",
    "    \n",
    "    # make prediction\n",
    "    weighted_svm_pred = weighted_svm_best.predict(X_test)\n",
    "    \n",
    "    end = time.time()\n",
    "\n",
    "    weighted_svm_predprob = weighted_svm_best.predict_proba(X_test)[:,1]\n",
    "\n",
    "    print(\"Predicting test data takes %s seconds\" % round((end - start),3))\n",
    "    print('Classification error rate:', np.mean(np.array(y_test) != weighted_svm_pred))\n",
    "    print('Classification report \\n', classification_report(y_test, weighted_svm_pred))\n",
    "\n",
    "    print('Confusion Matrix \\n', confusion_matrix(y_test, weighted_svm_pred))\n",
    "    print('AUC is: {:.4f}'.format(roc_auc_score(y_test, weighted_svm_predprob)))\n",
    "    \n",
    "else:\n",
    "    #Load model\n",
    "    weighted_svm = pickle.load(open(path + \"/output/advanced.p\",'rb'))\n",
    "    \n",
    "    start = time.time()\n",
    "    \n",
    "    weighted_svm_pred = weighted_svm.predict(X_test)\n",
    "    \n",
    "    end = time.time()\n",
    "\n",
    "    weighted_svm_predprob = weighted_svm.predict_proba(X_test)[:,1]\n",
    "\n",
    "    print(\"Predicting test data takes %s seconds\" % round((end - start),3))\n",
    "    print('Classification error rate:', np.mean(np.array(y_test) != weighted_svm_pred))\n",
    "    print('Classification report \\n', classification_report(y_test, weighted_svm_pred))\n",
    "\n",
    "    print('Confusion Matrix \\n', confusion_matrix(y_test, weighted_svm_pred))\n",
    "    print('AUC is: {:.4f}'.format(roc_auc_score(y_test, weighted_svm_predprob)))\n",
    "\n",
    "#Save Advanced Model\n",
    "if save:\n",
    "    pickle.dump(weighted_svm_best, open( path + \"/output/advanced.p\",'wb'))"
   ]
  },
  {
   "cell_type": "markdown",
   "metadata": {},
   "source": [
    "<h1><center>Alternative Model Options</center></h1>"
   ]
  },
  {
   "cell_type": "markdown",
   "metadata": {},
   "source": [
    "In the section below we present models that we tried, but didn't select as our advanced model."
   ]
  },
  {
   "cell_type": "markdown",
   "metadata": {},
   "source": [
    "<h2><center>Nearest Centroid</center></h2>"
   ]
  },
  {
   "cell_type": "code",
   "execution_count": 23,
   "metadata": {},
   "outputs": [
    {
     "name": "stdout",
     "output_type": "stream",
     "text": [
      "Training  model takes 0.045 seconds\n",
      "Predicting test data takes 0.005 seconds\n",
      "              precision    recall  f1-score   support\n",
      "\n",
      "           0       0.78      0.48      0.59       480\n",
      "           1       0.19      0.47      0.27       120\n",
      "\n",
      "    accuracy                           0.48       600\n",
      "   macro avg       0.48      0.48      0.43       600\n",
      "weighted avg       0.66      0.48      0.53       600\n",
      "\n",
      "AUC is 0.4760416666666667\n"
     ]
    }
   ],
   "source": [
    "if run_nearest_centroid:\n",
    "    clf = NearestCentroid()\n",
    "    \n",
    "    start_time=time.time()\n",
    "    clf.fit(X_train, y_train)\n",
    "    \n",
    "    NearestCentroid()\n",
    "    print(\"Training  model takes %s seconds\" % round((time.time() - start_time),3))\n",
    "\n",
    "    start = time.time()\n",
    "    y_pred=clf.predict(X_test)\n",
    "    end = time.time()\n",
    "    \n",
    "    print(\"Predicting test data takes %s seconds\" % round((end - start), 3))\n",
    "    print(classification_report(y_test, y_pred))\n",
    "    \n",
    "    fpr, tpr, thresholds = roc_curve(y_test, y_pred, pos_label=1)\n",
    "    print('AUC is', auc(fpr, tpr))\n",
    "    \n",
    "    # Save Model\n",
    "    if save:\n",
    "        pickle.dump(clf, open(\"output/nearest_centroid.p\",'wb'))"
   ]
  },
  {
   "cell_type": "markdown",
   "metadata": {},
   "source": [
    "<h2><center>K Neighbors Classifier</center></h2>"
   ]
  },
  {
   "cell_type": "code",
   "execution_count": 21,
   "metadata": {},
   "outputs": [
    {
     "name": "stdout",
     "output_type": "stream",
     "text": [
      "Training  model takes 24.813 seconds\n",
      "Predicting test data takes 0.172 seconds\n",
      "The score of a model with k = 3 is 0.475000\n",
      "The recall of a model with k = 3 is 0.666667\n",
      "              precision    recall  f1-score   support\n",
      "\n",
      "           0       0.84      0.43      0.57       480\n",
      "           1       0.23      0.67      0.34       120\n",
      "\n",
      "    accuracy                           0.48       600\n",
      "   macro avg       0.53      0.55      0.45       600\n",
      "weighted avg       0.71      0.47      0.52       600\n",
      "\n",
      "AUC is 0.546875\n"
     ]
    }
   ],
   "source": [
    "if fine_tuning:\n",
    "    for k in range(3, 10):\n",
    "        nca = NeighborhoodComponentsAnalysis(random_state = 42)\n",
    "        knn = KNeighborsClassifier(n_neighbors = k)\n",
    "        \n",
    "        nca_pipe = Pipeline([('nca', nca), ('knn', knn)])\n",
    "        nca_pipe.fit(X_train, y_train)\n",
    "        pre=nca_pipe.predict(X_test)\n",
    "        \n",
    "        print('the score of a model with k = %d is %f' % (k, nca_pipe.score(X_test, y_test)))\n",
    "        print('the recall of a model with k = %d is %f' % (k, recall_score(y_test, pre)))\n",
    "    \n",
    "if run_knn:\n",
    "    # based on fine tuning above k = 3 is the best value\n",
    "    k = 3\n",
    "    \n",
    "    nca = NeighborhoodComponentsAnalysis(random_state=42)\n",
    "    knn = KNeighborsClassifier(n_neighbors=k)\n",
    "    \n",
    "    nca_pipe = Pipeline([('nca', nca), ('knn', knn)])\n",
    "    \n",
    "    start_time=time.time()\n",
    "\n",
    "    nca_pipe.fit(X_train, y_train)\n",
    "    \n",
    "    print(\"Training  model takes %s seconds\" % round((time.time() - start_time),3))\n",
    "\n",
    "    start_time=time.time()\n",
    "    y_pred = nca_pipe.predict(X_test)\n",
    "    print(\"Predicting test data takes %s seconds\" % round((time.time() - start_time), 3))\n",
    "    \n",
    "    print('The score of a model with k = %d is %f' % (k, nca_pipe.score(X_test, y_test)))\n",
    "    print('The recall of a model with k = %d is %f' % (k, recall_score(y_test, y_pred)))\n",
    "    print(classification_report(y_test, y_pred))\n",
    "    \n",
    "    fpr, tpr, thresholds = roc_curve(y_test, y_pred, pos_label=1)\n",
    "    print('AUC is', auc(fpr, tpr))\n",
    "    \n",
    "    #Save Model\n",
    "    if save:\n",
    "        pickle.dump(nca_pipe, open(\"output/knn.p\",'wb'))"
   ]
  },
  {
   "cell_type": "markdown",
   "metadata": {},
   "source": [
    "<h2><center>Stochastic Gradient Descent</center></h2>"
   ]
  },
  {
   "cell_type": "code",
   "execution_count": 25,
   "metadata": {},
   "outputs": [
    {
     "name": "stdout",
     "output_type": "stream",
     "text": [
      "Training  model takes 6.924 seconds\n",
      "Predicting test data takes 0.002 seconds\n",
      "              precision    recall  f1-score   support\n",
      "\n",
      "           0       0.89      0.25      0.40       480\n",
      "           1       0.23      0.88      0.36       120\n",
      "\n",
      "    accuracy                           0.38       600\n",
      "   macro avg       0.56      0.56      0.38       600\n",
      "weighted avg       0.76      0.38      0.39       600\n",
      "\n",
      "AUC is 0.5645833333333333\n"
     ]
    }
   ],
   "source": [
    "if run_stochastic_gradient_descent:\n",
    "    clf = SGDClassifier(loss=\"log\", penalty=\"l1\", max_iter=200, shuffle=True, class_weight='balanced')\n",
    "    \n",
    "    start_time=time.time()\n",
    "    clf.fit(X_train, y_train)\n",
    "    print(\"Training  model takes %s seconds\" % round((time.time() - start_time),3))\n",
    "\n",
    "    start = time.time()\n",
    "    y_pred=clf.predict(X_test)\n",
    "    end = time.time()\n",
    "    \n",
    "    print(\"Predicting test data takes %s seconds\" % round((end - start),3))\n",
    "    print(classification_report(y_test, y_pred))\n",
    "    \n",
    "    fpr, tpr, thresholds = roc_curve(y_test, y_pred, pos_label=1)\n",
    "    print('AUC is', auc(fpr, tpr))\n",
    "    \n",
    "    #Save Model\n",
    "    if save:\n",
    "        pickle.dump(clf, open(\"output/SGDClassifier.p\",'wb'))"
   ]
  },
  {
   "cell_type": "markdown",
   "metadata": {},
   "source": [
    "<h2><center>Decision Trees</center></h2>"
   ]
  },
  {
   "cell_type": "code",
   "execution_count": 26,
   "metadata": {},
   "outputs": [
    {
     "name": "stdout",
     "output_type": "stream",
     "text": [
      "Training  model takes 3.249 seconds\n",
      "Predicting test data takes 0.003 seconds\n",
      "              precision    recall  f1-score   support\n",
      "\n",
      "           0       0.88      0.31      0.46       480\n",
      "           1       0.23      0.83      0.36       120\n",
      "\n",
      "    accuracy                           0.41       600\n",
      "   macro avg       0.56      0.57      0.41       600\n",
      "weighted avg       0.75      0.41      0.44       600\n",
      "\n",
      "AUC is 0.571875\n"
     ]
    }
   ],
   "source": [
    "if run_decision_tree:\n",
    "    clf = DecisionTreeClassifier(\n",
    "        max_depth = 30,\n",
    "        min_samples_leaf=2,\n",
    "        max_leaf_nodes=3,\n",
    "        class_weight='balanced'\n",
    "    )\n",
    "    \n",
    "    start_time=time.time()\n",
    "    clf = clf.fit(X_train, y_train)\n",
    "    print(\"Training  model takes %s seconds\" % round((time.time() - start_time),3))\n",
    "\n",
    "    start = time.time()\n",
    "    y_pred = clf.predict(X_test)\n",
    "    end = time.time()\n",
    "    \n",
    "    print(\"Predicting test data takes %s seconds\" % round((end - start),3))\n",
    "    print(classification_report(y_test, y_pred))\n",
    "    \n",
    "    fpr, tpr, thresholds = roc_curve(y_test, y_pred, pos_label=1)\n",
    "    print('AUC is', auc(fpr, tpr))\n",
    "    \n",
    "    #Save Model\n",
    "    if save:\n",
    "        pickle.dump(clf, open(\"output/DecisionTree.p\",'wb'))"
   ]
  },
  {
   "cell_type": "markdown",
   "metadata": {},
   "source": [
    "<h2><center>Random Forest</center></h2>"
   ]
  },
  {
   "cell_type": "code",
   "execution_count": 27,
   "metadata": {},
   "outputs": [
    {
     "name": "stdout",
     "output_type": "stream",
     "text": [
      "Training  model takes 57.554 seconds\n",
      "Predicting test data takes 0.067 seconds\n",
      "              precision    recall  f1-score   support\n",
      "\n",
      "           0       0.84      0.81      0.83       480\n",
      "           1       0.33      0.38      0.35       120\n",
      "\n",
      "    accuracy                           0.73       600\n",
      "   macro avg       0.59      0.59      0.59       600\n",
      "weighted avg       0.74      0.72      0.73       600\n",
      "\n",
      "AUC is 0.59375\n"
     ]
    }
   ],
   "source": [
    "if run_random_forest:\n",
    "    clf = RandomForestClassifier(\n",
    "        n_estimators=300,\n",
    "        class_weight='balanced'\n",
    "    )\n",
    "    \n",
    "    start_time=time.time()\n",
    "    clf = clf.fit(X_train, y_train)\n",
    "    print(\"Training  model takes %s seconds\" % round((time.time() - start_time), 3))\n",
    "\n",
    "    start = time.time()\n",
    "    y_pred=clf.predict(X_test)\n",
    "    end = time.time()\n",
    "    \n",
    "    print(\"Predicting test data takes %s seconds\" % round((end - start), 3))\n",
    "    print(classification_report(y_test, y_pred))\n",
    "    \n",
    "    fpr, tpr, thresholds = roc_curve(y_test, y_pred, pos_label=1)\n",
    "    print('AUC is', auc(fpr, tpr))\n",
    "    \n",
    "    #Save Model\n",
    "    if save:\n",
    "        pickle.dump(clf, open(\"output/RandomForest.p\",'wb'))"
   ]
  },
  {
   "cell_type": "markdown",
   "metadata": {},
   "source": [
    "<h2><center>AdaBoost</center></h2>"
   ]
  },
  {
   "cell_type": "code",
   "execution_count": 28,
   "metadata": {},
   "outputs": [
    {
     "name": "stdout",
     "output_type": "stream",
     "text": [
      "Training  model takes 219.452 seconds\n",
      "Predicting test data takes 220.132 seconds\n",
      "              precision    recall  f1-score   support\n",
      "\n",
      "           0       0.85      0.75      0.80       480\n",
      "           1       0.32      0.48      0.39       120\n",
      "\n",
      "    accuracy                           0.69       600\n",
      "   macro avg       0.59      0.61      0.59       600\n",
      "weighted avg       0.75      0.69      0.71       600\n",
      "\n",
      "AUC is 0.6145833333333333\n"
     ]
    }
   ],
   "source": [
    "if run_adaboost:\n",
    "    clf = AdaBoostClassifier(n_estimators=200)\n",
    "    \n",
    "    start_time=time.time()\n",
    "    clf = clf.fit(X_train, y_train)\n",
    "    print(\"Training  model takes %s seconds\" % round((time.time() - start_time),3))\n",
    "\n",
    "    start_time=time.time()\n",
    "    y_pred=clf.predict(X_test)\n",
    "    end = time.time()\n",
    "    \n",
    "    print(\"Predicting test data takes %s seconds\" % round((end - start),3))\n",
    "    print(classification_report(y_test, y_pred))\n",
    "    \n",
    "    fpr, tpr, thresholds = roc_curve(y_test, y_pred, pos_label=1)\n",
    "    print('AUC is', auc(fpr, tpr))\n",
    "    \n",
    "    # save Model\n",
    "    if save:\n",
    "        pickle.dump(clf, open(\"output/AdaBoost.p\",'wb'))"
   ]
  },
  {
   "cell_type": "markdown",
   "metadata": {},
   "source": [
    "<h2><center>XGBoost</center></h2>"
   ]
  },
  {
   "cell_type": "code",
   "execution_count": null,
   "metadata": {},
   "outputs": [],
   "source": [
    "if run_xgboost:\n",
    "    param_dist = {'objective':'binary:logistic', 'n_estimators':2}\n",
    "    clf = xgb.XGBClassifier(**param_dist)\n",
    "    start_time=time.time()\n",
    "    clf = clf.fit(X_train, y_train)\n",
    "    print(\"Training  model takes %s seconds\" % round((time.time() - start_time),3))\n",
    "\n",
    "    start_time=time.time()\n",
    "    y_pred=clf.predict(X_test)\n",
    "    end = time.time()\n",
    "    \n",
    "    print(\"Predicting test data takes %s seconds\" % round((end - start_time),3))\n",
    "    print(classification_report(y_test, y_pred))\n",
    "    \n",
    "    fpr, tpr, thresholds = roc_curve(y_test, y_pred, pos_label=1)\n",
    "    print('AUC is', auc(fpr, tpr))\n",
    "    \n",
    "    # save Model\n",
    "    if save:\n",
    "        pickle.dump(clf, open(\"output/xgboost.p\",'wb'))"
   ]
  },
  {
   "cell_type": "markdown",
   "metadata": {},
   "source": [
    "<h2><center>Ridge Regression</center></h2>"
   ]
  },
  {
   "cell_type": "code",
   "execution_count": 30,
   "metadata": {},
   "outputs": [
    {
     "name": "stdout",
     "output_type": "stream",
     "text": [
      "Training  model takes 0.556 seconds\n",
      "Predicting test data takes 0.002 seconds\n",
      "              precision    recall  f1-score   support\n",
      "\n",
      "           0       0.86      0.76      0.81       480\n",
      "           1       0.34      0.49      0.40       120\n",
      "\n",
      "    accuracy                           0.71       600\n",
      "   macro avg       0.60      0.63      0.61       600\n",
      "weighted avg       0.75      0.71      0.73       600\n",
      "\n",
      "AUC is 0.628125\n"
     ]
    }
   ],
   "source": [
    "if run_ridge_regression:\n",
    "    \n",
    "    clf = RidgeClassifier()\n",
    "    start_time=time.time()\n",
    "    clf = clf.fit(X_train, y_train)\n",
    "    print(\"Training  model takes %s seconds\" % round((time.time() - start_time),3))\n",
    "\n",
    "    start_time=time.time()\n",
    "    y_pred=clf.predict(X_test)\n",
    "    end = time.time()\n",
    "    \n",
    "    print(\"Predicting test data takes %s seconds\" % round((end - start_time),3))\n",
    "    print(classification_report(y_test, y_pred))\n",
    "    \n",
    "    fpr, tpr, thresholds = roc_curve(y_test, y_pred, pos_label=1)\n",
    "    print('AUC is', auc(fpr, tpr))\n",
    "    \n",
    "    # save Model\n",
    "    if save:\n",
    "        pickle.dump(clf, open(\"output/Ridge.p\",'wb'))"
   ]
  },
  {
   "cell_type": "markdown",
   "metadata": {},
   "source": [
    "<h2><center>Gaussian Naive Bayes</center></h2>"
   ]
  },
  {
   "cell_type": "code",
   "execution_count": 31,
   "metadata": {},
   "outputs": [
    {
     "name": "stdout",
     "output_type": "stream",
     "text": [
      "Training  model takes 0.161 seconds\n",
      "Predicting test data takes 0.026 seconds\n",
      "              precision    recall  f1-score   support\n",
      "\n",
      "           0       0.82      0.45      0.59       480\n",
      "           1       0.22      0.61      0.32       120\n",
      "\n",
      "    accuracy                           0.48       600\n",
      "   macro avg       0.52      0.53      0.45       600\n",
      "weighted avg       0.70      0.48      0.53       600\n",
      "\n",
      "AUC is 0.53125\n"
     ]
    }
   ],
   "source": [
    "if run_gaussian_nb:\n",
    "    \n",
    "    clf = GaussianNB()\n",
    "    start_time=time.time()\n",
    "    clf = clf.fit(X_train, y_train)\n",
    "    print(\"Training  model takes %s seconds\" % round((time.time() - start_time),3))\n",
    "\n",
    "    start_time=time.time()\n",
    "    y_pred=clf.predict(X_test)\n",
    "    end = time.time()\n",
    "    \n",
    "    print(\"Predicting test data takes %s seconds\" % round((end - start_time),3))\n",
    "    print(classification_report(y_test, y_pred))\n",
    "    \n",
    "    fpr, tpr, thresholds = roc_curve(y_test, y_pred, pos_label=1)\n",
    "    print('AUC is', auc(fpr, tpr))\n",
    "    \n",
    "    #Save Model\n",
    "    if save:\n",
    "        pickle.dump(clf, open(\"output/GaussianNB.p\",'wb'))"
   ]
  },
  {
   "cell_type": "markdown",
   "metadata": {},
   "source": [
    "<h2><center>Lasso Regression</center></h2>"
   ]
  },
  {
   "cell_type": "code",
   "execution_count": 32,
   "metadata": {},
   "outputs": [
    {
     "name": "stdout",
     "output_type": "stream",
     "text": [
      "Training  model takes 6.689 seconds\n",
      "Predicting test data takes 0.002 seconds\n",
      "              precision    recall  f1-score   support\n",
      "\n",
      "           0       0.88      0.60      0.72       480\n",
      "           1       0.30      0.68      0.42       120\n",
      "\n",
      "    accuracy                           0.62       600\n",
      "   macro avg       0.59      0.64      0.57       600\n",
      "weighted avg       0.77      0.62      0.66       600\n",
      "\n",
      "AUC is 0.6427083333333333\n"
     ]
    }
   ],
   "source": [
    "if run_lasso_regression:\n",
    "    \n",
    "    clf = Lasso(alpha=0.1)\n",
    "    start_time=time.time()\n",
    "    clf = clf.fit(X_train, y_train)\n",
    "    print(\"Training  model takes %s seconds\" % round((time.time() - start_time),3))\n",
    "\n",
    "    start_time=time.time()\n",
    "    y_pred=clf.predict(X_test)\n",
    "    end = time.time()\n",
    "    \n",
    "    print(\"Predicting test data takes %s seconds\" % round((end - start_time),3))\n",
    "    \n",
    "    y_pred_adjusted = []\n",
    "    for pred in y_pred:\n",
    "        if pred>=0.5:\n",
    "            y_pred_adjusted.append(1)\n",
    "        else: y_pred_adjusted.append(0)\n",
    "            \n",
    "    y_pred_adjusted = np.asarray(y_pred_adjusted)\n",
    "    \n",
    "    print(classification_report(y_test, y_pred_adjusted))\n",
    "    \n",
    "    fpr, tpr, thresholds = roc_curve(y_test, y_pred_adjusted, pos_label=1)\n",
    "    print('AUC is', auc(fpr, tpr))\n",
    "    \n",
    "    # save Model\n",
    "    if save:\n",
    "        pickle.dump(clf, open(\"output/Lasso.p\",'wb'))"
   ]
  },
  {
   "cell_type": "markdown",
   "metadata": {},
   "source": [
    "<h2><center>Voting Ensemble Classifier(3 models)</center></h2>"
   ]
  },
  {
   "cell_type": "markdown",
   "metadata": {},
   "source": [
    "**Note:** Training this classifier will take a while (~20-25 mins). "
   ]
  },
  {
   "cell_type": "code",
   "execution_count": 66,
   "metadata": {},
   "outputs": [
    {
     "name": "stdout",
     "output_type": "stream",
     "text": [
      "Training model takes 1307.98 seconds\n",
      "Predicting test data takes 0.914 seconds\n",
      "              precision    recall  f1-score   support\n",
      "\n",
      "           0       0.87      0.80      0.83       480\n",
      "           1       0.39      0.51      0.44       120\n",
      "\n",
      "    accuracy                           0.74       600\n",
      "   macro avg       0.63      0.65      0.63       600\n",
      "weighted avg       0.77      0.74      0.75       600\n",
      "\n",
      "AUC is 0.6531249999999998\n"
     ]
    }
   ],
   "source": [
    "if not run_voting_classifier:\n",
    "    # create three classifiers\n",
    "    clf1 = LogisticRegression(\n",
    "        penalty='l2',\n",
    "        max_iter=10000,\n",
    "        fit_intercept=True,\n",
    "        solver='newton-cg',\n",
    "        tol=10\n",
    "    )\n",
    "    clf2 = SVC(C=1, gamma=.001, kernel='linear', probability=False)\n",
    "    clf3 = GaussianNB()\n",
    "\n",
    "    # create a voting classifier\n",
    "    eclf2 = VotingClassifier(estimators=[\n",
    "      ('lr', clf1), ('dt', clf2), ('gnb', clf3)],\n",
    "      voting='hard')\n",
    "    \n",
    "    # fit voting classifier\n",
    "    start_time=time.time()\n",
    "    clf = eclf2.fit(X_train, y_train)\n",
    "    print(\"Training model takes %s seconds\" % round((time.time() - start_time),3))\n",
    "\n",
    "    # predict voting classifier\n",
    "    start_time=time.time()\n",
    "    y_pred = clf.predict(X_test)\n",
    "    end = time.time()\n",
    "    \n",
    "    # evaluate voting classifier\n",
    "    print(\"Predicting test data takes %s seconds\" % round((end - start_time),3))\n",
    "    print(classification_report(y_test, y_pred))\n",
    "    \n",
    "    fpr, tpr, thresholds = roc_curve(y_test, y_pred, pos_label=1)\n",
    "    print('AUC is', auc(fpr, tpr))\n",
    "\n",
    "    # Save Model\n",
    "    if save:\n",
    "        pickle.dump(clf, open(\"output/voting_classifier.p\",'wb'))   "
   ]
  },
  {
   "cell_type": "markdown",
   "metadata": {},
   "source": [
    "<h2><center>Neural Network</center></h2>"
   ]
  },
  {
   "cell_type": "code",
   "execution_count": 75,
   "metadata": {},
   "outputs": [],
   "source": [
    "# define a function to plot results of neural network\n",
    "def plot_nn(history):\n",
    "    tp = history.history['tp']\n",
    "    val_tp = history.history['val_tp']\n",
    "\n",
    "    rc = history.history['recall']\n",
    "    val_rc = history.history['val_recall']\n",
    "\n",
    "    pr = history.history['precision']\n",
    "    val_pr = history.history['val_precision']\n",
    "\n",
    "    loss = history.history['loss']\n",
    "    val_loss = history.history['val_loss']\n",
    "\n",
    "    tp = history.history['tp']\n",
    "    val_tp = history.history['val_tp']\n",
    "\n",
    "    tn = history.history['tn']\n",
    "    val_tn = history.history['val_tn']\n",
    "\n",
    "    fp = history.history['fp']\n",
    "    val_fp = history.history['val_fp']\n",
    "\n",
    "    fn = history.history['fn']\n",
    "    val_fn = history.history['val_fn']\n",
    "\n",
    "    epochs_range = range(len(history.history['tp']))\n",
    "\n",
    "    plt.figure(figsize=(20, 8))\n",
    "\n",
    "    plt.subplot(1, 3, 1)\n",
    "    plt.plot(epochs_range, pr, label='Training Precision')\n",
    "    plt.plot(epochs_range, val_pr, label='Validation Precision')\n",
    "    plt.legend(loc='lower right')\n",
    "    plt.title('Training and Validation Precision')\n",
    "\n",
    "    plt.subplot(1, 3, 2)\n",
    "    plt.plot(epochs_range, rc, label='Training Recall')\n",
    "    plt.plot(epochs_range, val_rc, label='Validation Recall')\n",
    "    plt.legend(loc='lower right')\n",
    "    plt.title('Training and Validation Recall')\n",
    "\n",
    "    plt.subplot(1, 3, 3)\n",
    "    plt.plot(epochs_range, loss, label='Training Loss')\n",
    "    plt.plot(epochs_range, val_loss, label='Validation Loss')\n",
    "    plt.legend(loc='upper right')\n",
    "    plt.title('Training and Validation Loss')\n",
    "\n",
    "    plt.show()\n",
    "    plt.figure(figsize=(20, 8))\n",
    "\n",
    "    plt.subplot(2, 4, 1)\n",
    "    plt.plot(epochs_range, tp, label='True Positive')\n",
    "    plt.plot(epochs_range, val_tp, label='Validation True Positive')\n",
    "    plt.legend(loc='lower right')\n",
    "    plt.title('Training and Validation True Positive')\n",
    "\n",
    "    plt.subplot(2, 4, 2)\n",
    "    plt.plot(epochs_range, tn, label='True Negative')\n",
    "    plt.plot(epochs_range, val_tn, label='Validation True Negative')\n",
    "    plt.legend(loc='lower right')\n",
    "    plt.title('Training and Validation True Negative')\n",
    "\n",
    "    plt.subplot(2, 4, 3)\n",
    "    plt.plot(epochs_range, fp, label='False Positive')\n",
    "    plt.plot(epochs_range, val_fp, label='Validation False Positive')\n",
    "    plt.legend(loc='upper right')\n",
    "    plt.title('Training and Validation False Positive')\n",
    "\n",
    "    plt.subplot(2, 4, 4)\n",
    "    plt.plot(epochs_range, fn, label='False Negative')\n",
    "    plt.plot(epochs_range, val_fn, label='Validation False Negative')\n",
    "    plt.legend(loc='upper right')\n",
    "    plt.title('Training and Validation False Negative')\n",
    "\n",
    "    plt.show()"
   ]
  },
  {
   "cell_type": "code",
   "execution_count": 70,
   "metadata": {},
   "outputs": [],
   "source": [
    "# split train data into train and validation\n",
    "X_train_nn, X_val_nn, y_train_nn, y_val_nn = train_test_split(\n",
    "    X_train, \n",
    "    y_train, \n",
    "    test_size=0.2, \n",
    "    random_state=0, \n",
    "    stratify=y_train\n",
    ")"
   ]
  },
  {
   "cell_type": "code",
   "execution_count": null,
   "metadata": {},
   "outputs": [],
   "source": [
    "# Here, we define metrics to be used when training the Neural Network# \n",
    "METRICS = [\n",
    "    keras.metrics.TruePositives(name='tp'),\n",
    "    keras.metrics.FalsePositives(name='fp'),\n",
    "    keras.metrics.TrueNegatives(name='tn'),\n",
    "    keras.metrics.FalseNegatives(name='fn'), \n",
    "    keras.metrics.BinaryAccuracy(name='accuracy'),\n",
    "    keras.metrics.Precision(name='precision'),\n",
    "    keras.metrics.Recall(name='recall'),\n",
    "    keras.metrics.AUC(name='auc'),\n",
    "]\n",
    "\n",
    "EPOCHS = 100\n",
    "\n",
    "# Early stopping will ensure that the model doesn't overfit the data\n",
    "early_stopping = tf.keras.callbacks.EarlyStopping(\n",
    "    monitor='val_auc', \n",
    "    verbose=1,\n",
    "    patience=10,\n",
    "    mode='max',\n",
    "    restore_best_weights=True)\n",
    "\n",
    "history = None\n",
    "\n",
    "# run the model\n",
    "if run_nn: \n",
    "    checkpoint_path = \"saved_model/cp.ckpt\"\n",
    "    cp_callback = tf.keras.callbacks.ModelCheckpoint(filepath=checkpoint_path,\n",
    "                                                     save_weights_only=True,\n",
    "                                                     verbose=1)\n",
    "    model_nn = Sequential([\n",
    "            layers.BatchNormalization(),\n",
    "            layers.Dense(512, activation='relu', kernel_regularizer=l2(1e-5)),\n",
    "            layers.Dropout(0.2),\n",
    "            layers.Dense(256, activation='relu', kernel_regularizer=l1_l2(l1=1e-06, l2=0.0001)),\n",
    "            layers.Dropout(0.2),\n",
    "            layers.Dense(128, activation='relu'),\n",
    "            layers.Dropout(0.2),\n",
    "            layers.Dense(1, activation='sigmoid'),\n",
    "        ])\n",
    "\n",
    "    model_nn.compile(optimizer='adamax',\n",
    "                  loss=tf.keras.losses.BinaryCrossentropy(),\n",
    "                  metrics=METRICS)\n",
    "    \n",
    "    # train the model\n",
    "    start = time.time()\n",
    "    history = model_nn.fit(\n",
    "        X_train_nn, y_train_nn,\n",
    "        validation_data=(X_val_nn, y_val_nn),\n",
    "        epochs=EPOCHS,\n",
    "        callbacks=[early_stopping, cp_callback],\n",
    "        verbose=0\n",
    "    )\n",
    "    print(\"Training  model takes %s seconds\" % round((time.time() - start_time),3))\n",
    "    \n",
    "    # make predictions\n",
    "    scores = []\n",
    "    y_pred = []\n",
    "    \n",
    "    start = time.time()\n",
    "    predictions = model_nn.predict(X_test)\n",
    "    \n",
    "    # convert probabilities to classes\n",
    "    for pred in predictions:\n",
    "\n",
    "        if pred > 0.5:\n",
    "            y_pred.append(1)\n",
    "        else:\n",
    "            y_pred.append(0)\n",
    "            \n",
    "    print(\"Predicting test data takes %s seconds\" % round((end - start), 3))\n",
    "\n",
    "    print(confusion_matrix(y_true=y_test, y_pred=y_pred))\n",
    "    print(classification_report(y_true=y_test, y_pred=y_pred))\n",
    "    \n",
    "    # save model\n",
    "    if save:\n",
    "        model_nn.save('/output/nn.h5')\n",
    "    \n",
    "else:\n",
    "    # load trained model\n",
    "    model_nn = tf.keras.models.load_model('saved_model/nn.h5', compile=False)\n",
    "    model_nn.compile(optimizer='adamax',\n",
    "                  loss=tf.keras.losses.BinaryCrossentropy(),\n",
    "                  metrics=METRICS)\n",
    "\n",
    "    model_nn.evaluate(X_test, y_test)"
   ]
  },
  {
   "cell_type": "code",
   "execution_count": 76,
   "metadata": {},
   "outputs": [
    {
     "data": {
      "image/png": "[encoded data removed]",
      "text/plain": [
       "<Figure size 1440x576 with 3 Axes>"
      ]
     },
     "metadata": {
      "needs_background": "light"
     },
     "output_type": "display_data"
    },
    {
     "data": {
      "image/png": "[encoded data removed]",
      "text/plain": [
       "<Figure size 1440x576 with 4 Axes>"
      ]
     },
     "metadata": {
      "needs_background": "light"
     },
     "output_type": "display_data"
    }
   ],
   "source": [
    "if model_nn:\n",
    "    plot_nn(history)"
   ]
  }
 ],
 "metadata": {
  "accelerator": "GPU",
  "colab": {
   "collapsed_sections": [
    "Z7MZyIrlF6-T",
    "BzCyc9zKjlMy",
    "uMEZS3dM4ZWx",
    "TrXYV2SG0sY3",
    "sN_RJxSAGy4S",
    "EMyQ3TpAGrcm",
    "7qxL8HAif314",
    "XshRc1eRfVxM"
   ],
   "name": "olha_gbm_cnn.ipynb",
   "provenance": [],
   "toc_visible": true
  },
  "kernelspec": {
   "display_name": "Python 3",
   "language": "python",
   "name": "python3"
  },
  "language_info": {
   "codemirror_mode": {
    "name": "ipython",
    "version": 3
   },
   "file_extension": ".py",
   "mimetype": "text/x-python",
   "name": "python",
   "nbconvert_exporter": "python",
   "pygments_lexer": "ipython3",
   "version": "3.8.5"
  }
 },
 "nbformat": 4,
 "nbformat_minor": 4
}
