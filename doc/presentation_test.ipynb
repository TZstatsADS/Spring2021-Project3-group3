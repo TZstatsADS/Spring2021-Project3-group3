{
 "cells": [
  {
   "cell_type": "markdown",
   "metadata": {},
   "source": [
    "presentation day test "
   ]
  },
  {
   "cell_type": "code",
   "execution_count": null,
   "metadata": {},
   "outputs": [],
   "source": [
    "import pandas as pd\n",
    "import os\n",
    "import scipy.io\n",
    "import numpy as np\n",
    "import ipynb\n",
    "import sys\n",
    "import pickle\n",
    "sys.path.append('C:/Users/liqia/Spring2021-Project3-group-3-master/lib/')"
   ]
  },
  {
   "cell_type": "code",
   "execution_count": null,
   "metadata": {},
   "outputs": [],
   "source": [
    "#3 columns: index, baseline, advanced\n",
    "index=list(range(1,2500))\n",
    "test_df=pd.DataFrame({'index':index})\n",
    "test_df['baseline']=\"\"\n",
    "test_df['advanced']=\"\"\n",
    "test_df.to_csv('C:/Users/liqia/Spring2021-Project3-group-3-master/data/label_prediction_test.csv',index=False)"
   ]
  },
  {
   "cell_type": "code",
   "execution_count": null,
   "metadata": {},
   "outputs": [],
   "source": [
    "results = pd.read_csv('C:/Users/liqia/Spring2021-Project3-group-3-master/data/label_prediction_test.csv')"
   ]
  },
  {
   "cell_type": "markdown",
   "metadata": {},
   "source": [
    "#read in test fiducial data \n",
    "\n",
    "n_files = len(os.listdir('C:/Users/liqia/Spring2021-Project3-group-3-master//data/test_set/points/'))\n",
    "test_pt_dir = 'C:/Users/liqia/Spring2021-Project3-group-3-master/data/test_set_points/'\n",
    "\n",
    "def readMat_matrix(index):\n",
    "    try:\n",
    "        mat_data = scipy.io.loadmat(test_pt_dir+'{:04d}'.format(index)+'.mat')['faceCoordinatesUnwarped']\n",
    "    except KeyError:\n",
    "        mat_data = scipy.io.loadmat(test_pt_dir+'{:04d}'.format(index)+'.mat')['faceCoordinates2']\n",
    "    return np.matrix.round(mat_data,0)\n",
    "\n",
    "#load fiducial points\n",
    "fiducial_pt_list = list(map(readMat_matrix,list(range(1,n_files+1))))\n",
    "#fiducial_pt_list = list(map(readMat_matrix,list(results['index'])))"
   ]
  },
  {
   "cell_type": "code",
   "execution_count": null,
   "metadata": {},
   "outputs": [],
   "source": [
    "#read in test fiducial data \n",
    "\n",
    "n_files = len(os.listdir('C:/Users/liqia/Spring2021-Project3-group-3-master//data/test_set/points/'))\n",
    "test_pt_dir = 'C:/Users/liqia/Spring2021-Project3-group-3-master/data/test_set_points/'\n",
    "\n",
    "def readMat_matrix(index):\n",
    "    try:\n",
    "        mat_data = scipy.io.loadmat(test_pt_dir+'{:04d}'.format(index)+'.mat')['faceCoordinatesUnwarped']\n",
    "    except KeyError:\n",
    "        mat_data = scipy.io.loadmat(test_pt_dir+'{:04d}'.format(index)+'.mat')['faceCoordinates2']\n",
    "    return np.matrix.round(mat_data,0)\n",
    "\n",
    "#load fiducial points\n",
    "fiducial_pt_list = list(map(readMat_matrix,list(range(1,n_files+1))))\n",
    "#fiducial_pt_list = list(map(readMat_matrix,list(results['index'])))"
   ]
  },
  {
   "cell_type": "code",
   "execution_count": null,
   "metadata": {},
   "outputs": [],
   "source": [
    "from ipynb.fs.full.feature import feature_initial\n",
    "\n",
    "baseline = pickle.load(open(\"C:/Users/liqia/Spring2021-Project3-group-3-master/output/baseline.p\", \"rb\"))\n",
    "baseline_features = feature_initial(fiducial_pt_list,results['index'])\n",
    "baseline_preds = baseline.predict(baseline_features)\n",
    "results['baseline'] = list(baseline_preds)"
   ]
  },
  {
   "cell_type": "code",
   "execution_count": null,
   "metadata": {},
   "outputs": [],
   "source": [
    "from ipynb.fs.full.feature import feature_improved\n",
    "\n",
    "advanced = pickle.load(open(\"C:/Users/liqia/Spring2021-Project3-group-3-master/output/advanced.p\", \"rb\"))\n",
    "advanced_features = feature_improved(fiducial_pt_list,results['index'])\n",
    "advanced_preds = advanced.predict(advanced_features)\n",
    "results['advanced'] = list(advanced_preds)"
   ]
  },
  {
   "cell_type": "code",
   "execution_count": null,
   "metadata": {},
   "outputs": [],
   "source": [
    "results.to_csv('C:/Users/liqia/Spring2021-Project3-group-3-master/output/label_prediction.csv',index=False)"
   ]
  },
  {
   "cell_type": "code",
   "execution_count": null,
   "metadata": {},
   "outputs": [],
   "source": [
    "results.head(10)"
   ]
  },
  {
   "cell_type": "code",
   "execution_count": null,
   "metadata": {},
   "outputs": [],
   "source": []
  }
 ],
 "metadata": {
  "kernelspec": {
   "display_name": "Python 3",
   "language": "python",
   "name": "python3"
  },
  "language_info": {
   "codemirror_mode": {
    "name": "ipython",
    "version": 3
   },
   "file_extension": ".py",
   "mimetype": "text/x-python",
   "name": "python",
   "nbconvert_exporter": "python",
   "pygments_lexer": "ipython3",
   "version": "3.8.5"
  }
 },
 "nbformat": 4,
 "nbformat_minor": 4
}
