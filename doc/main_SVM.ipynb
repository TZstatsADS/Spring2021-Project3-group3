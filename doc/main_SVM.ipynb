{
 "cells": [
  {
   "cell_type": "markdown",
   "metadata": {},
   "source": [
    "Import Required Packages"
   ]
  },
  {
   "cell_type": "code",
   "execution_count": 28,
   "metadata": {},
   "outputs": [],
   "source": [
    "import numpy as np\n",
    "import scipy.io\n",
    "import sklearn.metrics\n",
    "import sklearn \n",
    "import os\n",
    "import random\n",
    "import pandas as pd\n",
    "import time"
   ]
  },
  {
   "cell_type": "code",
   "execution_count": 29,
   "metadata": {},
   "outputs": [],
   "source": [
    "# set path "
   ]
  },
  {
   "cell_type": "code",
   "execution_count": 30,
   "metadata": {},
   "outputs": [],
   "source": [
    "path = \"C:/Users/liqia/Spring2021-Project3-group-3-master/data//train_set\"\n",
    "image_dir = path+\"images/\"\n",
    "pt_dir = path+\"points/\"\n",
    "label_path = path+\"label.csv\""
   ]
  },
  {
   "cell_type": "markdown",
   "metadata": {},
   "source": [
    "read files"
   ]
  },
  {
   "cell_type": "code",
   "execution_count": 31,
   "metadata": {},
   "outputs": [],
   "source": [
    "def read_data(path):\n",
    "  \n",
    "  # read labels\n",
    "  labels = pd.read_csv(path+'/label.csv')\n",
    "  y= labels['label'].to_numpy()\n",
    "\n",
    "  # read points\n",
    "  n = 3000\n",
    "  for i in range(1,n+1):\n",
    "    p_path = str(i).zfill(4)+'.mat'\n",
    "    mat = scipy.io.loadmat(path+'/points/'+p_path)\n",
    "    if 'faceCoordinatesUnwarped' in mat:\n",
    "      cords = mat['faceCoordinatesUnwarped'] \n",
    "    else:\n",
    "      cords = mat['faceCoordinates2']\n",
    "\n",
    "    distance = sklearn.metrics.pairwise_distances(cords)       \n",
    "          # compute the pairwise distances in each mat\n",
    "    flatten_distance = distance[np.triu_indices(len(cords[:,0]), k = 1)]    \n",
    "          # stretch the upper triangle of the symmetric matrix \n",
    "          # to a long array with dimension 3003\n",
    "          # 3003 = (1+77)*78/2\n",
    "    if i==1:\n",
    "      distances = np.mat([flatten_distance])\n",
    "    else:\n",
    "      distances = np.append(distances, np.mat([flatten_distance]), axis = 0)\n",
    "  return (distances, y)"
   ]
  },
  {
   "cell_type": "code",
   "execution_count": 32,
   "metadata": {},
   "outputs": [
    {
     "name": "stdout",
     "output_type": "stream",
     "text": [
      "Read the original dataset takes 52.557 seconds\n"
     ]
    }
   ],
   "source": [
    "read_time_start=time.time()\n",
    "X, Y = read_data(path)\n",
    "print(\"Read the original dataset takes %s seconds\" % round((time.time() - read_time_start),3))"
   ]
  },
  {
   "cell_type": "code",
   "execution_count": 33,
   "metadata": {},
   "outputs": [
    {
     "data": {
      "text/plain": [
       "((3000, 3003), (3000,))"
      ]
     },
     "execution_count": 33,
     "metadata": {},
     "output_type": "execute_result"
    }
   ],
   "source": [
    "X.shape, Y.shape "
   ]
  },
  {
   "cell_type": "markdown",
   "metadata": {},
   "source": [
    "Data Preprocessing Imbalanced Dataset (SMOTE)-oversamplig"
   ]
  },
  {
   "cell_type": "code",
   "execution_count": 34,
   "metadata": {},
   "outputs": [
    {
     "name": "stdout",
     "output_type": "stream",
     "text": [
      "majority class: 2402\n",
      "minority class: 598\n"
     ]
    }
   ],
   "source": [
    "print('majority class: %d' % np.sum(Y == 0))\n",
    "print('minority class: %d' % np.sum(Y == 1))\n",
    "#imbalanced dataset"
   ]
  },
  {
   "cell_type": "code",
   "execution_count": 35,
   "metadata": {},
   "outputs": [],
   "source": [
    "def data_preprocessing(X, Y, path):\n",
    "\n",
    "  distances = X\n",
    "  y = Y\n",
    "\n",
    "  n = y.shape[0]\n",
    "  mat_1 = np.add(np.where(y == 1),1)\n",
    "  n_oversample = (n-sum(y))-sum(y) \n",
    "    # how many samples do we need to generate\n",
    "\n",
    "  for i in range(n_oversample):\n",
    "    samples_index = random.sample(list(list(mat_1)[0]), 2)\n",
    "      # pick two random index of class 1 samples. \n",
    "\n",
    "    p_path = str(samples_index[0]).zfill(4)+'.mat'\n",
    "    mat = scipy.io.loadmat(path+'/points/'+p_path)\n",
    "    if 'faceCoordinatesUnwarped' in mat:\n",
    "      cords_0 = mat['faceCoordinatesUnwarped'] \n",
    "    else:\n",
    "      cords_0 = mat['faceCoordinates2']\n",
    "    \n",
    "    p_path = str(samples_index[1]).zfill(4)+'.mat'\n",
    "    mat = scipy.io.loadmat(path+'/points/'+p_path)\n",
    "    if 'faceCoordinatesUnwarped' in mat:\n",
    "      cords_1 = mat['faceCoordinatesUnwarped'] \n",
    "    else:\n",
    "      cords_1 = mat['faceCoordinates2']\n",
    "\n",
    "    cords_new = (cords_0 + cords_1) / 2 \n",
    "        # averaging two sets of cordinates to generate new set of cordinates\n",
    "    distance = sklearn.metrics.pairwise_distances(cords_new)\n",
    "        # compute the pairwise distances in each mat\n",
    "    flatten_distance = distance[np.triu_indices(len(cords_new[:,0]), k = 1)]\n",
    "        # stretch the upper triangle of the symmetric matrix \n",
    "        # to a long array with dimension 3003\n",
    "        # 3003 = (1+77)*78/2\n",
    "    \n",
    "    distances = np.append(distances, np.mat([flatten_distance]), axis = 0)\n",
    "    y = np.append(y,np.array(1))\n",
    "        # Append new data to the original dataset\n",
    "\n",
    "  return (distances, y)"
   ]
  },
  {
   "cell_type": "code",
   "execution_count": 36,
   "metadata": {},
   "outputs": [],
   "source": [
    "Balanced_X, Blanced_Y = data_preprocessing(X, Y, path)"
   ]
  },
  {
   "cell_type": "code",
   "execution_count": 37,
   "metadata": {},
   "outputs": [
    {
     "data": {
      "text/plain": [
       "((4804, 3003), (4804,))"
      ]
     },
     "execution_count": 37,
     "metadata": {},
     "output_type": "execute_result"
    }
   ],
   "source": [
    "Balanced_X.shape, Blanced_Y.shape"
   ]
  },
  {
   "cell_type": "markdown",
   "metadata": {},
   "source": [
    "split data"
   ]
  },
  {
   "cell_type": "code",
   "execution_count": 38,
   "metadata": {},
   "outputs": [],
   "source": [
    "import numpy as np\n",
    "import matplotlib.pyplot as plt\n",
    "import smote_variants as sv\n",
    "import imbalanced_databases as imbd\n",
    "import random\n",
    "random.seed(2021)"
   ]
  },
  {
   "cell_type": "code",
   "execution_count": 57,
   "metadata": {},
   "outputs": [],
   "source": [
    "from sklearn.model_selection import train_test_split\n",
    "X_train,X_test,y_train,y_test= train_test_split(Balanced_X, Blanced_Y,test_size=0.2,random_state=0)\n"
   ]
  },
  {
   "cell_type": "code",
   "execution_count": 40,
   "metadata": {
    "scrolled": true
   },
   "outputs": [
    {
     "data": {
      "text/plain": [
       "((2400, 3003), (2400,), (600, 3003), (600,))"
      ]
     },
     "execution_count": 40,
     "metadata": {},
     "output_type": "execute_result"
    }
   ],
   "source": [
    "#split train and test with size=0.20.2\n",
    "\n",
    "from sklearn.model_selection import train_test_split\n",
    "X_train,X_test,y_train,y_test= train_test_split(X,Y,test_size=0.2,random_state=0)\n",
    "X_train.shape, y_train.shape, X_test.shape, y_test.shape"
   ]
  },
  {
   "cell_type": "markdown",
   "metadata": {},
   "source": [
    "GBM model goes here (both original and updated)"
   ]
  },
  {
   "cell_type": "code",
   "execution_count": null,
   "metadata": {},
   "outputs": [],
   "source": [
    "model_xgb = XGBClassifier()\n",
    "model_xgb.fit(X_train, y_train)"
   ]
  },
  {
   "cell_type": "code",
   "execution_count": null,
   "metadata": {},
   "outputs": [],
   "source": [
    "# make a prediction\n",
    "X_test_flatten = test_images.reshape(600, 128*128*3)\n",
    "y_pred = model.predict(X_test_flatten_smote)"
   ]
  },
  {
   "cell_type": "code",
   "execution_count": null,
   "metadata": {},
   "outputs": [],
   "source": [
    "# print the confusion matrix\n",
    "conf_mat = confusion_matrix(y_true=test_labels_smote, y_pred=y_pred)\n",
    "print(conf_mat)"
   ]
  },
  {
   "cell_type": "code",
   "execution_count": null,
   "metadata": {},
   "outputs": [],
   "source": [
    "print(classification_report(y_true=test_labels_smote, y_pred=y_pred))"
   ]
  },
  {
   "cell_type": "code",
   "execution_count": null,
   "metadata": {},
   "outputs": [],
   "source": [
    "# Save best gbm model\n",
    "pickle.dump(gbm_best, open(\"C:/Users/liqia/Spring2021-Project3-group-3-master/output/baseline_gbm.p\",'wb'))\n"
   ]
  },
  {
   "cell_type": "code",
   "execution_count": null,
   "metadata": {},
   "outputs": [],
   "source": [
    "#Save trained weighted SVM model\n",
    "pickle.dump(weighted_svm_best, open(\"C:/Users/liqia/Spring2021-Project3-group-3-master/output/best_weighted_svm.p\",'wb'))\n"
   ]
  },
  {
   "cell_type": "markdown",
   "metadata": {},
   "source": [
    "SVM"
   ]
  },
  {
   "cell_type": "code",
   "execution_count": 59,
   "metadata": {},
   "outputs": [],
   "source": [
    "import numpy as np\n",
    "import pandas as pd\n",
    "import tensorflow as tf\n",
    "import matplotlib.pyplot as plt\n",
    "import sklearn\n",
    "from sklearn.ensemble import GradientBoostingClassifier\n",
    "from sklearn.datasets import make_classification\n",
    "from sklearn.model_selection import train_test_split, cross_validate, GridSearchCV,RepeatedStratifiedKFold,cross_val_score\n",
    "from sklearn.neighbors import KNeighborsClassifier\n",
    "import scipy.io\n",
    "import pickle\n",
    "import os, sys\n",
    "from scipy.spatial.distance import pdist\n",
    "import time \n",
    "import xlsxwriter\n",
    "from sklearn.metrics import accuracy_score, classification_report,make_scorer, confusion_matrix,roc_auc_score\n",
    "from sklearn.model_selection import GridSearchCV\n",
    "import tensorflow as tf\n",
    "#from keras.utils import to_categorical\n",
    "from tensorflow.keras.models import Sequential\n",
    "from sklearn import ensemble\n",
    "from sklearn.svm import SVC\n",
    "import random\n",
    "from keras.utils import to_categorical\n",
    "import matplotlib.pyplot as plt\n",
    "from tensorflow.keras.models import Sequential\n",
    "from keras.layers import Dense, Activation, Flatten, Input, Dropout\n",
    "from keras.layers import BatchNormalization\n",
    "from keras.models import Model\n",
    "from keras import initializers\n",
    "from keras.optimizers import Adam\n",
    "from keras.utils import to_categorical"
   ]
  },
  {
   "cell_type": "code",
   "execution_count": 60,
   "metadata": {},
   "outputs": [
    {
     "name": "stdout",
     "output_type": "stream",
     "text": [
      "Fitting 5 folds for each of 25 candidates, totalling 125 fits\n",
      "[CV 1/5] END .....................C=0.1, gamma=1, kernel=rbf; total time=  28.5s\n",
      "[CV 2/5] END .....................C=0.1, gamma=1, kernel=rbf; total time=  24.6s\n",
      "[CV 3/5] END .....................C=0.1, gamma=1, kernel=rbf; total time=  26.3s\n",
      "[CV 4/5] END .....................C=0.1, gamma=1, kernel=rbf; total time=  25.7s\n",
      "[CV 5/5] END .....................C=0.1, gamma=1, kernel=rbf; total time=  27.2s\n",
      "[CV 1/5] END ...................C=0.1, gamma=0.1, kernel=rbf; total time=  26.8s\n",
      "[CV 2/5] END ...................C=0.1, gamma=0.1, kernel=rbf; total time=  27.4s\n",
      "[CV 3/5] END ...................C=0.1, gamma=0.1, kernel=rbf; total time=  26.9s\n",
      "[CV 4/5] END ...................C=0.1, gamma=0.1, kernel=rbf; total time=  26.2s\n",
      "[CV 5/5] END ...................C=0.1, gamma=0.1, kernel=rbf; total time=  26.3s\n",
      "[CV 1/5] END ..................C=0.1, gamma=0.01, kernel=rbf; total time=  27.4s\n",
      "[CV 2/5] END ..................C=0.1, gamma=0.01, kernel=rbf; total time=  25.7s\n",
      "[CV 3/5] END ..................C=0.1, gamma=0.01, kernel=rbf; total time=  25.4s\n",
      "[CV 4/5] END ..................C=0.1, gamma=0.01, kernel=rbf; total time=  24.8s\n",
      "[CV 5/5] END ..................C=0.1, gamma=0.01, kernel=rbf; total time=  25.3s\n",
      "[CV 1/5] END .................C=0.1, gamma=0.001, kernel=rbf; total time=  24.2s\n",
      "[CV 2/5] END .................C=0.1, gamma=0.001, kernel=rbf; total time=  24.0s\n",
      "[CV 3/5] END .................C=0.1, gamma=0.001, kernel=rbf; total time=  24.2s\n",
      "[CV 4/5] END .................C=0.1, gamma=0.001, kernel=rbf; total time=  24.6s\n",
      "[CV 5/5] END .................C=0.1, gamma=0.001, kernel=rbf; total time=  24.3s\n",
      "[CV 1/5] END ................C=0.1, gamma=0.0001, kernel=rbf; total time=  23.3s\n",
      "[CV 2/5] END ................C=0.1, gamma=0.0001, kernel=rbf; total time=  23.5s\n",
      "[CV 3/5] END ................C=0.1, gamma=0.0001, kernel=rbf; total time=  23.5s\n",
      "[CV 4/5] END ................C=0.1, gamma=0.0001, kernel=rbf; total time=  23.3s\n",
      "[CV 5/5] END ................C=0.1, gamma=0.0001, kernel=rbf; total time=  23.4s\n",
      "[CV 1/5] END .......................C=1, gamma=1, kernel=rbf; total time=  27.0s\n",
      "[CV 2/5] END .......................C=1, gamma=1, kernel=rbf; total time=  28.0s\n",
      "[CV 3/5] END .......................C=1, gamma=1, kernel=rbf; total time=  25.3s\n",
      "[CV 4/5] END .......................C=1, gamma=1, kernel=rbf; total time=  28.2s\n",
      "[CV 5/5] END .......................C=1, gamma=1, kernel=rbf; total time=  26.5s\n",
      "[CV 1/5] END .....................C=1, gamma=0.1, kernel=rbf; total time=  27.1s\n",
      "[CV 2/5] END .....................C=1, gamma=0.1, kernel=rbf; total time=  29.7s\n",
      "[CV 3/5] END .....................C=1, gamma=0.1, kernel=rbf; total time=  26.1s\n",
      "[CV 4/5] END .....................C=1, gamma=0.1, kernel=rbf; total time=  27.3s\n",
      "[CV 5/5] END .....................C=1, gamma=0.1, kernel=rbf; total time=  30.5s\n",
      "[CV 1/5] END ....................C=1, gamma=0.01, kernel=rbf; total time=  29.1s\n",
      "[CV 2/5] END ....................C=1, gamma=0.01, kernel=rbf; total time=  29.1s\n",
      "[CV 3/5] END ....................C=1, gamma=0.01, kernel=rbf; total time=  29.1s\n",
      "[CV 4/5] END ....................C=1, gamma=0.01, kernel=rbf; total time=  29.1s\n",
      "[CV 5/5] END ....................C=1, gamma=0.01, kernel=rbf; total time=  28.7s\n",
      "[CV 1/5] END ...................C=1, gamma=0.001, kernel=rbf; total time=  27.3s\n",
      "[CV 2/5] END ...................C=1, gamma=0.001, kernel=rbf; total time=  26.9s\n",
      "[CV 3/5] END ...................C=1, gamma=0.001, kernel=rbf; total time=  24.7s\n",
      "[CV 4/5] END ...................C=1, gamma=0.001, kernel=rbf; total time=  24.8s\n",
      "[CV 5/5] END ...................C=1, gamma=0.001, kernel=rbf; total time=  25.1s\n",
      "[CV 1/5] END ..................C=1, gamma=0.0001, kernel=rbf; total time=  23.8s\n",
      "[CV 2/5] END ..................C=1, gamma=0.0001, kernel=rbf; total time=  23.3s\n",
      "[CV 3/5] END ..................C=1, gamma=0.0001, kernel=rbf; total time=  25.3s\n",
      "[CV 4/5] END ..................C=1, gamma=0.0001, kernel=rbf; total time=  23.3s\n",
      "[CV 5/5] END ..................C=1, gamma=0.0001, kernel=rbf; total time=  23.5s\n",
      "[CV 1/5] END ......................C=10, gamma=1, kernel=rbf; total time=  24.0s\n",
      "[CV 2/5] END ......................C=10, gamma=1, kernel=rbf; total time=  24.2s\n",
      "[CV 3/5] END ......................C=10, gamma=1, kernel=rbf; total time=  25.2s\n",
      "[CV 4/5] END ......................C=10, gamma=1, kernel=rbf; total time=  24.2s\n",
      "[CV 5/5] END ......................C=10, gamma=1, kernel=rbf; total time=  24.6s\n",
      "[CV 1/5] END ....................C=10, gamma=0.1, kernel=rbf; total time=  24.4s\n",
      "[CV 2/5] END ....................C=10, gamma=0.1, kernel=rbf; total time=  23.5s\n",
      "[CV 3/5] END ....................C=10, gamma=0.1, kernel=rbf; total time=  23.7s\n",
      "[CV 4/5] END ....................C=10, gamma=0.1, kernel=rbf; total time=  24.2s\n",
      "[CV 5/5] END ....................C=10, gamma=0.1, kernel=rbf; total time=  24.3s\n",
      "[CV 1/5] END ...................C=10, gamma=0.01, kernel=rbf; total time=  24.1s\n",
      "[CV 2/5] END ...................C=10, gamma=0.01, kernel=rbf; total time=  23.7s\n",
      "[CV 3/5] END ...................C=10, gamma=0.01, kernel=rbf; total time=  24.0s\n",
      "[CV 4/5] END ...................C=10, gamma=0.01, kernel=rbf; total time=  23.6s\n",
      "[CV 5/5] END ...................C=10, gamma=0.01, kernel=rbf; total time=  24.8s\n",
      "[CV 1/5] END ..................C=10, gamma=0.001, kernel=rbf; total time=  24.6s\n",
      "[CV 2/5] END ..................C=10, gamma=0.001, kernel=rbf; total time=  24.0s\n",
      "[CV 3/5] END ..................C=10, gamma=0.001, kernel=rbf; total time=  24.6s\n",
      "[CV 4/5] END ..................C=10, gamma=0.001, kernel=rbf; total time=  24.5s\n",
      "[CV 5/5] END ..................C=10, gamma=0.001, kernel=rbf; total time=  23.8s\n",
      "[CV 1/5] END .................C=10, gamma=0.0001, kernel=rbf; total time=  23.8s\n",
      "[CV 2/5] END .................C=10, gamma=0.0001, kernel=rbf; total time=  24.7s\n",
      "[CV 3/5] END .................C=10, gamma=0.0001, kernel=rbf; total time=  23.6s\n",
      "[CV 4/5] END .................C=10, gamma=0.0001, kernel=rbf; total time=  23.2s\n",
      "[CV 5/5] END .................C=10, gamma=0.0001, kernel=rbf; total time=  24.3s\n",
      "[CV 1/5] END .....................C=100, gamma=1, kernel=rbf; total time=  24.2s\n",
      "[CV 2/5] END .....................C=100, gamma=1, kernel=rbf; total time=  24.3s\n",
      "[CV 3/5] END .....................C=100, gamma=1, kernel=rbf; total time=  24.9s\n",
      "[CV 4/5] END .....................C=100, gamma=1, kernel=rbf; total time=  23.8s\n",
      "[CV 5/5] END .....................C=100, gamma=1, kernel=rbf; total time=  23.7s\n",
      "[CV 1/5] END ...................C=100, gamma=0.1, kernel=rbf; total time=  24.1s\n",
      "[CV 2/5] END ...................C=100, gamma=0.1, kernel=rbf; total time=  24.4s\n",
      "[CV 3/5] END ...................C=100, gamma=0.1, kernel=rbf; total time=  28.3s\n",
      "[CV 4/5] END ...................C=100, gamma=0.1, kernel=rbf; total time=  25.8s\n",
      "[CV 5/5] END ...................C=100, gamma=0.1, kernel=rbf; total time=  27.6s\n",
      "[CV 1/5] END ..................C=100, gamma=0.01, kernel=rbf; total time=  27.6s\n",
      "[CV 2/5] END ..................C=100, gamma=0.01, kernel=rbf; total time=  26.2s\n",
      "[CV 3/5] END ..................C=100, gamma=0.01, kernel=rbf; total time=  26.1s\n",
      "[CV 4/5] END ..................C=100, gamma=0.01, kernel=rbf; total time=  24.6s\n",
      "[CV 5/5] END ..................C=100, gamma=0.01, kernel=rbf; total time=  25.2s\n",
      "[CV 1/5] END .................C=100, gamma=0.001, kernel=rbf; total time=  25.3s\n",
      "[CV 2/5] END .................C=100, gamma=0.001, kernel=rbf; total time=  24.3s\n",
      "[CV 3/5] END .................C=100, gamma=0.001, kernel=rbf; total time=  24.5s\n",
      "[CV 4/5] END .................C=100, gamma=0.001, kernel=rbf; total time=  24.3s\n",
      "[CV 5/5] END .................C=100, gamma=0.001, kernel=rbf; total time=  24.5s\n",
      "[CV 1/5] END ................C=100, gamma=0.0001, kernel=rbf; total time=  23.7s\n",
      "[CV 2/5] END ................C=100, gamma=0.0001, kernel=rbf; total time=  23.6s\n",
      "[CV 3/5] END ................C=100, gamma=0.0001, kernel=rbf; total time=  23.7s\n",
      "[CV 4/5] END ................C=100, gamma=0.0001, kernel=rbf; total time=  23.3s\n",
      "[CV 5/5] END ................C=100, gamma=0.0001, kernel=rbf; total time=  22.7s\n",
      "[CV 1/5] END ....................C=1000, gamma=1, kernel=rbf; total time=  24.3s\n"
     ]
    },
    {
     "name": "stdout",
     "output_type": "stream",
     "text": [
      "[CV 2/5] END ....................C=1000, gamma=1, kernel=rbf; total time=  24.3s\n",
      "[CV 3/5] END ....................C=1000, gamma=1, kernel=rbf; total time=  24.1s\n",
      "[CV 4/5] END ....................C=1000, gamma=1, kernel=rbf; total time=  24.5s\n",
      "[CV 5/5] END ....................C=1000, gamma=1, kernel=rbf; total time=  24.3s\n",
      "[CV 1/5] END ..................C=1000, gamma=0.1, kernel=rbf; total time=  24.2s\n",
      "[CV 2/5] END ..................C=1000, gamma=0.1, kernel=rbf; total time=  24.2s\n",
      "[CV 3/5] END ..................C=1000, gamma=0.1, kernel=rbf; total time=  24.3s\n",
      "[CV 4/5] END ..................C=1000, gamma=0.1, kernel=rbf; total time=  24.3s\n",
      "[CV 5/5] END ..................C=1000, gamma=0.1, kernel=rbf; total time=  24.2s\n",
      "[CV 1/5] END .................C=1000, gamma=0.01, kernel=rbf; total time=  24.0s\n",
      "[CV 2/5] END .................C=1000, gamma=0.01, kernel=rbf; total time=  24.0s\n",
      "[CV 3/5] END .................C=1000, gamma=0.01, kernel=rbf; total time=  23.3s\n",
      "[CV 4/5] END .................C=1000, gamma=0.01, kernel=rbf; total time=  23.4s\n",
      "[CV 5/5] END .................C=1000, gamma=0.01, kernel=rbf; total time=  24.0s\n",
      "[CV 1/5] END ................C=1000, gamma=0.001, kernel=rbf; total time=  25.2s\n",
      "[CV 2/5] END ................C=1000, gamma=0.001, kernel=rbf; total time=  25.0s\n",
      "[CV 3/5] END ................C=1000, gamma=0.001, kernel=rbf; total time=  23.4s\n",
      "[CV 4/5] END ................C=1000, gamma=0.001, kernel=rbf; total time=  24.3s\n",
      "[CV 5/5] END ................C=1000, gamma=0.001, kernel=rbf; total time=  23.9s\n",
      "[CV 1/5] END ...............C=1000, gamma=0.0001, kernel=rbf; total time=  23.5s\n",
      "[CV 2/5] END ...............C=1000, gamma=0.0001, kernel=rbf; total time=  23.3s\n",
      "[CV 3/5] END ...............C=1000, gamma=0.0001, kernel=rbf; total time=  23.1s\n",
      "[CV 4/5] END ...............C=1000, gamma=0.0001, kernel=rbf; total time=  23.9s\n",
      "[CV 5/5] END ...............C=1000, gamma=0.0001, kernel=rbf; total time=  23.3s\n"
     ]
    },
    {
     "data": {
      "text/plain": [
       "GridSearchCV(estimator=SVC(),\n",
       "             param_grid={'C': [0.1, 1, 10, 100, 1000],\n",
       "                         'gamma': [1, 0.1, 0.01, 0.001, 0.0001],\n",
       "                         'kernel': ['rbf']},\n",
       "             verbose=3)"
      ]
     },
     "execution_count": 60,
     "metadata": {},
     "output_type": "execute_result"
    }
   ],
   "source": [
    "param_grid = {'C': [0.1,1, 10, 100, 1000], 'gamma': [1,0.1,0.01,0.001,0.0001], 'kernel': ['rbf']} \n",
    "grid_svm = GridSearchCV(SVC(),param_grid,refit=True,verbose=3)\n",
    "grid_svm.fit(X_train,y_train)"
   ]
  },
  {
   "cell_type": "code",
   "execution_count": 61,
   "metadata": {},
   "outputs": [
    {
     "name": "stdout",
     "output_type": "stream",
     "text": [
      "{'C': 10, 'gamma': 0.0001, 'kernel': 'rbf'}\n",
      "SVC(C=10, gamma=0.0001)\n"
     ]
    }
   ],
   "source": [
    "print(grid_svm.best_params_)\n",
    "print(grid_svm.best_estimator_)"
   ]
  },
  {
   "cell_type": "code",
   "execution_count": 62,
   "metadata": {},
   "outputs": [
    {
     "name": "stdout",
     "output_type": "stream",
     "text": [
      "Training  model takes 150.439 seconds\n",
      "Accuracy of SVM on test set: 0.519\n",
      "Predicting test data takes 12.722 seconds\n",
      "Classification error rate: 0.48074921956295524\n",
      "Classification report \n",
      "               precision    recall  f1-score   support\n",
      "\n",
      "           0       0.92      0.05      0.09       484\n",
      "           1       0.51      1.00      0.67       477\n",
      "\n",
      "    accuracy                           0.52       961\n",
      "   macro avg       0.72      0.52      0.38       961\n",
      "weighted avg       0.72      0.52      0.38       961\n",
      "\n",
      "Confusion Matrix \n",
      " [[ 24 460]\n",
      " [  2 475]]\n",
      "AUC is: 0.5340\n"
     ]
    }
   ],
   "source": [
    "#Train SVM using best parameters\n",
    "svm_best = SVC(C=10,gamma=0.0001,kernel='rbf',probability=True) \n",
    "start_time=time.time()\n",
    "svm_best.fit(X_train, y_train)\n",
    "\n",
    "print(\"Training  model takes %s seconds\" % round((time.time() - start_time),3))\n",
    "print('Accuracy of SVM on test set: {:.3f}'.format(svm_best.score(X_test,y_test)))\n",
    "\n",
    "start = time.time()\n",
    "svm_pred = svm_best.predict(X_test)\n",
    "end = time.time()\n",
    "\n",
    "svm_predprob = svm_best.predict_proba(X_test)[:,1]\n",
    "\n",
    "print(\"Predicting test data takes %s seconds\" % round((end - start),3))\n",
    "print('Classification error rate:', np.mean(np.array(y_test)!= svm_pred))\n",
    "print('Classification report \\n', classification_report(y_test, svm_pred))\n",
    "\n",
    "print('Confusion Matrix \\n', confusion_matrix(y_test, svm_pred))\n",
    "print('AUC is: {:.4f}'.format(roc_auc_score(y_test, svm_predprob)))"
   ]
  },
  {
   "cell_type": "code",
   "execution_count": 76,
   "metadata": {},
   "outputs": [],
   "source": [
    "#Save trained SVM model\n",
    "pickle.dump(svm_best, open(\"C:/Users/liqia/Spring2021-Project3-group-3-master/output/best_svm.p\",'wb'))"
   ]
  },
  {
   "cell_type": "markdown",
   "metadata": {},
   "source": [
    "weighted SVM"
   ]
  },
  {
   "cell_type": "code",
   "execution_count": 66,
   "metadata": {},
   "outputs": [
    {
     "name": "stdout",
     "output_type": "stream",
     "text": [
      "Mean ROC AUC: 0.708\n"
     ]
    }
   ],
   "source": [
    "weighted_svm = SVC(gamma = 'scale', class_weight = 'balanced')\n",
    "\n",
    "#CV Weighted SVM \n",
    "cv = RepeatedStratifiedKFold(n_splits=10, n_repeats=3, random_state=1)\n",
    "# evaluate model\n",
    "scores = cross_val_score(weighted_svm, X, Y, scoring='roc_auc', cv=cv, n_jobs=-1)\n",
    "# summarize performance\n",
    "print('Mean ROC AUC: %.3f' % np.mean(scores))"
   ]
  },
  {
   "cell_type": "code",
   "execution_count": 68,
   "metadata": {},
   "outputs": [
    {
     "data": {
      "text/plain": [
       "SVC(class_weight={0: 598.0, 1: 2402.0})"
      ]
     },
     "execution_count": 68,
     "metadata": {},
     "output_type": "execute_result"
    }
   ],
   "source": [
    "balance = [{0:598.0, 1:2402.0},{0:1,1:100}, {0:1,1:10}, {0:1,1:1}, {0:10,1:1}, {0:100,1:1}]\n",
    "param_grid = dict(class_weight=balance)\n",
    "\n",
    "grid_weightedsvm = GridSearchCV(estimator=weighted_svm, param_grid=param_grid, n_jobs=-1, cv=cv, scoring='roc_auc')\n",
    "grid_weightedsvm.fit(X,Y)\n",
    "grid_weightedsvm.best_params_\n",
    "grid_weightedsvm.best_estimator_"
   ]
  },
  {
   "cell_type": "code",
   "execution_count": 69,
   "metadata": {},
   "outputs": [
    {
     "data": {
      "text/plain": [
       "SVC(class_weight={0: 598.0, 1: 2402.0})"
      ]
     },
     "execution_count": 69,
     "metadata": {},
     "output_type": "execute_result"
    }
   ],
   "source": [
    "grid_weightedsvm.best_params_\n",
    "grid_weightedsvm.best_estimator_"
   ]
  },
  {
   "cell_type": "code",
   "execution_count": 70,
   "metadata": {},
   "outputs": [
    {
     "name": "stdout",
     "output_type": "stream",
     "text": [
      "Best: 0.827703 using {'class_weight': {0: 598.0, 1: 2402.0}}\n",
      "0.827703 (0.030973) with: {'class_weight': {0: 598.0, 1: 2402.0}}\n",
      "0.792564 (0.035455) with: {'class_weight': {0: 1, 1: 100}}\n",
      "0.782922 (0.031263) with: {'class_weight': {0: 1, 1: 10}}\n",
      "0.798206 (0.034647) with: {'class_weight': {0: 1, 1: 1}}\n",
      "0.796063 (0.030676) with: {'class_weight': {0: 10, 1: 1}}\n",
      "0.796048 (0.030652) with: {'class_weight': {0: 100, 1: 1}}\n"
     ]
    }
   ],
   "source": [
    "print(\"Best: %f using %s\" % (grid_weightedsvm.best_score_, grid_weightedsvm.best_params_))\n",
    "# report all configurations\n",
    "means = grid_weightedsvm.cv_results_['mean_test_score']\n",
    "stds = grid_weightedsvm.cv_results_['std_test_score']\n",
    "params = grid_weightedsvm.cv_results_['params']\n",
    "for mean, stdev, param in zip(means, stds, params):\n",
    "    print(\"%f (%f) with: %r\" % (mean, stdev, param))"
   ]
  },
  {
   "cell_type": "code",
   "execution_count": 73,
   "metadata": {},
   "outputs": [
    {
     "name": "stdout",
     "output_type": "stream",
     "text": [
      "Training  model takes 62.867 seconds\n",
      "Accuracy of weighted SVM on test set: 0.863\n",
      "[0 1 1 0 0]\n",
      "Predicting test data takes 4.626 seconds\n",
      "Classification error rate: 0.11446409989594172\n",
      "Classification report \n",
      "               precision    recall  f1-score   support\n",
      "\n",
      "           0       0.92      0.84      0.88       484\n",
      "           1       0.85      0.93      0.89       477\n",
      "\n",
      "    accuracy                           0.89       961\n",
      "   macro avg       0.89      0.89      0.89       961\n",
      "weighted avg       0.89      0.89      0.89       961\n",
      "\n",
      "Confusion Matrix \n",
      " [[408  76]\n",
      " [ 34 443]]\n",
      "AUC is: 0.9465\n"
     ]
    }
   ],
   "source": [
    "weighted_svm_best = SVC(gamma = 'scale', class_weight ={0: 598.0, 1: 2402.0},probability=True)\n",
    "start_time=time.time()\n",
    "weighted_svm_best.fit(X, Y)\n",
    "print(\"Training  model takes %s seconds\" % round((time.time() - start_time),3))\n",
    "\n",
    "print('Accuracy of weighted SVM on test set: {:.3f}'.format(weighted_svm_best.score(X,Y)))\n",
    "\n",
    "start = time.time()\n",
    "weighted_svm_pred = weighted_svm_best.predict(X_test)\n",
    "end = time.time()\n",
    "print(weighted_svm_pred[0:5,])\n",
    "\n",
    "weighted_svm_predprob = weighted_svm_best.predict_proba(X_test)[:,1]\n",
    "\n",
    "print(\"Predicting test data takes %s seconds\" % round((end - start),3))\n",
    "print('Classification error rate:', np.mean(np.array(y_test)!= weighted_svm_pred))\n",
    "print('Classification report \\n', classification_report(y_test, weighted_svm_pred))\n",
    "\n",
    "print('Confusion Matrix \\n', confusion_matrix(y_test, weighted_svm_pred))\n",
    "print('AUC is: {:.4f}'.format(roc_auc_score(y_test, weighted_svm_predprob)))"
   ]
  },
  {
   "cell_type": "code",
   "execution_count": 80,
   "metadata": {},
   "outputs": [],
   "source": [
    "#Save trained weighted SVM model\n",
    "pickle.dump(weighted_svm_best, open(\"C:/Users/liqia/Spring2021-Project3-group-3-master/output/best_weighted_svm.p\",'wb'))\n",
    "\n",
    "#Load weighted SVM model\n",
    "pickle.load(open(\"C:/Users/liqia/Spring2021-Project3-group-3-master/output/best_weighted_svm.p\",'rb'))"
   ]
  },
  {
   "cell_type": "code",
   "execution_count": 84,
   "metadata": {},
   "outputs": [
    {
     "data": {
      "text/plain": [
       "SVC(C=10, gamma=0.0001, probability=True)"
      ]
     },
     "execution_count": 84,
     "metadata": {},
     "output_type": "execute_result"
    }
   ],
   "source": [
    "#Load SVM balanced model\n",
    "pickle.load(open(\"C:/Users/liqia/Spring2021-Project3-group-3-master/output/best_svm.p\",'rb'))\n"
   ]
  }
 ],
 "metadata": {
  "kernelspec": {
   "display_name": "Python 3",
   "language": "python",
   "name": "python3"
  },
  "language_info": {
   "codemirror_mode": {
    "name": "ipython",
    "version": 3
   },
   "file_extension": ".py",
   "mimetype": "text/x-python",
   "name": "python",
   "nbconvert_exporter": "python",
   "pygments_lexer": "ipython3",
   "version": "3.8.5"
  }
 },
 "nbformat": 4,
 "nbformat_minor": 4
}
