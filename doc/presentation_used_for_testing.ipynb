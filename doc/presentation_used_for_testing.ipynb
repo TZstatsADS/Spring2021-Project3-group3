{
 "cells": [
  {
   "cell_type": "markdown",
   "metadata": {},
   "source": [
    "presentation day test "
   ]
  },
  {
   "cell_type": "code",
   "execution_count": 9,
   "metadata": {},
   "outputs": [],
   "source": [
    "import numpy as np\n",
    "import scipy.io\n",
    "import sklearn.metrics\n",
    "import sklearn \n",
    "import os\n",
    "import random\n",
    "import pandas as pd\n",
    "import time\n",
    "# sys.path.append('C:/Users/liqia/Spring2021-Project3-group-3-master/lib/')"
   ]
  },
  {
   "cell_type": "code",
   "execution_count": 10,
   "metadata": {},
   "outputs": [],
   "source": [
    "from scipy.spatial.distance import pdist\n",
    "import imbalanced_databases as imbd\n",
    "import matplotlib.pyplot as plt\n",
    "# import smote_variants as s\n",
    "import scipy.io as scio\n",
    "from PIL import Image\n",
    "import pandas as pd\n",
    "import numpy as np\n",
    "import xlsxwriter\n",
    "import scipy.io\n",
    "import sklearn\n",
    "import os, sys\n",
    "import pickle\n",
    "import random\n",
    "import time\n",
    "import cv2\n",
    "\n",
    "from sklearn.pipeline import Pipeline\n",
    "from sklearn.datasets import make_classification\n",
    "from sklearn.metrics import (classification_report, \n",
    "                            confusion_matrix, \n",
    "                            recall_score,\n",
    "                            accuracy_score,\n",
    "                            make_scorer,\n",
    "                            roc_auc_score)\n",
    "from sklearn.model_selection import (train_test_split,\n",
    "                                    cross_validate, \n",
    "                                    GridSearchCV,\n",
    "                                    RepeatedStratifiedKFold,\n",
    "                                    cross_val_score,\n",
    "                                    validation_curve)\n",
    "from imblearn.under_sampling import RandomUnderSampler               \n",
    "from imblearn.over_sampling import SMOTE\n",
    "# models\n",
    "from sklearn.ensemble import (GradientBoostingClassifier, \n",
    "                              AdaBoostClassifier,\n",
    "                             VotingClassifier)\n",
    "from sklearn.linear_model import LogisticRegression\n",
    "from sklearn.naive_bayes import GaussianNB\n",
    "from sklearn.tree import DecisionTreeClassifier\n",
    "from sklearn.svm import SVC\n"
   ]
  },
  {
   "cell_type": "code",
   "execution_count": 13,
   "metadata": {},
   "outputs": [],
   "source": [
    "#3 columns: index, baseline, advanced\n",
    "index=list(range(0,3000))\n",
    "test_df=pd.DataFrame({'index':index})\n",
    "test_df['baseline']=\"\"\n",
    "test_df['advanced']=\"\"\n",
    "# test_df.to_csv('C:/Users/liqia/Spring2021-Project3-group-3-master/data/label_prediction_test.csv',index=False)\n",
    "test_df.to_csv('C:/Users/morrismr/Documents/Spring2021-Project3-group-3-master/data/label_prediction_test.csv',index=False)"
   ]
  },
  {
   "cell_type": "code",
   "execution_count": 15,
   "metadata": {},
   "outputs": [
    {
     "data": {
      "text/html": [
       "<div>\n",
       "<style scoped>\n",
       "    .dataframe tbody tr th:only-of-type {\n",
       "        vertical-align: middle;\n",
       "    }\n",
       "\n",
       "    .dataframe tbody tr th {\n",
       "        vertical-align: top;\n",
       "    }\n",
       "\n",
       "    .dataframe thead th {\n",
       "        text-align: right;\n",
       "    }\n",
       "</style>\n",
       "<table border=\"1\" class=\"dataframe\">\n",
       "  <thead>\n",
       "    <tr style=\"text-align: right;\">\n",
       "      <th></th>\n",
       "      <th>index</th>\n",
       "      <th>baseline</th>\n",
       "      <th>advanced</th>\n",
       "    </tr>\n",
       "  </thead>\n",
       "  <tbody>\n",
       "    <tr>\n",
       "      <th>0</th>\n",
       "      <td>0</td>\n",
       "      <td>NaN</td>\n",
       "      <td>NaN</td>\n",
       "    </tr>\n",
       "    <tr>\n",
       "      <th>1</th>\n",
       "      <td>1</td>\n",
       "      <td>NaN</td>\n",
       "      <td>NaN</td>\n",
       "    </tr>\n",
       "    <tr>\n",
       "      <th>2</th>\n",
       "      <td>2</td>\n",
       "      <td>NaN</td>\n",
       "      <td>NaN</td>\n",
       "    </tr>\n",
       "    <tr>\n",
       "      <th>3</th>\n",
       "      <td>3</td>\n",
       "      <td>NaN</td>\n",
       "      <td>NaN</td>\n",
       "    </tr>\n",
       "    <tr>\n",
       "      <th>4</th>\n",
       "      <td>4</td>\n",
       "      <td>NaN</td>\n",
       "      <td>NaN</td>\n",
       "    </tr>\n",
       "  </tbody>\n",
       "</table>\n",
       "</div>"
      ],
      "text/plain": [
       "   index  baseline  advanced\n",
       "0      0       NaN       NaN\n",
       "1      1       NaN       NaN\n",
       "2      2       NaN       NaN\n",
       "3      3       NaN       NaN\n",
       "4      4       NaN       NaN"
      ]
     },
     "execution_count": 15,
     "metadata": {},
     "output_type": "execute_result"
    }
   ],
   "source": [
    "# results = pd.read_csv('C:/Users/liqia/Spring2021-Project3-group-3-master/data/label_prediction_test.csv')\n",
    "results = pd.read_csv('C:/Users/morrismr/Documents/Spring2021-Project3-group-3-master/data/label_prediction_test.csv')\n",
    "results.head()"
   ]
  },
  {
   "cell_type": "code",
   "execution_count": 16,
   "metadata": {},
   "outputs": [],
   "source": [
    "# path = \"C:/Users/liqia/Spring2021-Project3-group-3-master/data//train_set\"\n",
    "path = \"C:/Users/morrismr/Documents/Spring2021-Project3-group-3-master/data//train_set\"\n",
    "image_dir = path+\"images/\"\n",
    "pt_dir = path+\"points/\"\n",
    "label_path = path+\"label.csv\""
   ]
  },
  {
   "cell_type": "code",
   "execution_count": 22,
   "metadata": {},
   "outputs": [],
   "source": [
    "def flatten(x):\n",
    "    result = []\n",
    "    for el in x:\n",
    "        result.append(el[0])\n",
    "        result.append(el[1])\n",
    "    return result"
   ]
  },
  {
   "cell_type": "code",
   "execution_count": 24,
   "metadata": {},
   "outputs": [
    {
     "name": "stdout",
     "output_type": "stream",
     "text": [
      "(3000, 156)\n",
      "loaded original version\n"
     ]
    }
   ],
   "source": [
    "\n",
    "fid = pd.read_csv(r'C:\\Users\\morrismr\\Downloads\\train_set\\train_set\\label.csv')\n",
    "label = np.array(fid['label'])\n",
    "\n",
    "# dataFile = 'C:\\\\Users\\\\morrismr\\\\Downloads\\\\train_set\\\\train_set\\\\points\\\\'\n",
    "dataFile = 'C:\\\\Users\\\\morrismr\\\\Documents\\\\Spring2021-Project3-group-3-master\\\\data\\\\train_set\\\\points\\\\'\n",
    "img_set = []\n",
    "for i in range(1, 3001):\n",
    "    if i < 10:\n",
    "        img_name = '000' + str(i)\n",
    "    elif i < 100:\n",
    "        img_name = '00' + str(i)\n",
    "    elif i < 1000:\n",
    "        img_name = '0' + str(i)\n",
    "    else:\n",
    "        img_name = str(i)\n",
    "    image = scio.loadmat(dataFile + img_name + '.mat')\n",
    "\n",
    "    try:\n",
    "        image = image['faceCoordinatesUnwarped']\n",
    "    except KeyError as ke:\n",
    "        image = image['faceCoordinates2']\n",
    "\n",
    "    image = np.array(flatten(image))\n",
    "    img_set.append(image)\n",
    "img_set = np.array(img_set)\n",
    "print(img_set.shape)\n",
    "\n",
    "X_original = img_set.copy()\n",
    "y_original = label.copy()\n",
    "print('loaded original version')"
   ]
  },
  {
   "cell_type": "code",
   "execution_count": 17,
   "metadata": {},
   "outputs": [],
   "source": [
    "def read_data(path):\n",
    "  \n",
    "  # read labels\n",
    "  labels = pd.read_csv(path+'/label.csv')\n",
    "  y= labels['label'].to_numpy()\n",
    "\n",
    "  # read points\n",
    "  n = 3000\n",
    "  for i in range(1,n+1):\n",
    "    p_path = str(i).zfill(4)+'.mat'\n",
    "    mat = scipy.io.loadmat(path+'/points/'+p_path)\n",
    "    if 'faceCoordinatesUnwarped' in mat:\n",
    "      cords = mat['faceCoordinatesUnwarped'] \n",
    "    else:\n",
    "      cords = mat['faceCoordinates2']\n",
    "\n",
    "    distance = sklearn.metrics.pairwise_distances(cords)       \n",
    "          # compute the pairwise distances in each mat\n",
    "    flatten_distance = distance[np.triu_indices(len(cords[:,0]), k = 1)]    \n",
    "          # stretch the upper triangle of the symmetric matrix \n",
    "          # to a long array with dimension 3003\n",
    "          # 3003 = (1+77)*78/2\n",
    "    if i==1:\n",
    "      distances = np.mat([flatten_distance])\n",
    "    else:\n",
    "      distances = np.append(distances, np.mat([flatten_distance]), axis = 0)\n",
    "  return (distances, y)"
   ]
  },
  {
   "cell_type": "code",
   "execution_count": 18,
   "metadata": {},
   "outputs": [
    {
     "name": "stdout",
     "output_type": "stream",
     "text": [
      "48.46916103363037\n"
     ]
    }
   ],
   "source": [
    "read_time_start=time.time()\n",
    "X, Y = read_data(path)\n",
    "print(time.time() - read_time_start)"
   ]
  },
  {
   "cell_type": "code",
   "execution_count": 27,
   "metadata": {},
   "outputs": [
    {
     "name": "stdout",
     "output_type": "stream",
     "text": [
      "      index  baseline  advanced\n",
      "0         0         0       NaN\n",
      "1         1         0       NaN\n",
      "2         2         0       NaN\n",
      "3         3         0       NaN\n",
      "4         4         0       NaN\n",
      "...     ...       ...       ...\n",
      "2995   2995         0       NaN\n",
      "2996   2996         0       NaN\n",
      "2997   2997         0       NaN\n",
      "2998   2998         1       NaN\n",
      "2999   2999         0       NaN\n",
      "\n",
      "[3000 rows x 3 columns]\n"
     ]
    }
   ],
   "source": [
    "baseline = pickle.load(open(\"C:/Users/morrismr/Documents/Spring2021-Project3-group-3-master/output/baseline.pkl\", \"rb\"))\n",
    "baseline_preds = baseline.predict(X_original)\n",
    "results['baseline'] = list(baseline_preds)\n",
    "print(results)"
   ]
  },
  {
   "cell_type": "code",
   "execution_count": 36,
   "metadata": {},
   "outputs": [
    {
     "name": "stdout",
     "output_type": "stream",
     "text": [
      "      index  baseline  advanced\n",
      "0         0         0         0\n",
      "1         1         0         0\n",
      "2         2         0         0\n",
      "3         3         0         0\n",
      "4         4         0         0\n",
      "...     ...       ...       ...\n",
      "2995   2995         0         0\n",
      "2996   2996         0         0\n",
      "2997   2997         0         0\n",
      "2998   2998         1         1\n",
      "2999   2999         0         0\n",
      "\n",
      "[3000 rows x 3 columns]\n"
     ]
    }
   ],
   "source": [
    "advanced = pickle.load(open(\"C:/Users/morrismr/Documents/Spring2021-Project3-group-3-master/output/advanced.pkl\", \"rb\"))\n",
    "advanced_preds = advanced.predict(X)\n",
    "results['advanced'] = list(advanced_preds)\n",
    "print(results)"
   ]
  },
  {
   "cell_type": "code",
   "execution_count": 37,
   "metadata": {},
   "outputs": [],
   "source": [
    "results.to_csv('C:/Users/morrismr/Documents/Spring2021-Project3-group-3-master/output/label_prediction.csv',index=False)"
   ]
  },
  {
   "cell_type": "code",
   "execution_count": 38,
   "metadata": {},
   "outputs": [
    {
     "data": {
      "text/html": [
       "<div>\n",
       "<style scoped>\n",
       "    .dataframe tbody tr th:only-of-type {\n",
       "        vertical-align: middle;\n",
       "    }\n",
       "\n",
       "    .dataframe tbody tr th {\n",
       "        vertical-align: top;\n",
       "    }\n",
       "\n",
       "    .dataframe thead th {\n",
       "        text-align: right;\n",
       "    }\n",
       "</style>\n",
       "<table border=\"1\" class=\"dataframe\">\n",
       "  <thead>\n",
       "    <tr style=\"text-align: right;\">\n",
       "      <th></th>\n",
       "      <th>index</th>\n",
       "      <th>baseline</th>\n",
       "      <th>advanced</th>\n",
       "    </tr>\n",
       "  </thead>\n",
       "  <tbody>\n",
       "    <tr>\n",
       "      <th>0</th>\n",
       "      <td>0</td>\n",
       "      <td>0</td>\n",
       "      <td>0</td>\n",
       "    </tr>\n",
       "    <tr>\n",
       "      <th>1</th>\n",
       "      <td>1</td>\n",
       "      <td>0</td>\n",
       "      <td>0</td>\n",
       "    </tr>\n",
       "    <tr>\n",
       "      <th>2</th>\n",
       "      <td>2</td>\n",
       "      <td>0</td>\n",
       "      <td>0</td>\n",
       "    </tr>\n",
       "    <tr>\n",
       "      <th>3</th>\n",
       "      <td>3</td>\n",
       "      <td>0</td>\n",
       "      <td>0</td>\n",
       "    </tr>\n",
       "    <tr>\n",
       "      <th>4</th>\n",
       "      <td>4</td>\n",
       "      <td>0</td>\n",
       "      <td>0</td>\n",
       "    </tr>\n",
       "    <tr>\n",
       "      <th>5</th>\n",
       "      <td>5</td>\n",
       "      <td>1</td>\n",
       "      <td>1</td>\n",
       "    </tr>\n",
       "    <tr>\n",
       "      <th>6</th>\n",
       "      <td>6</td>\n",
       "      <td>0</td>\n",
       "      <td>1</td>\n",
       "    </tr>\n",
       "    <tr>\n",
       "      <th>7</th>\n",
       "      <td>7</td>\n",
       "      <td>0</td>\n",
       "      <td>1</td>\n",
       "    </tr>\n",
       "    <tr>\n",
       "      <th>8</th>\n",
       "      <td>8</td>\n",
       "      <td>1</td>\n",
       "      <td>1</td>\n",
       "    </tr>\n",
       "    <tr>\n",
       "      <th>9</th>\n",
       "      <td>9</td>\n",
       "      <td>0</td>\n",
       "      <td>0</td>\n",
       "    </tr>\n",
       "  </tbody>\n",
       "</table>\n",
       "</div>"
      ],
      "text/plain": [
       "   index  baseline  advanced\n",
       "0      0         0         0\n",
       "1      1         0         0\n",
       "2      2         0         0\n",
       "3      3         0         0\n",
       "4      4         0         0\n",
       "5      5         1         1\n",
       "6      6         0         1\n",
       "7      7         0         1\n",
       "8      8         1         1\n",
       "9      9         0         0"
      ]
     },
     "execution_count": 38,
     "metadata": {},
     "output_type": "execute_result"
    }
   ],
   "source": [
    "results.head(10)"
   ]
  },
  {
   "cell_type": "code",
   "execution_count": null,
   "metadata": {},
   "outputs": [],
   "source": []
  }
 ],
 "metadata": {
  "kernelspec": {
   "display_name": "Python 3",
   "language": "python",
   "name": "python3"
  },
  "language_info": {
   "codemirror_mode": {
    "name": "ipython",
    "version": 3
   },
   "file_extension": ".py",
   "mimetype": "text/x-python",
   "name": "python",
   "nbconvert_exporter": "python",
   "pygments_lexer": "ipython3",
   "version": "3.8.5"
  }
 },
 "nbformat": 4,
 "nbformat_minor": 4
}
