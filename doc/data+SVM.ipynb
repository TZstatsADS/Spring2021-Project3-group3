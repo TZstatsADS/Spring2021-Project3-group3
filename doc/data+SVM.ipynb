{
 "cells": [
  {
   "cell_type": "markdown",
   "metadata": {},
   "source": [
    "Load Packages"
   ]
  },
  {
   "cell_type": "code",
   "execution_count": 1,
   "metadata": {},
   "outputs": [],
   "source": [
    "import numpy as np\n",
    "import scipy.io\n",
    "import sklearn.metrics\n",
    "import sklearn \n",
    "import os\n",
    "import random\n",
    "import pandas as pd\n",
    "import time"
   ]
  },
  {
   "cell_type": "markdown",
   "metadata": {},
   "source": [
    "# set path "
   ]
  },
  {
   "cell_type": "code",
   "execution_count": null,
   "metadata": {},
   "outputs": [],
   "source": [
    "cwd = os.getcwd()\n",
    "upperpath = os.path.dirname(cwd) \n",
    "uppupperpath = os.path.abspath(os.path.join(os.getcwd(), \"..\"))\n",
    "path = uppupperpath + '/data/train_set/'\n",
    "image_dir = path+\"images/\"\n",
    "pt_dir = path+\"points/\"\n",
    "label_path = path+\"label.csv\""
   ]
  },
  {
   "cell_type": "markdown",
   "metadata": {},
   "source": [
    "# read files"
   ]
  },
  {
   "cell_type": "code",
   "execution_count": 3,
   "metadata": {},
   "outputs": [],
   "source": [
    "def read_data(path):\n",
    "  \n",
    "  # read labels\n",
    "  labels = pd.read_csv(path+'/label.csv')\n",
    "  y= labels['label'].to_numpy()\n",
    "\n",
    "  # read points\n",
    "  n = 3000\n",
    "  for i in range(1,n+1):\n",
    "    p_path = str(i).zfill(4)+'.mat'\n",
    "    mat = scipy.io.loadmat(path+'/points/'+p_path)\n",
    "    if 'faceCoordinatesUnwarped' in mat:\n",
    "      cords = mat['faceCoordinatesUnwarped'] \n",
    "    else:\n",
    "      cords = mat['faceCoordinates2']\n",
    "\n",
    "    distance = sklearn.metrics.pairwise_distances(cords)       \n",
    "          # compute the pairwise distances in each mat\n",
    "    flatten_distance = distance[np.triu_indices(len(cords[:,0]), k = 1)]    \n",
    "          # stretch the upper triangle of the symmetric matrix \n",
    "          # to a long array with dimension 3003\n",
    "          # 3003 = (1+77)*78/2\n",
    "    if i==1:\n",
    "      distances = np.mat([flatten_distance])\n",
    "    else:\n",
    "      distances = np.append(distances, np.mat([flatten_distance]), axis = 0)\n",
    "  return (distances, y)"
   ]
  },
  {
   "cell_type": "code",
   "execution_count": 4,
   "metadata": {},
   "outputs": [
    {
     "name": "stdout",
     "output_type": "stream",
     "text": [
      "Read the original dataset takes 81.951 seconds\n"
     ]
    }
   ],
   "source": [
    "read_time_start=time.time()\n",
    "X, Y = read_data(path)\n",
    "print(\"Read the original dataset takes %s seconds\" % round((time.time() - read_time_start),3))"
   ]
  },
  {
   "cell_type": "code",
   "execution_count": 5,
   "metadata": {},
   "outputs": [
    {
     "data": {
      "text/plain": [
       "((3000, 3003), (3000,))"
      ]
     },
     "execution_count": 5,
     "metadata": {},
     "output_type": "execute_result"
    }
   ],
   "source": [
    "X.shape, Y.shape "
   ]
  },
  {
   "cell_type": "markdown",
   "metadata": {},
   "source": [
    "Data Preprocessing Imbalanced Dataset (SMOTE)-oversamplig"
   ]
  },
  {
   "cell_type": "code",
   "execution_count": 6,
   "metadata": {},
   "outputs": [
    {
     "name": "stdout",
     "output_type": "stream",
     "text": [
      "majority class: 2402\n",
      "minority class: 598\n"
     ]
    }
   ],
   "source": [
    "print('majority class: %d' % np.sum(Y == 0))\n",
    "print('minority class: %d' % np.sum(Y == 1))\n",
    "#imbalanced dataset"
   ]
  },
  {
   "cell_type": "markdown",
   "metadata": {},
   "source": [
    "# oversample then split data"
   ]
  },
  {
   "cell_type": "markdown",
   "metadata": {},
   "source": [
    "oversample"
   ]
  },
  {
   "cell_type": "code",
   "execution_count": 7,
   "metadata": {},
   "outputs": [],
   "source": [
    "def data_preprocessing(X, Y, path):\n",
    "\n",
    "  distances = X\n",
    "  y = Y\n",
    "\n",
    "  n = y.shape[0]\n",
    "  mat_1 = np.add(np.where(y == 1),1)\n",
    "  n_oversample = (n-sum(y))-sum(y) \n",
    "    # how many samples do we need to generate\n",
    "\n",
    "  for i in range(n_oversample):\n",
    "    samples_index = random.sample(list(list(mat_1)[0]), 2)\n",
    "      # pick two random index of class 1 samples. \n",
    "\n",
    "    p_path = str(samples_index[0]).zfill(4)+'.mat'\n",
    "    mat = scipy.io.loadmat(path+'/points/'+p_path)\n",
    "    if 'faceCoordinatesUnwarped' in mat:\n",
    "      cords_0 = mat['faceCoordinatesUnwarped'] \n",
    "    else:\n",
    "      cords_0 = mat['faceCoordinates2']\n",
    "    \n",
    "    p_path = str(samples_index[1]).zfill(4)+'.mat'\n",
    "    mat = scipy.io.loadmat(path+'/points/'+p_path)\n",
    "    if 'faceCoordinatesUnwarped' in mat:\n",
    "      cords_1 = mat['faceCoordinatesUnwarped'] \n",
    "    else:\n",
    "      cords_1 = mat['faceCoordinates2']\n",
    "\n",
    "    cords_new = (cords_0 + cords_1) / 2 \n",
    "        # averaging two sets of cordinates to generate new set of cordinates\n",
    "    distance = sklearn.metrics.pairwise_distances(cords_new)\n",
    "        # compute the pairwise distances in each mat\n",
    "    flatten_distance = distance[np.triu_indices(len(cords_new[:,0]), k = 1)]\n",
    "        # stretch the upper triangle of the symmetric matrix \n",
    "        # to a long array with dimension 3003\n",
    "        # 3003 = (1+77)*78/2\n",
    "    \n",
    "    distances = np.append(distances, np.mat([flatten_distance]), axis = 0)\n",
    "    y = np.append(y,np.array(1))\n",
    "        # Append new data to the original dataset\n",
    "\n",
    "  return (distances, y)"
   ]
  },
  {
   "cell_type": "code",
   "execution_count": 8,
   "metadata": {},
   "outputs": [
    {
     "data": {
      "text/plain": [
       "((4804, 3003), (4804,))"
      ]
     },
     "execution_count": 8,
     "metadata": {},
     "output_type": "execute_result"
    }
   ],
   "source": [
    "X_balanced, Y_balanced = data_preprocessing(X, Y, path)\n",
    "X_balanced.shape, Y_balanced.shape"
   ]
  },
  {
   "cell_type": "code",
   "execution_count": 9,
   "metadata": {},
   "outputs": [
    {
     "name": "stdout",
     "output_type": "stream",
     "text": [
      "majority class: 2402\n",
      "minority class: 2402\n"
     ]
    }
   ],
   "source": [
    "print('majority class: %d' % np.sum(Y_balanced == 0))\n",
    "print('minority class: %d' % np.sum(Y_balanced == 1))\n",
    "#balanced dataset"
   ]
  },
  {
   "cell_type": "markdown",
   "metadata": {},
   "source": [
    "split data"
   ]
  },
  {
   "cell_type": "code",
   "execution_count": 10,
   "metadata": {},
   "outputs": [],
   "source": [
    "import numpy as np\n",
    "import matplotlib.pyplot as plt\n",
    "import smote_variants as sv\n",
    "import imbalanced_databases as imbd"
   ]
  },
  {
   "cell_type": "code",
   "execution_count": 11,
   "metadata": {},
   "outputs": [
    {
     "data": {
      "text/plain": [
       "((3843, 3003), (961, 3003), (3843,), (961,))"
      ]
     },
     "execution_count": 11,
     "metadata": {},
     "output_type": "execute_result"
    }
   ],
   "source": [
    "from sklearn.model_selection import train_test_split\n",
    "X_balanced_train,X_balanced_test,y_balanced_train,y_balanced_test= train_test_split(X_balanced, Y_balanced,test_size=0.2,random_state=0)\n",
    "X_balanced_train.shape,X_balanced_test.shape,y_balanced_train.shape,y_balanced_test.shape"
   ]
  },
  {
   "cell_type": "code",
   "execution_count": 12,
   "metadata": {},
   "outputs": [
    {
     "name": "stdout",
     "output_type": "stream",
     "text": [
      "majority train class: 1918\n",
      "minority train class: 1925\n",
      "majority test class: 484\n",
      "minority test class: 477\n"
     ]
    }
   ],
   "source": [
    "print('majority train class: %d' % np.sum(y_balanced_train == 0))\n",
    "print('minority train class: %d' % np.sum(y_balanced_train == 1))\n",
    "print('majority test class: %d' % np.sum(y_balanced_test == 0))\n",
    "print('minority test class: %d' % np.sum(y_balanced_test == 1))"
   ]
  },
  {
   "cell_type": "markdown",
   "metadata": {},
   "source": [
    "# split then oversample"
   ]
  },
  {
   "cell_type": "markdown",
   "metadata": {},
   "source": [
    "split"
   ]
  },
  {
   "cell_type": "code",
   "execution_count": 13,
   "metadata": {},
   "outputs": [
    {
     "data": {
      "text/plain": [
       "((3000, 3003), (3000,))"
      ]
     },
     "execution_count": 13,
     "metadata": {},
     "output_type": "execute_result"
    }
   ],
   "source": [
    "X.shape, Y.shape "
   ]
  },
  {
   "cell_type": "code",
   "execution_count": 14,
   "metadata": {},
   "outputs": [
    {
     "data": {
      "text/plain": [
       "((2400, 3003), (2400,), (600, 3003), (600,))"
      ]
     },
     "execution_count": 14,
     "metadata": {},
     "output_type": "execute_result"
    }
   ],
   "source": [
    "from sklearn.model_selection import train_test_split\n",
    "X_train,X_test,Y_train,Y_test= train_test_split(X,Y,test_size=0.20,random_state=0)\n",
    "X_train.shape, Y_train.shape, X_test.shape, Y_test.shape"
   ]
  },
  {
   "cell_type": "code",
   "execution_count": 15,
   "metadata": {},
   "outputs": [
    {
     "name": "stdout",
     "output_type": "stream",
     "text": [
      "majority train class: 1923\n",
      "minority train class: 477\n",
      "majority test class: 479\n",
      "minority test class: 121\n"
     ]
    }
   ],
   "source": [
    "print('majority train class: %d' % np.sum(Y_train == 0))\n",
    "print('minority train class: %d' % np.sum(Y_train == 1))\n",
    "print('majority test class: %d' % np.sum(Y_test == 0))\n",
    "print('minority test class: %d' % np.sum(Y_test == 1))\n",
    "#imbalanced dataset"
   ]
  },
  {
   "cell_type": "markdown",
   "metadata": {},
   "source": [
    "SMOTE overdampling"
   ]
  },
  {
   "cell_type": "code",
   "execution_count": 16,
   "metadata": {},
   "outputs": [],
   "source": [
    "def data_preprocessing(X_train, Y_train, path):\n",
    "\n",
    "  distances = X_train\n",
    "  y = Y_train\n",
    "\n",
    "  n = y.shape[0]\n",
    "  mat_1 = np.add(np.where(y == 1),1)\n",
    "  n_oversample = (n-sum(y))-sum(y) \n",
    "    # how many samples do we need to generate\n",
    "\n",
    "  for i in range(n_oversample):\n",
    "    samples_index = random.sample(list(list(mat_1)[0]), 2)\n",
    "      # pick two random index of class 1 samples. \n",
    "\n",
    "    p_path = str(samples_index[0]).zfill(4)+'.mat'\n",
    "    mat = scipy.io.loadmat(path+'/points/'+p_path)\n",
    "    if 'faceCoordinatesUnwarped' in mat:\n",
    "      cords_0 = mat['faceCoordinatesUnwarped'] \n",
    "    else:\n",
    "      cords_0 = mat['faceCoordinates2']\n",
    "    \n",
    "    p_path = str(samples_index[1]).zfill(4)+'.mat'\n",
    "    mat = scipy.io.loadmat(path+'/points/'+p_path)\n",
    "    if 'faceCoordinatesUnwarped' in mat:\n",
    "      cords_1 = mat['faceCoordinatesUnwarped'] \n",
    "    else:\n",
    "      cords_1 = mat['faceCoordinates2']\n",
    "\n",
    "    cords_new = (cords_0 + cords_1) / 2 \n",
    "        # averaging two sets of cordinates to generate new set of cordinates\n",
    "    distance = sklearn.metrics.pairwise_distances(cords_new)\n",
    "        # compute the pairwise distances in each mat\n",
    "    flatten_distance = distance[np.triu_indices(len(cords_new[:,0]), k = 1)]\n",
    "        # stretch the upper triangle of the symmetric matrix \n",
    "        # to a long array with dimension 3003\n",
    "        # 3003 = (1+77)*78/2\n",
    "    \n",
    "    distances = np.append(distances, np.mat([flatten_distance]), axis = 0)\n",
    "    y = np.append(y,np.array(1))\n",
    "        # Append new data to the original dataset\n",
    "\n",
    "  return (distances, y)"
   ]
  },
  {
   "cell_type": "code",
   "execution_count": 17,
   "metadata": {},
   "outputs": [
    {
     "data": {
      "text/plain": [
       "((3846, 3003), (3846,))"
      ]
     },
     "execution_count": 17,
     "metadata": {},
     "output_type": "execute_result"
    }
   ],
   "source": [
    "X_train_balanced, y_train_balanced = data_preprocessing(X_train, Y_train, path)\n",
    "X_train_balanced.shape, y_train_balanced.shape"
   ]
  },
  {
   "cell_type": "code",
   "execution_count": 18,
   "metadata": {},
   "outputs": [],
   "source": [
    "def data_preprocessing(X_test, Y_test, path):\n",
    "\n",
    "  distances = X_test\n",
    "  y = Y_test\n",
    "\n",
    "  n = y.shape[0]\n",
    "  mat_1 = np.add(np.where(y == 1),1)\n",
    "  n_oversample = (n-sum(y))-sum(y) \n",
    "    # how many samples do we need to generate\n",
    "\n",
    "  for i in range(n_oversample):\n",
    "    samples_index = random.sample(list(list(mat_1)[0]), 2)\n",
    "      # pick two random index of class 1 samples. \n",
    "\n",
    "    p_path = str(samples_index[0]).zfill(4)+'.mat'\n",
    "    mat = scipy.io.loadmat(path+'/points/'+p_path)\n",
    "    if 'faceCoordinatesUnwarped' in mat:\n",
    "      cords_0 = mat['faceCoordinatesUnwarped'] \n",
    "    else:\n",
    "      cords_0 = mat['faceCoordinates2']\n",
    "    \n",
    "    p_path = str(samples_index[1]).zfill(4)+'.mat'\n",
    "    mat = scipy.io.loadmat(path+'/points/'+p_path)\n",
    "    if 'faceCoordinatesUnwarped' in mat:\n",
    "      cords_1 = mat['faceCoordinatesUnwarped'] \n",
    "    else:\n",
    "      cords_1 = mat['faceCoordinates2']\n",
    "\n",
    "    cords_new = (cords_0 + cords_1) / 2 \n",
    "        # averaging two sets of cordinates to generate new set of cordinates\n",
    "    distance = sklearn.metrics.pairwise_distances(cords_new)\n",
    "        # compute the pairwise distances in each mat\n",
    "    flatten_distance = distance[np.triu_indices(len(cords_new[:,0]), k = 1)]\n",
    "        # stretch the upper triangle of the symmetric matrix \n",
    "        # to a long array with dimension 3003\n",
    "        # 3003 = (1+77)*78/2\n",
    "    \n",
    "    distances = np.append(distances, np.mat([flatten_distance]), axis = 0)\n",
    "    y = np.append(y,np.array(1))\n",
    "        # Append new data to the original dataset\n",
    "\n",
    "  return (distances, y)"
   ]
  },
  {
   "cell_type": "code",
   "execution_count": 19,
   "metadata": {},
   "outputs": [
    {
     "data": {
      "text/plain": [
       "((958, 3003), (958,))"
      ]
     },
     "execution_count": 19,
     "metadata": {},
     "output_type": "execute_result"
    }
   ],
   "source": [
    "X_test_balanced, y_test_balanced = data_preprocessing(X_test, Y_test, path)\n",
    "X_test_balanced.shape, y_test_balanced.shape"
   ]
  },
  {
   "cell_type": "code",
   "execution_count": 20,
   "metadata": {},
   "outputs": [
    {
     "name": "stdout",
     "output_type": "stream",
     "text": [
      "majority train class: 1923\n",
      "minority train class: 1923\n",
      "majority test class: 479\n",
      "minority test class: 479\n"
     ]
    }
   ],
   "source": [
    "print('majority train class: %d' % np.sum(y_train_balanced == 0))\n",
    "print('minority train class: %d' % np.sum(y_train_balanced == 1))\n",
    "print('majority test class: %d' % np.sum(y_test_balanced == 0))\n",
    "print('minority test class: %d' % np.sum(y_test_balanced == 1))"
   ]
  },
  {
   "cell_type": "markdown",
   "metadata": {},
   "source": [
    "# divide into 2 chunk 3 groups \n",
    "\n",
    "        \n",
    "    • balanced train\n",
    "    \n",
    "        1.(train with balanced,test with balanced)\n",
    "           a.X_balanced_train,y_balanced_train;X_balanced_test,y_balanced_test\n",
    "           b.X_balanced_train,y_balanced_train;X_test_balanced,y_test_balanced \n",
    "        \n",
    "        2.(train with balanced,test with imbalanced) \n",
    "            X_train_balanced.y_train_balanced;X_test,Y_test\n",
    "      \n",
    "\n",
    "    • imbalanced train\n",
    "    \n",
    "        3. (train with imbalanced,test with imbalanced)\n",
    "            X_train,Y_train; X_test,Y_test "
   ]
  },
  {
   "cell_type": "markdown",
   "metadata": {},
   "source": [
    "# try with SVM"
   ]
  },
  {
   "cell_type": "code",
   "execution_count": 21,
   "metadata": {},
   "outputs": [],
   "source": [
    "import numpy as np\n",
    "import pandas as pd\n",
    "import tensorflow as tf\n",
    "import matplotlib.pyplot as plt\n",
    "import sklearn\n",
    "from sklearn.ensemble import GradientBoostingClassifier\n",
    "from sklearn.datasets import make_classification\n",
    "from sklearn.model_selection import train_test_split, cross_validate, GridSearchCV,RepeatedStratifiedKFold,cross_val_score\n",
    "from sklearn.neighbors import KNeighborsClassifier\n",
    "import scipy.io\n",
    "import pickle\n",
    "import os, sys\n",
    "from scipy.spatial.distance import pdist\n",
    "import time \n",
    "import xlsxwriter\n",
    "from sklearn.metrics import accuracy_score, classification_report,make_scorer, confusion_matrix,roc_auc_score\n",
    "from sklearn.model_selection import GridSearchCV\n",
    "import tensorflow as tf\n",
    "#from keras.utils import to_categorical\n",
    "from tensorflow.keras.models import Sequential\n",
    "from sklearn import ensemble\n",
    "from sklearn.svm import SVC\n",
    "import random\n",
    "from keras.utils import to_categorical\n",
    "import matplotlib.pyplot as plt\n",
    "from tensorflow.keras.models import Sequential\n",
    "from keras.layers import Dense, Activation, Flatten, Input, Dropout\n",
    "from keras.layers import BatchNormalization\n",
    "from keras.models import Model\n",
    "from keras import initializers\n",
    "from keras.optimizers import Adam\n",
    "from keras.utils import to_categorical"
   ]
  },
  {
   "cell_type": "markdown",
   "metadata": {},
   "source": [
    "1.a. X_balanced_train, y_balanced_train; X_balanced_test, y_balanced_test"
   ]
  },
  {
   "cell_type": "code",
   "execution_count": 22,
   "metadata": {},
   "outputs": [
    {
     "name": "stdout",
     "output_type": "stream",
     "text": [
      "Fitting 5 folds for each of 25 candidates, totalling 125 fits\n",
      "[CV 1/5] END .....................C=0.1, gamma=1, kernel=rbf; total time=  23.1s\n",
      "[CV 2/5] END .....................C=0.1, gamma=1, kernel=rbf; total time=  23.7s\n",
      "[CV 3/5] END .....................C=0.1, gamma=1, kernel=rbf; total time=  26.2s\n",
      "[CV 4/5] END .....................C=0.1, gamma=1, kernel=rbf; total time=  29.9s\n",
      "[CV 5/5] END .....................C=0.1, gamma=1, kernel=rbf; total time=  34.1s\n",
      "[CV 1/5] END ...................C=0.1, gamma=0.1, kernel=rbf; total time=  30.3s\n",
      "[CV 2/5] END ...................C=0.1, gamma=0.1, kernel=rbf; total time=  29.5s\n",
      "[CV 3/5] END ...................C=0.1, gamma=0.1, kernel=rbf; total time=  30.1s\n",
      "[CV 4/5] END ...................C=0.1, gamma=0.1, kernel=rbf; total time=  30.6s\n",
      "[CV 5/5] END ...................C=0.1, gamma=0.1, kernel=rbf; total time=  30.4s\n",
      "[CV 1/5] END ..................C=0.1, gamma=0.01, kernel=rbf; total time=  30.5s\n",
      "[CV 2/5] END ..................C=0.1, gamma=0.01, kernel=rbf; total time=  31.7s\n",
      "[CV 3/5] END ..................C=0.1, gamma=0.01, kernel=rbf; total time=  29.5s\n",
      "[CV 4/5] END ..................C=0.1, gamma=0.01, kernel=rbf; total time=  28.2s\n",
      "[CV 5/5] END ..................C=0.1, gamma=0.01, kernel=rbf; total time=  29.6s\n",
      "[CV 1/5] END .................C=0.1, gamma=0.001, kernel=rbf; total time=  31.0s\n",
      "[CV 2/5] END .................C=0.1, gamma=0.001, kernel=rbf; total time=  30.5s\n",
      "[CV 3/5] END .................C=0.1, gamma=0.001, kernel=rbf; total time=  29.5s\n",
      "[CV 4/5] END .................C=0.1, gamma=0.001, kernel=rbf; total time=  31.4s\n",
      "[CV 5/5] END .................C=0.1, gamma=0.001, kernel=rbf; total time=  29.9s\n",
      "[CV 1/5] END ................C=0.1, gamma=0.0001, kernel=rbf; total time=  29.0s\n",
      "[CV 2/5] END ................C=0.1, gamma=0.0001, kernel=rbf; total time=  32.9s\n",
      "[CV 3/5] END ................C=0.1, gamma=0.0001, kernel=rbf; total time=  30.8s\n",
      "[CV 4/5] END ................C=0.1, gamma=0.0001, kernel=rbf; total time=  30.2s\n",
      "[CV 5/5] END ................C=0.1, gamma=0.0001, kernel=rbf; total time=  32.4s\n",
      "[CV 1/5] END .......................C=1, gamma=1, kernel=rbf; total time=  31.6s\n",
      "[CV 2/5] END .......................C=1, gamma=1, kernel=rbf; total time=  32.8s\n",
      "[CV 3/5] END .......................C=1, gamma=1, kernel=rbf; total time=  29.1s\n",
      "[CV 4/5] END .......................C=1, gamma=1, kernel=rbf; total time=  33.7s\n",
      "[CV 5/5] END .......................C=1, gamma=1, kernel=rbf; total time=  29.7s\n",
      "[CV 1/5] END .....................C=1, gamma=0.1, kernel=rbf; total time=  31.5s\n",
      "[CV 2/5] END .....................C=1, gamma=0.1, kernel=rbf; total time=  30.3s\n",
      "[CV 3/5] END .....................C=1, gamma=0.1, kernel=rbf; total time=  31.1s\n",
      "[CV 4/5] END .....................C=1, gamma=0.1, kernel=rbf; total time=  29.9s\n",
      "[CV 5/5] END .....................C=1, gamma=0.1, kernel=rbf; total time=  30.8s\n",
      "[CV 1/5] END ....................C=1, gamma=0.01, kernel=rbf; total time=  28.9s\n",
      "[CV 2/5] END ....................C=1, gamma=0.01, kernel=rbf; total time=  31.0s\n",
      "[CV 3/5] END ....................C=1, gamma=0.01, kernel=rbf; total time=  30.4s\n",
      "[CV 4/5] END ....................C=1, gamma=0.01, kernel=rbf; total time=  27.2s\n",
      "[CV 5/5] END ....................C=1, gamma=0.01, kernel=rbf; total time=  26.9s\n",
      "[CV 1/5] END ...................C=1, gamma=0.001, kernel=rbf; total time=  26.9s\n",
      "[CV 2/5] END ...................C=1, gamma=0.001, kernel=rbf; total time=  26.9s\n",
      "[CV 3/5] END ...................C=1, gamma=0.001, kernel=rbf; total time=  27.1s\n",
      "[CV 4/5] END ...................C=1, gamma=0.001, kernel=rbf; total time=  27.2s\n",
      "[CV 5/5] END ...................C=1, gamma=0.001, kernel=rbf; total time=  27.8s\n",
      "[CV 1/5] END ..................C=1, gamma=0.0001, kernel=rbf; total time=  25.4s\n",
      "[CV 2/5] END ..................C=1, gamma=0.0001, kernel=rbf; total time=  24.3s\n",
      "[CV 3/5] END ..................C=1, gamma=0.0001, kernel=rbf; total time=  28.3s\n",
      "[CV 4/5] END ..................C=1, gamma=0.0001, kernel=rbf; total time=  29.6s\n",
      "[CV 5/5] END ..................C=1, gamma=0.0001, kernel=rbf; total time=  26.5s\n",
      "[CV 1/5] END ......................C=10, gamma=1, kernel=rbf; total time=  28.0s\n",
      "[CV 2/5] END ......................C=10, gamma=1, kernel=rbf; total time=  28.0s\n",
      "[CV 3/5] END ......................C=10, gamma=1, kernel=rbf; total time=  26.1s\n",
      "[CV 4/5] END ......................C=10, gamma=1, kernel=rbf; total time=  28.1s\n",
      "[CV 5/5] END ......................C=10, gamma=1, kernel=rbf; total time=  27.9s\n",
      "[CV 1/5] END ....................C=10, gamma=0.1, kernel=rbf; total time=  27.7s\n",
      "[CV 2/5] END ....................C=10, gamma=0.1, kernel=rbf; total time=  26.1s\n",
      "[CV 3/5] END ....................C=10, gamma=0.1, kernel=rbf; total time=  27.4s\n",
      "[CV 4/5] END ....................C=10, gamma=0.1, kernel=rbf; total time=  26.1s\n",
      "[CV 5/5] END ....................C=10, gamma=0.1, kernel=rbf; total time=  27.5s\n",
      "[CV 1/5] END ...................C=10, gamma=0.01, kernel=rbf; total time=  26.9s\n",
      "[CV 2/5] END ...................C=10, gamma=0.01, kernel=rbf; total time=  26.3s\n",
      "[CV 3/5] END ...................C=10, gamma=0.01, kernel=rbf; total time=  26.7s\n",
      "[CV 4/5] END ...................C=10, gamma=0.01, kernel=rbf; total time=  27.4s\n",
      "[CV 5/5] END ...................C=10, gamma=0.01, kernel=rbf; total time=  27.9s\n",
      "[CV 1/5] END ..................C=10, gamma=0.001, kernel=rbf; total time=  27.7s\n",
      "[CV 2/5] END ..................C=10, gamma=0.001, kernel=rbf; total time=  28.4s\n",
      "[CV 3/5] END ..................C=10, gamma=0.001, kernel=rbf; total time=  26.9s\n",
      "[CV 4/5] END ..................C=10, gamma=0.001, kernel=rbf; total time=  27.7s\n",
      "[CV 5/5] END ..................C=10, gamma=0.001, kernel=rbf; total time=  26.9s\n",
      "[CV 1/5] END .................C=10, gamma=0.0001, kernel=rbf; total time=  29.3s\n",
      "[CV 2/5] END .................C=10, gamma=0.0001, kernel=rbf; total time=  27.5s\n",
      "[CV 3/5] END .................C=10, gamma=0.0001, kernel=rbf; total time=  26.9s\n",
      "[CV 4/5] END .................C=10, gamma=0.0001, kernel=rbf; total time=  26.5s\n",
      "[CV 5/5] END .................C=10, gamma=0.0001, kernel=rbf; total time=  27.7s\n",
      "[CV 1/5] END .....................C=100, gamma=1, kernel=rbf; total time=  29.6s\n",
      "[CV 2/5] END .....................C=100, gamma=1, kernel=rbf; total time=  30.8s\n",
      "[CV 3/5] END .....................C=100, gamma=1, kernel=rbf; total time=  30.1s\n",
      "[CV 4/5] END .....................C=100, gamma=1, kernel=rbf; total time=  29.3s\n",
      "[CV 5/5] END .....................C=100, gamma=1, kernel=rbf; total time=  29.3s\n",
      "[CV 1/5] END ...................C=100, gamma=0.1, kernel=rbf; total time=  30.0s\n",
      "[CV 2/5] END ...................C=100, gamma=0.1, kernel=rbf; total time=  29.2s\n",
      "[CV 3/5] END ...................C=100, gamma=0.1, kernel=rbf; total time=  30.5s\n",
      "[CV 4/5] END ...................C=100, gamma=0.1, kernel=rbf; total time=  30.4s\n",
      "[CV 5/5] END ...................C=100, gamma=0.1, kernel=rbf; total time=  29.9s\n",
      "[CV 1/5] END ..................C=100, gamma=0.01, kernel=rbf; total time=  29.7s\n",
      "[CV 2/5] END ..................C=100, gamma=0.01, kernel=rbf; total time=  30.9s\n",
      "[CV 3/5] END ..................C=100, gamma=0.01, kernel=rbf; total time=  27.5s\n",
      "[CV 4/5] END ..................C=100, gamma=0.01, kernel=rbf; total time=  27.2s\n",
      "[CV 5/5] END ..................C=100, gamma=0.01, kernel=rbf; total time=  27.1s\n",
      "[CV 1/5] END .................C=100, gamma=0.001, kernel=rbf; total time=  29.0s\n",
      "[CV 2/5] END .................C=100, gamma=0.001, kernel=rbf; total time=  28.7s\n",
      "[CV 3/5] END .................C=100, gamma=0.001, kernel=rbf; total time=  28.2s\n",
      "[CV 4/5] END .................C=100, gamma=0.001, kernel=rbf; total time=  31.7s\n",
      "[CV 5/5] END .................C=100, gamma=0.001, kernel=rbf; total time=  29.0s\n",
      "[CV 1/5] END ................C=100, gamma=0.0001, kernel=rbf; total time=  29.0s\n",
      "[CV 2/5] END ................C=100, gamma=0.0001, kernel=rbf; total time=  29.0s\n",
      "[CV 3/5] END ................C=100, gamma=0.0001, kernel=rbf; total time=  26.8s\n",
      "[CV 4/5] END ................C=100, gamma=0.0001, kernel=rbf; total time=  37.7s\n",
      "[CV 5/5] END ................C=100, gamma=0.0001, kernel=rbf; total time=  28.2s\n",
      "[CV 1/5] END ....................C=1000, gamma=1, kernel=rbf; total time=  29.7s\n"
     ]
    },
    {
     "name": "stdout",
     "output_type": "stream",
     "text": [
      "[CV 2/5] END ....................C=1000, gamma=1, kernel=rbf; total time=  27.0s\n",
      "[CV 3/5] END ....................C=1000, gamma=1, kernel=rbf; total time=  27.2s\n",
      "[CV 4/5] END ....................C=1000, gamma=1, kernel=rbf; total time=  27.5s\n",
      "[CV 5/5] END ....................C=1000, gamma=1, kernel=rbf; total time=  32.5s\n",
      "[CV 1/5] END ..................C=1000, gamma=0.1, kernel=rbf; total time=  32.3s\n",
      "[CV 2/5] END ..................C=1000, gamma=0.1, kernel=rbf; total time=  31.7s\n",
      "[CV 3/5] END ..................C=1000, gamma=0.1, kernel=rbf; total time=  27.5s\n",
      "[CV 4/5] END ..................C=1000, gamma=0.1, kernel=rbf; total time=  32.9s\n",
      "[CV 5/5] END ..................C=1000, gamma=0.1, kernel=rbf; total time=  30.1s\n",
      "[CV 1/5] END .................C=1000, gamma=0.01, kernel=rbf; total time=  27.4s\n",
      "[CV 2/5] END .................C=1000, gamma=0.01, kernel=rbf; total time=  28.1s\n",
      "[CV 3/5] END .................C=1000, gamma=0.01, kernel=rbf; total time=  26.2s\n",
      "[CV 4/5] END .................C=1000, gamma=0.01, kernel=rbf; total time=  29.2s\n",
      "[CV 5/5] END .................C=1000, gamma=0.01, kernel=rbf; total time=  31.8s\n",
      "[CV 1/5] END ................C=1000, gamma=0.001, kernel=rbf; total time=  37.0s\n",
      "[CV 2/5] END ................C=1000, gamma=0.001, kernel=rbf; total time=  32.1s\n",
      "[CV 3/5] END ................C=1000, gamma=0.001, kernel=rbf; total time=  33.0s\n",
      "[CV 4/5] END ................C=1000, gamma=0.001, kernel=rbf; total time=  31.3s\n",
      "[CV 5/5] END ................C=1000, gamma=0.001, kernel=rbf; total time=  34.0s\n",
      "[CV 1/5] END ...............C=1000, gamma=0.0001, kernel=rbf; total time=  32.0s\n",
      "[CV 2/5] END ...............C=1000, gamma=0.0001, kernel=rbf; total time=  35.9s\n",
      "[CV 3/5] END ...............C=1000, gamma=0.0001, kernel=rbf; total time=  32.8s\n",
      "[CV 4/5] END ...............C=1000, gamma=0.0001, kernel=rbf; total time=  33.5s\n",
      "[CV 5/5] END ...............C=1000, gamma=0.0001, kernel=rbf; total time=  31.2s\n"
     ]
    },
    {
     "data": {
      "text/plain": [
       "GridSearchCV(estimator=SVC(),\n",
       "             param_grid={'C': [0.1, 1, 10, 100, 1000],\n",
       "                         'gamma': [1, 0.1, 0.01, 0.001, 0.0001],\n",
       "                         'kernel': ['rbf']},\n",
       "             verbose=3)"
      ]
     },
     "execution_count": 22,
     "metadata": {},
     "output_type": "execute_result"
    }
   ],
   "source": [
    "param_grid = {'C': [0.1,1, 10, 100, 1000], 'gamma': [1,0.1,0.01,0.001,0.0001], 'kernel': ['rbf']} \n",
    "grid_svm = GridSearchCV(SVC(),param_grid,refit=True,verbose=3)\n",
    "#train with balanced\n",
    "grid_svm.fit(X_balanced_train,y_balanced_train)"
   ]
  },
  {
   "cell_type": "code",
   "execution_count": 23,
   "metadata": {},
   "outputs": [
    {
     "name": "stdout",
     "output_type": "stream",
     "text": [
      "{'C': 10, 'gamma': 0.0001, 'kernel': 'rbf'}\n",
      "SVC(C=10, gamma=0.0001)\n"
     ]
    }
   ],
   "source": [
    "print(grid_svm.best_params_)\n",
    "print(grid_svm.best_estimator_)"
   ]
  },
  {
   "cell_type": "code",
   "execution_count": 24,
   "metadata": {},
   "outputs": [
    {
     "name": "stdout",
     "output_type": "stream",
     "text": [
      "Training  model takes 206.468 seconds\n",
      "Accuracy of SVM on test set: 0.506\n",
      "Predicting test data takes 13.029 seconds\n",
      "Classification error rate: 0.49427679500520294\n",
      "Classification report \n",
      "               precision    recall  f1-score   support\n",
      "\n",
      "           0       0.85      0.02      0.04       484\n",
      "           1       0.50      1.00      0.67       477\n",
      "\n",
      "    accuracy                           0.51       961\n",
      "   macro avg       0.67      0.51      0.36       961\n",
      "weighted avg       0.67      0.51      0.35       961\n",
      "\n",
      "Confusion Matrix \n",
      " [[ 11 473]\n",
      " [  2 475]]\n",
      "AUC is: 0.5062\n"
     ]
    }
   ],
   "source": [
    "# X_balanced_train, y_balanced_train; X_balanced_test,y_balanced_test\n",
    "#Train SVM using best parameters\n",
    "svm_best = SVC(C=10,gamma=0.0001,kernel='rbf',probability=True) \n",
    "start_time=time.time()\n",
    "svm_best.fit(X_balanced_train, y_balanced_train)\n",
    "\n",
    "print(\"Training  model takes %s seconds\" % round((time.time() - start_time),3))\n",
    "print('Accuracy of SVM on test set: {:.3f}'.format(svm_best.score(X_balanced_test,y_balanced_test)))\n",
    "\n",
    "start = time.time()\n",
    "svm_pred = svm_best.predict(X_balanced_test)\n",
    "end = time.time()\n",
    "\n",
    "svm_predprob = svm_best.predict_proba(X_balanced_test)[:,1]\n",
    "\n",
    "print(\"Predicting test data takes %s seconds\" % round((end - start),3))\n",
    "print('Classification error rate:', np.mean(np.array(y_balanced_test)!= svm_pred))\n",
    "print('Classification report \\n', classification_report(y_balanced_test, svm_pred))\n",
    "\n",
    "print('Confusion Matrix \\n', confusion_matrix(y_balanced_test, svm_pred))\n",
    "print('AUC is: {:.4f}'.format(roc_auc_score(y_balanced_test, svm_predprob)))"
   ]
  },
  {
   "cell_type": "markdown",
   "metadata": {},
   "source": [
    "1.b. X_balanced_train, y_balanced_train; X_test_balanced, y_test_balanced "
   ]
  },
  {
   "cell_type": "code",
   "execution_count": 25,
   "metadata": {},
   "outputs": [
    {
     "name": "stdout",
     "output_type": "stream",
     "text": [
      "Training  model takes 169.537 seconds\n",
      "Accuracy of SVM on test set: 0.851\n",
      "Predicting test data takes 13.573 seconds\n",
      "Classification error rate: 0.14926931106471816\n",
      "Classification report \n",
      "               precision    recall  f1-score   support\n",
      "\n",
      "           0       0.99      0.71      0.83       479\n",
      "           1       0.77      0.99      0.87       479\n",
      "\n",
      "    accuracy                           0.85       958\n",
      "   macro avg       0.88      0.85      0.85       958\n",
      "weighted avg       0.88      0.85      0.85       958\n",
      "\n",
      "Confusion Matrix \n",
      " [[339 140]\n",
      " [  3 476]]\n",
      "AUC is: 0.8769\n"
     ]
    }
   ],
   "source": [
    "#Train SVM using best parameters\n",
    "svm_best = SVC(C=10,gamma=0.0001,kernel='rbf',probability=True) \n",
    "start_time=time.time()\n",
    "svm_best.fit(X_balanced_train, y_balanced_train)\n",
    "\n",
    "print(\"Training  model takes %s seconds\" % round((time.time() - start_time),3))\n",
    "print('Accuracy of SVM on test set: {:.3f}'.format(svm_best.score(X_test_balanced,y_test_balanced)))\n",
    "\n",
    "start = time.time()\n",
    "svm_pred = svm_best.predict(X_test_balanced)\n",
    "end = time.time()\n",
    "\n",
    "svm_predprob = svm_best.predict_proba(X_test_balanced)[:,1]\n",
    "\n",
    "print(\"Predicting test data takes %s seconds\" % round((end - start),3))\n",
    "print('Classification error rate:', np.mean(np.array(y_test_balanced)!= svm_pred))\n",
    "print('Classification report \\n', classification_report(y_test_balanced, svm_pred))\n",
    "\n",
    "print('Confusion Matrix \\n', confusion_matrix(y_test_balanced, svm_pred))\n",
    "print('AUC is: {:.4f}'.format(roc_auc_score(y_test_balanced, svm_predprob)))"
   ]
  },
  {
   "cell_type": "markdown",
   "metadata": {},
   "source": [
    "2. a. X_train_balanced, y_train_balanced; X_test,Y_test"
   ]
  },
  {
   "cell_type": "code",
   "execution_count": 26,
   "metadata": {},
   "outputs": [
    {
     "name": "stdout",
     "output_type": "stream",
     "text": [
      "Fitting 5 folds for each of 25 candidates, totalling 125 fits\n",
      "[CV 1/5] END .....................C=0.1, gamma=1, kernel=rbf; total time=  58.7s\n",
      "[CV 2/5] END .....................C=0.1, gamma=1, kernel=rbf; total time=  24.1s\n",
      "[CV 3/5] END .....................C=0.1, gamma=1, kernel=rbf; total time=  24.7s\n",
      "[CV 4/5] END .....................C=0.1, gamma=1, kernel=rbf; total time=  24.6s\n",
      "[CV 5/5] END .....................C=0.1, gamma=1, kernel=rbf; total time=  24.8s\n",
      "[CV 1/5] END ...................C=0.1, gamma=0.1, kernel=rbf; total time=  24.6s\n",
      "[CV 2/5] END ...................C=0.1, gamma=0.1, kernel=rbf; total time=  24.5s\n",
      "[CV 3/5] END ...................C=0.1, gamma=0.1, kernel=rbf; total time=  24.6s\n",
      "[CV 4/5] END ...................C=0.1, gamma=0.1, kernel=rbf; total time=  24.6s\n",
      "[CV 5/5] END ...................C=0.1, gamma=0.1, kernel=rbf; total time=  24.4s\n",
      "[CV 1/5] END ..................C=0.1, gamma=0.01, kernel=rbf; total time=  24.4s\n",
      "[CV 2/5] END ..................C=0.1, gamma=0.01, kernel=rbf; total time=  24.6s\n",
      "[CV 3/5] END ..................C=0.1, gamma=0.01, kernel=rbf; total time=  22.1s\n",
      "[CV 4/5] END ..................C=0.1, gamma=0.01, kernel=rbf; total time=  21.6s\n",
      "[CV 5/5] END ..................C=0.1, gamma=0.01, kernel=rbf; total time=  21.6s\n",
      "[CV 1/5] END .................C=0.1, gamma=0.001, kernel=rbf; total time=  21.8s\n",
      "[CV 2/5] END .................C=0.1, gamma=0.001, kernel=rbf; total time=  21.7s\n",
      "[CV 3/5] END .................C=0.1, gamma=0.001, kernel=rbf; total time=  21.7s\n",
      "[CV 4/5] END .................C=0.1, gamma=0.001, kernel=rbf; total time=  21.6s\n",
      "[CV 5/5] END .................C=0.1, gamma=0.001, kernel=rbf; total time=  21.4s\n",
      "[CV 1/5] END ................C=0.1, gamma=0.0001, kernel=rbf; total time=  20.8s\n",
      "[CV 2/5] END ................C=0.1, gamma=0.0001, kernel=rbf; total time=  21.0s\n",
      "[CV 3/5] END ................C=0.1, gamma=0.0001, kernel=rbf; total time=  21.0s\n",
      "[CV 4/5] END ................C=0.1, gamma=0.0001, kernel=rbf; total time=  21.0s\n",
      "[CV 5/5] END ................C=0.1, gamma=0.0001, kernel=rbf; total time=  21.0s\n",
      "[CV 1/5] END .......................C=1, gamma=1, kernel=rbf; total time=  21.8s\n",
      "[CV 2/5] END .......................C=1, gamma=1, kernel=rbf; total time=  22.9s\n",
      "[CV 3/5] END .......................C=1, gamma=1, kernel=rbf; total time=  21.8s\n",
      "[CV 4/5] END .......................C=1, gamma=1, kernel=rbf; total time=  21.7s\n",
      "[CV 5/5] END .......................C=1, gamma=1, kernel=rbf; total time=  21.8s\n",
      "[CV 1/5] END .....................C=1, gamma=0.1, kernel=rbf; total time=  21.7s\n",
      "[CV 2/5] END .....................C=1, gamma=0.1, kernel=rbf; total time=  21.6s\n",
      "[CV 3/5] END .....................C=1, gamma=0.1, kernel=rbf; total time=  21.7s\n",
      "[CV 4/5] END .....................C=1, gamma=0.1, kernel=rbf; total time=  22.2s\n",
      "[CV 5/5] END .....................C=1, gamma=0.1, kernel=rbf; total time=  21.7s\n",
      "[CV 1/5] END ....................C=1, gamma=0.01, kernel=rbf; total time=  21.5s\n",
      "[CV 2/5] END ....................C=1, gamma=0.01, kernel=rbf; total time=  21.6s\n",
      "[CV 3/5] END ....................C=1, gamma=0.01, kernel=rbf; total time=  21.8s\n",
      "[CV 4/5] END ....................C=1, gamma=0.01, kernel=rbf; total time=  21.6s\n",
      "[CV 5/5] END ....................C=1, gamma=0.01, kernel=rbf; total time=  21.6s\n",
      "[CV 1/5] END ...................C=1, gamma=0.001, kernel=rbf; total time=  21.4s\n",
      "[CV 2/5] END ...................C=1, gamma=0.001, kernel=rbf; total time=  21.5s\n",
      "[CV 3/5] END ...................C=1, gamma=0.001, kernel=rbf; total time=  21.7s\n",
      "[CV 4/5] END ...................C=1, gamma=0.001, kernel=rbf; total time=  21.9s\n",
      "[CV 5/5] END ...................C=1, gamma=0.001, kernel=rbf; total time=  21.6s\n",
      "[CV 1/5] END ..................C=1, gamma=0.0001, kernel=rbf; total time=  20.9s\n",
      "[CV 2/5] END ..................C=1, gamma=0.0001, kernel=rbf; total time=  21.1s\n",
      "[CV 3/5] END ..................C=1, gamma=0.0001, kernel=rbf; total time=  21.3s\n",
      "[CV 4/5] END ..................C=1, gamma=0.0001, kernel=rbf; total time=  21.1s\n",
      "[CV 5/5] END ..................C=1, gamma=0.0001, kernel=rbf; total time=  21.2s\n",
      "[CV 1/5] END ......................C=10, gamma=1, kernel=rbf; total time=  21.4s\n",
      "[CV 2/5] END ......................C=10, gamma=1, kernel=rbf; total time=  21.5s\n",
      "[CV 3/5] END ......................C=10, gamma=1, kernel=rbf; total time=  21.8s\n",
      "[CV 4/5] END ......................C=10, gamma=1, kernel=rbf; total time=  21.5s\n",
      "[CV 5/5] END ......................C=10, gamma=1, kernel=rbf; total time=  21.9s\n",
      "[CV 1/5] END ....................C=10, gamma=0.1, kernel=rbf; total time=  21.9s\n",
      "[CV 2/5] END ....................C=10, gamma=0.1, kernel=rbf; total time=  42.5s\n",
      "[CV 3/5] END ....................C=10, gamma=0.1, kernel=rbf; total time=  27.2s\n",
      "[CV 4/5] END ....................C=10, gamma=0.1, kernel=rbf; total time=  22.8s\n",
      "[CV 5/5] END ....................C=10, gamma=0.1, kernel=rbf; total time=  25.1s\n",
      "[CV 1/5] END ...................C=10, gamma=0.01, kernel=rbf; total time=  24.0s\n",
      "[CV 2/5] END ...................C=10, gamma=0.01, kernel=rbf; total time=  24.2s\n",
      "[CV 3/5] END ...................C=10, gamma=0.01, kernel=rbf; total time=  22.8s\n",
      "[CV 4/5] END ...................C=10, gamma=0.01, kernel=rbf; total time=  22.8s\n",
      "[CV 5/5] END ...................C=10, gamma=0.01, kernel=rbf; total time=  23.5s\n",
      "[CV 1/5] END ..................C=10, gamma=0.001, kernel=rbf; total time=  22.7s\n",
      "[CV 2/5] END ..................C=10, gamma=0.001, kernel=rbf; total time=  23.0s\n",
      "[CV 3/5] END ..................C=10, gamma=0.001, kernel=rbf; total time=  24.1s\n",
      "[CV 4/5] END ..................C=10, gamma=0.001, kernel=rbf; total time=  24.5s\n",
      "[CV 5/5] END ..................C=10, gamma=0.001, kernel=rbf; total time=  24.3s\n",
      "[CV 1/5] END .................C=10, gamma=0.0001, kernel=rbf; total time=  23.8s\n",
      "[CV 2/5] END .................C=10, gamma=0.0001, kernel=rbf; total time=  22.4s\n",
      "[CV 3/5] END .................C=10, gamma=0.0001, kernel=rbf; total time=  22.0s\n",
      "[CV 4/5] END .................C=10, gamma=0.0001, kernel=rbf; total time=  23.5s\n",
      "[CV 5/5] END .................C=10, gamma=0.0001, kernel=rbf; total time=  24.3s\n",
      "[CV 1/5] END .....................C=100, gamma=1, kernel=rbf; total time=  23.5s\n",
      "[CV 2/5] END .....................C=100, gamma=1, kernel=rbf; total time=  25.1s\n",
      "[CV 3/5] END .....................C=100, gamma=1, kernel=rbf; total time=  25.6s\n",
      "[CV 4/5] END .....................C=100, gamma=1, kernel=rbf; total time=  22.0s\n",
      "[CV 5/5] END .....................C=100, gamma=1, kernel=rbf; total time=  22.1s\n",
      "[CV 1/5] END ...................C=100, gamma=0.1, kernel=rbf; total time=  21.9s\n",
      "[CV 2/5] END ...................C=100, gamma=0.1, kernel=rbf; total time=  21.7s\n",
      "[CV 3/5] END ...................C=100, gamma=0.1, kernel=rbf; total time=  21.8s\n",
      "[CV 4/5] END ...................C=100, gamma=0.1, kernel=rbf; total time=  21.8s\n",
      "[CV 5/5] END ...................C=100, gamma=0.1, kernel=rbf; total time=  22.2s\n",
      "[CV 1/5] END ..................C=100, gamma=0.01, kernel=rbf; total time=  22.0s\n",
      "[CV 2/5] END ..................C=100, gamma=0.01, kernel=rbf; total time=  21.9s\n",
      "[CV 3/5] END ..................C=100, gamma=0.01, kernel=rbf; total time=  21.7s\n",
      "[CV 4/5] END ..................C=100, gamma=0.01, kernel=rbf; total time=  21.9s\n",
      "[CV 5/5] END ..................C=100, gamma=0.01, kernel=rbf; total time=  22.2s\n",
      "[CV 1/5] END .................C=100, gamma=0.001, kernel=rbf; total time=  22.2s\n",
      "[CV 2/5] END .................C=100, gamma=0.001, kernel=rbf; total time=  21.6s\n",
      "[CV 3/5] END .................C=100, gamma=0.001, kernel=rbf; total time=  21.7s\n",
      "[CV 4/5] END .................C=100, gamma=0.001, kernel=rbf; total time=  21.6s\n",
      "[CV 5/5] END .................C=100, gamma=0.001, kernel=rbf; total time=  22.6s\n",
      "[CV 1/5] END ................C=100, gamma=0.0001, kernel=rbf; total time=  21.1s\n",
      "[CV 2/5] END ................C=100, gamma=0.0001, kernel=rbf; total time=  21.2s\n",
      "[CV 3/5] END ................C=100, gamma=0.0001, kernel=rbf; total time=  21.1s\n",
      "[CV 4/5] END ................C=100, gamma=0.0001, kernel=rbf; total time=  21.2s\n",
      "[CV 5/5] END ................C=100, gamma=0.0001, kernel=rbf; total time=  21.4s\n",
      "[CV 1/5] END ....................C=1000, gamma=1, kernel=rbf; total time=  21.8s\n"
     ]
    },
    {
     "name": "stdout",
     "output_type": "stream",
     "text": [
      "[CV 2/5] END ....................C=1000, gamma=1, kernel=rbf; total time=  21.7s\n",
      "[CV 3/5] END ....................C=1000, gamma=1, kernel=rbf; total time=  21.8s\n",
      "[CV 4/5] END ....................C=1000, gamma=1, kernel=rbf; total time=  21.7s\n",
      "[CV 5/5] END ....................C=1000, gamma=1, kernel=rbf; total time=  22.0s\n",
      "[CV 1/5] END ..................C=1000, gamma=0.1, kernel=rbf; total time=  23.4s\n",
      "[CV 2/5] END ..................C=1000, gamma=0.1, kernel=rbf; total time=  21.7s\n",
      "[CV 3/5] END ..................C=1000, gamma=0.1, kernel=rbf; total time=  21.7s\n",
      "[CV 4/5] END ..................C=1000, gamma=0.1, kernel=rbf; total time=  21.9s\n",
      "[CV 5/5] END ..................C=1000, gamma=0.1, kernel=rbf; total time=  22.2s\n",
      "[CV 1/5] END .................C=1000, gamma=0.01, kernel=rbf; total time=  21.9s\n",
      "[CV 2/5] END .................C=1000, gamma=0.01, kernel=rbf; total time=  21.6s\n",
      "[CV 3/5] END .................C=1000, gamma=0.01, kernel=rbf; total time=  25.7s\n",
      "[CV 4/5] END .................C=1000, gamma=0.01, kernel=rbf; total time=  23.5s\n",
      "[CV 5/5] END .................C=1000, gamma=0.01, kernel=rbf; total time=  22.3s\n",
      "[CV 1/5] END ................C=1000, gamma=0.001, kernel=rbf; total time=  21.8s\n",
      "[CV 2/5] END ................C=1000, gamma=0.001, kernel=rbf; total time=  21.7s\n",
      "[CV 3/5] END ................C=1000, gamma=0.001, kernel=rbf; total time=  21.7s\n",
      "[CV 4/5] END ................C=1000, gamma=0.001, kernel=rbf; total time=  21.7s\n",
      "[CV 5/5] END ................C=1000, gamma=0.001, kernel=rbf; total time=  22.0s\n",
      "[CV 1/5] END ...............C=1000, gamma=0.0001, kernel=rbf; total time=  21.3s\n",
      "[CV 2/5] END ...............C=1000, gamma=0.0001, kernel=rbf; total time=  21.3s\n",
      "[CV 3/5] END ...............C=1000, gamma=0.0001, kernel=rbf; total time=  21.2s\n",
      "[CV 4/5] END ...............C=1000, gamma=0.0001, kernel=rbf; total time=  21.6s\n",
      "[CV 5/5] END ...............C=1000, gamma=0.0001, kernel=rbf; total time=  21.2s\n"
     ]
    },
    {
     "data": {
      "text/plain": [
       "GridSearchCV(estimator=SVC(),\n",
       "             param_grid={'C': [0.1, 1, 10, 100, 1000],\n",
       "                         'gamma': [1, 0.1, 0.01, 0.001, 0.0001],\n",
       "                         'kernel': ['rbf']},\n",
       "             verbose=3)"
      ]
     },
     "execution_count": 26,
     "metadata": {},
     "output_type": "execute_result"
    }
   ],
   "source": [
    "param_grid = {'C': [0.1,1, 10, 100, 1000], 'gamma': [1,0.1,0.01,0.001,0.0001], 'kernel': ['rbf']} \n",
    "grid_svm = GridSearchCV(SVC(),param_grid,refit=True,verbose=3)\n",
    "#train with balanced\n",
    "grid_svm.fit(X_train_balanced,y_train_balanced)"
   ]
  },
  {
   "cell_type": "code",
   "execution_count": 27,
   "metadata": {},
   "outputs": [
    {
     "name": "stdout",
     "output_type": "stream",
     "text": [
      "{'C': 10, 'gamma': 0.0001, 'kernel': 'rbf'}\n",
      "SVC(C=10, gamma=0.0001)\n"
     ]
    }
   ],
   "source": [
    "print(grid_svm.best_params_)\n",
    "print(grid_svm.best_estimator_)"
   ]
  },
  {
   "cell_type": "code",
   "execution_count": 28,
   "metadata": {},
   "outputs": [
    {
     "name": "stdout",
     "output_type": "stream",
     "text": [
      "Training  model takes 136.552 seconds\n",
      "Accuracy of SVM on test set: 0.798\n",
      "Predicting test data takes 6.439 seconds\n",
      "Classification error rate: 0.20166666666666666\n",
      "Classification report \n",
      "               precision    recall  f1-score   support\n",
      "\n",
      "           0       0.80      1.00      0.89       479\n",
      "           1       0.00      0.00      0.00       121\n",
      "\n",
      "    accuracy                           0.80       600\n",
      "   macro avg       0.40      0.50      0.44       600\n",
      "weighted avg       0.64      0.80      0.71       600\n",
      "\n",
      "Confusion Matrix \n",
      " [[479   0]\n",
      " [121   0]]\n",
      "AUC is: 0.4969\n"
     ]
    },
    {
     "name": "stderr",
     "output_type": "stream",
     "text": [
      "C:\\Users\\liqia\\anaconda3\\lib\\site-packages\\sklearn\\metrics\\_classification.py:1245: UndefinedMetricWarning: Precision and F-score are ill-defined and being set to 0.0 in labels with no predicted samples. Use `zero_division` parameter to control this behavior.\n",
      "  _warn_prf(average, modifier, msg_start, len(result))\n",
      "C:\\Users\\liqia\\anaconda3\\lib\\site-packages\\sklearn\\metrics\\_classification.py:1245: UndefinedMetricWarning: Precision and F-score are ill-defined and being set to 0.0 in labels with no predicted samples. Use `zero_division` parameter to control this behavior.\n",
      "  _warn_prf(average, modifier, msg_start, len(result))\n",
      "C:\\Users\\liqia\\anaconda3\\lib\\site-packages\\sklearn\\metrics\\_classification.py:1245: UndefinedMetricWarning: Precision and F-score are ill-defined and being set to 0.0 in labels with no predicted samples. Use `zero_division` parameter to control this behavior.\n",
      "  _warn_prf(average, modifier, msg_start, len(result))\n"
     ]
    }
   ],
   "source": [
    "# X_train_balanced, y_train_balanced; X_test,Y_test\n",
    "#Train SVM using best parameters\n",
    "svm_best = SVC(C=10,gamma=0.0001,kernel='rbf',probability=True) \n",
    "start_time=time.time()\n",
    "svm_best.fit(X_train_balanced, y_train_balanced)\n",
    "\n",
    "print(\"Training  model takes %s seconds\" % round((time.time() - start_time),3))\n",
    "print('Accuracy of SVM on test set: {:.3f}'.format(svm_best.score(X_test,Y_test)))\n",
    "\n",
    "start = time.time()\n",
    "svm_pred = svm_best.predict(X_test)\n",
    "end = time.time()\n",
    "\n",
    "svm_predprob = svm_best.predict_proba(X_test)[:,1]\n",
    "\n",
    "print(\"Predicting test data takes %s seconds\" % round((end - start),3))\n",
    "print('Classification error rate:', np.mean(np.array(Y_test)!= svm_pred))\n",
    "print('Classification report \\n', classification_report(Y_test, svm_pred))\n",
    "\n",
    "print('Confusion Matrix \\n', confusion_matrix(Y_test, svm_pred))\n",
    "print('AUC is: {:.4f}'.format(roc_auc_score(Y_test, svm_predprob)))"
   ]
  },
  {
   "cell_type": "code",
   "execution_count": 29,
   "metadata": {},
   "outputs": [
    {
     "name": "stdout",
     "output_type": "stream",
     "text": [
      "Training  model takes 136.394 seconds\n",
      "Accuracy of SVM on test set: 0.593\n",
      "Predicting test data takes 10.105 seconds\n",
      "Classification error rate: 0.4068678459937565\n",
      "Classification report \n",
      "               precision    recall  f1-score   support\n",
      "\n",
      "           0       0.55      1.00      0.71       484\n",
      "           1       1.00      0.18      0.31       477\n",
      "\n",
      "    accuracy                           0.59       961\n",
      "   macro avg       0.78      0.59      0.51       961\n",
      "weighted avg       0.77      0.59      0.51       961\n",
      "\n",
      "Confusion Matrix \n",
      " [[484   0]\n",
      " [391  86]]\n",
      "AUC is: 0.8797\n"
     ]
    }
   ],
   "source": [
    "# X_train_balanced, y_train_balanced; X_balanced_test,y_balanced_test\n",
    "#Train SVM using best parameters\n",
    "svm_best = SVC(C=10,gamma=0.0001,kernel='rbf',probability=True) \n",
    "start_time=time.time()\n",
    "svm_best.fit(X_train_balanced, y_train_balanced)\n",
    "\n",
    "print(\"Training  model takes %s seconds\" % round((time.time() - start_time),3))\n",
    "print('Accuracy of SVM on test set: {:.3f}'.format(svm_best.score(X_balanced_test,y_balanced_test)))\n",
    "\n",
    "start = time.time()\n",
    "svm_pred = svm_best.predict(X_balanced_test)\n",
    "end = time.time()\n",
    "\n",
    "svm_predprob = svm_best.predict_proba(X_balanced_test)[:,1]\n",
    "\n",
    "print(\"Predicting test data takes %s seconds\" % round((end - start),3))\n",
    "print('Classification error rate:', np.mean(np.array(y_balanced_test)!= svm_pred))\n",
    "print('Classification report \\n', classification_report(y_balanced_test, svm_pred))\n",
    "\n",
    "print('Confusion Matrix \\n', confusion_matrix(y_balanced_test, svm_pred))\n",
    "print('AUC is: {:.4f}'.format(roc_auc_score(y_balanced_test, svm_predprob)))"
   ]
  },
  {
   "cell_type": "code",
   "execution_count": 30,
   "metadata": {},
   "outputs": [
    {
     "name": "stdout",
     "output_type": "stream",
     "text": [
      "Training  model takes 138.405 seconds\n",
      "Accuracy of SVM on test set: 0.502\n",
      "Predicting test data takes 10.709 seconds\n",
      "Classification error rate: 0.4979123173277662\n",
      "Classification report \n",
      "               precision    recall  f1-score   support\n",
      "\n",
      "           0       0.50      1.00      0.67       479\n",
      "           1       1.00      0.00      0.01       479\n",
      "\n",
      "    accuracy                           0.50       958\n",
      "   macro avg       0.75      0.50      0.34       958\n",
      "weighted avg       0.75      0.50      0.34       958\n",
      "\n",
      "Confusion Matrix \n",
      " [[479   0]\n",
      " [477   2]]\n",
      "AUC is: 0.7187\n"
     ]
    }
   ],
   "source": [
    "# X_train_balanced, y_train_balanced; X_test_balanced,y_test_balanced \n",
    "#Train SVM using best parameters\n",
    "svm_best = SVC(C=10,gamma=0.0001,kernel='rbf',probability=True) \n",
    "start_time=time.time()\n",
    "svm_best.fit(X_train_balanced, y_train_balanced)\n",
    "\n",
    "print(\"Training  model takes %s seconds\" % round((time.time() - start_time),3))\n",
    "print('Accuracy of SVM on test set: {:.3f}'.format(svm_best.score(X_test_balanced,y_test_balanced)))\n",
    "\n",
    "start = time.time()\n",
    "svm_pred = svm_best.predict(X_test_balanced)\n",
    "end = time.time()\n",
    "\n",
    "svm_predprob = svm_best.predict_proba(X_test_balanced)[:,1]\n",
    "\n",
    "print(\"Predicting test data takes %s seconds\" % round((end - start),3))\n",
    "print('Classification error rate:', np.mean(np.array(y_test_balanced)!= svm_pred))\n",
    "print('Classification report \\n', classification_report(y_test_balanced, svm_pred))\n",
    "\n",
    "print('Confusion Matrix \\n', confusion_matrix(y_test_balanced, svm_pred))\n",
    "print('AUC is: {:.4f}'.format(roc_auc_score(y_test_balanced, svm_predprob)))"
   ]
  },
  {
   "cell_type": "markdown",
   "metadata": {},
   "source": [
    "3.  X_train,Y_train; X_test,Y_test"
   ]
  },
  {
   "cell_type": "code",
   "execution_count": 31,
   "metadata": {},
   "outputs": [
    {
     "name": "stdout",
     "output_type": "stream",
     "text": [
      "Fitting 5 folds for each of 25 candidates, totalling 125 fits\n",
      "[CV 1/5] END .....................C=0.1, gamma=1, kernel=rbf; total time=   9.0s\n",
      "[CV 2/5] END .....................C=0.1, gamma=1, kernel=rbf; total time=   9.1s\n",
      "[CV 3/5] END .....................C=0.1, gamma=1, kernel=rbf; total time=   8.8s\n",
      "[CV 4/5] END .....................C=0.1, gamma=1, kernel=rbf; total time=   8.9s\n",
      "[CV 5/5] END .....................C=0.1, gamma=1, kernel=rbf; total time=   9.3s\n",
      "[CV 1/5] END ...................C=0.1, gamma=0.1, kernel=rbf; total time=   8.7s\n",
      "[CV 2/5] END ...................C=0.1, gamma=0.1, kernel=rbf; total time=   9.9s\n",
      "[CV 3/5] END ...................C=0.1, gamma=0.1, kernel=rbf; total time=   9.7s\n",
      "[CV 4/5] END ...................C=0.1, gamma=0.1, kernel=rbf; total time=   9.0s\n",
      "[CV 5/5] END ...................C=0.1, gamma=0.1, kernel=rbf; total time=   8.1s\n",
      "[CV 1/5] END ..................C=0.1, gamma=0.01, kernel=rbf; total time=   8.0s\n",
      "[CV 2/5] END ..................C=0.1, gamma=0.01, kernel=rbf; total time=   8.1s\n",
      "[CV 3/5] END ..................C=0.1, gamma=0.01, kernel=rbf; total time=   8.2s\n",
      "[CV 4/5] END ..................C=0.1, gamma=0.01, kernel=rbf; total time=   8.1s\n",
      "[CV 5/5] END ..................C=0.1, gamma=0.01, kernel=rbf; total time=   8.1s\n",
      "[CV 1/5] END .................C=0.1, gamma=0.001, kernel=rbf; total time=   8.0s\n",
      "[CV 2/5] END .................C=0.1, gamma=0.001, kernel=rbf; total time=   8.1s\n",
      "[CV 3/5] END .................C=0.1, gamma=0.001, kernel=rbf; total time=   8.1s\n",
      "[CV 4/5] END .................C=0.1, gamma=0.001, kernel=rbf; total time=   8.9s\n",
      "[CV 5/5] END .................C=0.1, gamma=0.001, kernel=rbf; total time=   8.7s\n",
      "[CV 1/5] END ................C=0.1, gamma=0.0001, kernel=rbf; total time=   8.5s\n",
      "[CV 2/5] END ................C=0.1, gamma=0.0001, kernel=rbf; total time=   8.3s\n",
      "[CV 3/5] END ................C=0.1, gamma=0.0001, kernel=rbf; total time=   7.9s\n",
      "[CV 4/5] END ................C=0.1, gamma=0.0001, kernel=rbf; total time=   7.9s\n",
      "[CV 5/5] END ................C=0.1, gamma=0.0001, kernel=rbf; total time=   8.0s\n",
      "[CV 1/5] END .......................C=1, gamma=1, kernel=rbf; total time=   8.1s\n",
      "[CV 2/5] END .......................C=1, gamma=1, kernel=rbf; total time=   8.5s\n",
      "[CV 3/5] END .......................C=1, gamma=1, kernel=rbf; total time=   8.1s\n",
      "[CV 4/5] END .......................C=1, gamma=1, kernel=rbf; total time=   8.1s\n",
      "[CV 5/5] END .......................C=1, gamma=1, kernel=rbf; total time=   8.2s\n",
      "[CV 1/5] END .....................C=1, gamma=0.1, kernel=rbf; total time=   8.2s\n",
      "[CV 2/5] END .....................C=1, gamma=0.1, kernel=rbf; total time=   8.1s\n",
      "[CV 3/5] END .....................C=1, gamma=0.1, kernel=rbf; total time=   8.3s\n",
      "[CV 4/5] END .....................C=1, gamma=0.1, kernel=rbf; total time=   8.1s\n",
      "[CV 5/5] END .....................C=1, gamma=0.1, kernel=rbf; total time=   8.2s\n",
      "[CV 1/5] END ....................C=1, gamma=0.01, kernel=rbf; total time=   8.1s\n",
      "[CV 2/5] END ....................C=1, gamma=0.01, kernel=rbf; total time=   8.3s\n",
      "[CV 3/5] END ....................C=1, gamma=0.01, kernel=rbf; total time=   8.2s\n",
      "[CV 4/5] END ....................C=1, gamma=0.01, kernel=rbf; total time=   8.0s\n",
      "[CV 5/5] END ....................C=1, gamma=0.01, kernel=rbf; total time=   8.2s\n",
      "[CV 1/5] END ...................C=1, gamma=0.001, kernel=rbf; total time=   8.2s\n",
      "[CV 2/5] END ...................C=1, gamma=0.001, kernel=rbf; total time=   8.2s\n",
      "[CV 3/5] END ...................C=1, gamma=0.001, kernel=rbf; total time=   8.0s\n",
      "[CV 4/5] END ...................C=1, gamma=0.001, kernel=rbf; total time=   8.1s\n",
      "[CV 5/5] END ...................C=1, gamma=0.001, kernel=rbf; total time=   8.1s\n",
      "[CV 1/5] END ..................C=1, gamma=0.0001, kernel=rbf; total time=   7.9s\n",
      "[CV 2/5] END ..................C=1, gamma=0.0001, kernel=rbf; total time=   8.0s\n",
      "[CV 3/5] END ..................C=1, gamma=0.0001, kernel=rbf; total time=   8.0s\n",
      "[CV 4/5] END ..................C=1, gamma=0.0001, kernel=rbf; total time=   8.5s\n",
      "[CV 5/5] END ..................C=1, gamma=0.0001, kernel=rbf; total time=   8.1s\n",
      "[CV 1/5] END ......................C=10, gamma=1, kernel=rbf; total time=   8.5s\n",
      "[CV 2/5] END ......................C=10, gamma=1, kernel=rbf; total time=   8.6s\n",
      "[CV 3/5] END ......................C=10, gamma=1, kernel=rbf; total time=   8.5s\n",
      "[CV 4/5] END ......................C=10, gamma=1, kernel=rbf; total time=   8.5s\n",
      "[CV 5/5] END ......................C=10, gamma=1, kernel=rbf; total time=   8.5s\n",
      "[CV 1/5] END ....................C=10, gamma=0.1, kernel=rbf; total time=   8.6s\n",
      "[CV 2/5] END ....................C=10, gamma=0.1, kernel=rbf; total time=   8.5s\n",
      "[CV 3/5] END ....................C=10, gamma=0.1, kernel=rbf; total time=   8.7s\n",
      "[CV 4/5] END ....................C=10, gamma=0.1, kernel=rbf; total time=   8.4s\n",
      "[CV 5/5] END ....................C=10, gamma=0.1, kernel=rbf; total time=   8.6s\n",
      "[CV 1/5] END ...................C=10, gamma=0.01, kernel=rbf; total time=   8.5s\n",
      "[CV 2/5] END ...................C=10, gamma=0.01, kernel=rbf; total time=   8.6s\n",
      "[CV 3/5] END ...................C=10, gamma=0.01, kernel=rbf; total time=   8.5s\n",
      "[CV 4/5] END ...................C=10, gamma=0.01, kernel=rbf; total time=   8.8s\n",
      "[CV 5/5] END ...................C=10, gamma=0.01, kernel=rbf; total time=   8.4s\n",
      "[CV 1/5] END ..................C=10, gamma=0.001, kernel=rbf; total time=   8.6s\n",
      "[CV 2/5] END ..................C=10, gamma=0.001, kernel=rbf; total time=   8.4s\n",
      "[CV 3/5] END ..................C=10, gamma=0.001, kernel=rbf; total time=   8.4s\n",
      "[CV 4/5] END ..................C=10, gamma=0.001, kernel=rbf; total time=   8.5s\n",
      "[CV 5/5] END ..................C=10, gamma=0.001, kernel=rbf; total time=   8.5s\n",
      "[CV 1/5] END .................C=10, gamma=0.0001, kernel=rbf; total time=   8.3s\n",
      "[CV 2/5] END .................C=10, gamma=0.0001, kernel=rbf; total time=   8.2s\n",
      "[CV 3/5] END .................C=10, gamma=0.0001, kernel=rbf; total time=   8.2s\n",
      "[CV 4/5] END .................C=10, gamma=0.0001, kernel=rbf; total time=   8.3s\n",
      "[CV 5/5] END .................C=10, gamma=0.0001, kernel=rbf; total time=   8.3s\n",
      "[CV 1/5] END .....................C=100, gamma=1, kernel=rbf; total time=   8.4s\n",
      "[CV 2/5] END .....................C=100, gamma=1, kernel=rbf; total time=   8.4s\n",
      "[CV 3/5] END .....................C=100, gamma=1, kernel=rbf; total time=   8.5s\n",
      "[CV 4/5] END .....................C=100, gamma=1, kernel=rbf; total time=   8.6s\n",
      "[CV 5/5] END .....................C=100, gamma=1, kernel=rbf; total time=   8.6s\n",
      "[CV 1/5] END ...................C=100, gamma=0.1, kernel=rbf; total time=   8.5s\n",
      "[CV 2/5] END ...................C=100, gamma=0.1, kernel=rbf; total time=   8.4s\n",
      "[CV 3/5] END ...................C=100, gamma=0.1, kernel=rbf; total time=   8.5s\n",
      "[CV 4/5] END ...................C=100, gamma=0.1, kernel=rbf; total time=   8.5s\n",
      "[CV 5/5] END ...................C=100, gamma=0.1, kernel=rbf; total time=   8.8s\n",
      "[CV 1/5] END ..................C=100, gamma=0.01, kernel=rbf; total time=   8.5s\n",
      "[CV 2/5] END ..................C=100, gamma=0.01, kernel=rbf; total time=   8.5s\n",
      "[CV 3/5] END ..................C=100, gamma=0.01, kernel=rbf; total time=   8.4s\n",
      "[CV 4/5] END ..................C=100, gamma=0.01, kernel=rbf; total time=   8.4s\n",
      "[CV 5/5] END ..................C=100, gamma=0.01, kernel=rbf; total time=   8.5s\n",
      "[CV 1/5] END .................C=100, gamma=0.001, kernel=rbf; total time=   8.6s\n",
      "[CV 2/5] END .................C=100, gamma=0.001, kernel=rbf; total time=   8.4s\n",
      "[CV 3/5] END .................C=100, gamma=0.001, kernel=rbf; total time=   8.4s\n",
      "[CV 4/5] END .................C=100, gamma=0.001, kernel=rbf; total time=   8.4s\n",
      "[CV 5/5] END .................C=100, gamma=0.001, kernel=rbf; total time=   8.4s\n",
      "[CV 1/5] END ................C=100, gamma=0.0001, kernel=rbf; total time=   8.2s\n",
      "[CV 2/5] END ................C=100, gamma=0.0001, kernel=rbf; total time=   8.2s\n",
      "[CV 3/5] END ................C=100, gamma=0.0001, kernel=rbf; total time=   8.3s\n",
      "[CV 4/5] END ................C=100, gamma=0.0001, kernel=rbf; total time=   8.3s\n",
      "[CV 5/5] END ................C=100, gamma=0.0001, kernel=rbf; total time=   8.3s\n",
      "[CV 1/5] END ....................C=1000, gamma=1, kernel=rbf; total time=   8.4s\n"
     ]
    },
    {
     "name": "stdout",
     "output_type": "stream",
     "text": [
      "[CV 2/5] END ....................C=1000, gamma=1, kernel=rbf; total time=   8.5s\n",
      "[CV 3/5] END ....................C=1000, gamma=1, kernel=rbf; total time=   8.5s\n",
      "[CV 4/5] END ....................C=1000, gamma=1, kernel=rbf; total time=   8.5s\n",
      "[CV 5/5] END ....................C=1000, gamma=1, kernel=rbf; total time=   8.5s\n",
      "[CV 1/5] END ..................C=1000, gamma=0.1, kernel=rbf; total time=   8.4s\n",
      "[CV 2/5] END ..................C=1000, gamma=0.1, kernel=rbf; total time=   8.5s\n",
      "[CV 3/5] END ..................C=1000, gamma=0.1, kernel=rbf; total time=   8.4s\n",
      "[CV 4/5] END ..................C=1000, gamma=0.1, kernel=rbf; total time=   8.7s\n",
      "[CV 5/5] END ..................C=1000, gamma=0.1, kernel=rbf; total time=   8.4s\n",
      "[CV 1/5] END .................C=1000, gamma=0.01, kernel=rbf; total time=   8.5s\n",
      "[CV 2/5] END .................C=1000, gamma=0.01, kernel=rbf; total time=   8.7s\n",
      "[CV 3/5] END .................C=1000, gamma=0.01, kernel=rbf; total time=  10.4s\n",
      "[CV 4/5] END .................C=1000, gamma=0.01, kernel=rbf; total time=   9.1s\n",
      "[CV 5/5] END .................C=1000, gamma=0.01, kernel=rbf; total time=   9.0s\n",
      "[CV 1/5] END ................C=1000, gamma=0.001, kernel=rbf; total time=   9.2s\n",
      "[CV 2/5] END ................C=1000, gamma=0.001, kernel=rbf; total time=   8.7s\n",
      "[CV 3/5] END ................C=1000, gamma=0.001, kernel=rbf; total time=   8.6s\n",
      "[CV 4/5] END ................C=1000, gamma=0.001, kernel=rbf; total time=   9.1s\n",
      "[CV 5/5] END ................C=1000, gamma=0.001, kernel=rbf; total time=   9.2s\n",
      "[CV 1/5] END ...............C=1000, gamma=0.0001, kernel=rbf; total time=   8.3s\n",
      "[CV 2/5] END ...............C=1000, gamma=0.0001, kernel=rbf; total time=   8.7s\n",
      "[CV 3/5] END ...............C=1000, gamma=0.0001, kernel=rbf; total time=   8.4s\n",
      "[CV 4/5] END ...............C=1000, gamma=0.0001, kernel=rbf; total time=   8.4s\n",
      "[CV 5/5] END ...............C=1000, gamma=0.0001, kernel=rbf; total time=   8.5s\n"
     ]
    },
    {
     "data": {
      "text/plain": [
       "GridSearchCV(estimator=SVC(),\n",
       "             param_grid={'C': [0.1, 1, 10, 100, 1000],\n",
       "                         'gamma': [1, 0.1, 0.01, 0.001, 0.0001],\n",
       "                         'kernel': ['rbf']},\n",
       "             verbose=3)"
      ]
     },
     "execution_count": 31,
     "metadata": {},
     "output_type": "execute_result"
    }
   ],
   "source": [
    "param_grid = {'C': [0.1,1, 10, 100, 1000], 'gamma': [1,0.1,0.01,0.001,0.0001], 'kernel': ['rbf']} \n",
    "grid_svm = GridSearchCV(SVC(),param_grid,refit=True,verbose=3)\n",
    "#train with balanced\n",
    "grid_svm.fit(X_train,Y_train)"
   ]
  },
  {
   "cell_type": "code",
   "execution_count": 32,
   "metadata": {},
   "outputs": [
    {
     "name": "stdout",
     "output_type": "stream",
     "text": [
      "{'C': 0.1, 'gamma': 1, 'kernel': 'rbf'}\n",
      "SVC(C=0.1, gamma=1)\n"
     ]
    }
   ],
   "source": [
    "print(grid_svm.best_params_)\n",
    "print(grid_svm.best_estimator_)"
   ]
  },
  {
   "cell_type": "code",
   "execution_count": 33,
   "metadata": {},
   "outputs": [
    {
     "name": "stdout",
     "output_type": "stream",
     "text": [
      "Training  model takes 53.695 seconds\n",
      "Accuracy of SVM on test set: 0.798\n",
      "Predicting test data takes 4.011 seconds\n",
      "Classification error rate: 0.20166666666666666\n",
      "Classification report \n",
      "               precision    recall  f1-score   support\n",
      "\n",
      "           0       0.80      1.00      0.89       479\n",
      "           1       0.00      0.00      0.00       121\n",
      "\n",
      "    accuracy                           0.80       600\n",
      "   macro avg       0.40      0.50      0.44       600\n",
      "weighted avg       0.64      0.80      0.71       600\n",
      "\n",
      "Confusion Matrix \n",
      " [[479   0]\n",
      " [121   0]]\n",
      "AUC is: 0.5000\n"
     ]
    },
    {
     "name": "stderr",
     "output_type": "stream",
     "text": [
      "C:\\Users\\liqia\\anaconda3\\lib\\site-packages\\sklearn\\metrics\\_classification.py:1245: UndefinedMetricWarning: Precision and F-score are ill-defined and being set to 0.0 in labels with no predicted samples. Use `zero_division` parameter to control this behavior.\n",
      "  _warn_prf(average, modifier, msg_start, len(result))\n",
      "C:\\Users\\liqia\\anaconda3\\lib\\site-packages\\sklearn\\metrics\\_classification.py:1245: UndefinedMetricWarning: Precision and F-score are ill-defined and being set to 0.0 in labels with no predicted samples. Use `zero_division` parameter to control this behavior.\n",
      "  _warn_prf(average, modifier, msg_start, len(result))\n",
      "C:\\Users\\liqia\\anaconda3\\lib\\site-packages\\sklearn\\metrics\\_classification.py:1245: UndefinedMetricWarning: Precision and F-score are ill-defined and being set to 0.0 in labels with no predicted samples. Use `zero_division` parameter to control this behavior.\n",
      "  _warn_prf(average, modifier, msg_start, len(result))\n"
     ]
    }
   ],
   "source": [
    "# X_train,Y_train; X_test,Y_test\n",
    "#Train SVM using best parameters\n",
    "svm_best = SVC(C=0.1,gamma=1,kernel='rbf',probability=True) \n",
    "start_time=time.time()\n",
    "svm_best.fit(X_train, Y_train)\n",
    "\n",
    "print(\"Training  model takes %s seconds\" % round((time.time() - start_time),3))\n",
    "print('Accuracy of SVM on test set: {:.3f}'.format(svm_best.score(X_test,Y_test)))\n",
    "\n",
    "start = time.time()\n",
    "svm_pred = svm_best.predict(X_test)\n",
    "end = time.time()\n",
    "\n",
    "svm_predprob = svm_best.predict_proba(X_test)[:,1]\n",
    "\n",
    "print(\"Predicting test data takes %s seconds\" % round((end - start),3))\n",
    "print('Classification error rate:', np.mean(np.array(Y_test)!= svm_pred))\n",
    "print('Classification report \\n', classification_report(Y_test, svm_pred))\n",
    "\n",
    "print('Confusion Matrix \\n', confusion_matrix(Y_test, svm_pred))\n",
    "print('AUC is: {:.4f}'.format(roc_auc_score(Y_test, svm_predprob)))"
   ]
  },
  {
   "cell_type": "code",
   "execution_count": 34,
   "metadata": {},
   "outputs": [
    {
     "name": "stdout",
     "output_type": "stream",
     "text": [
      "Training  model takes 50.256 seconds\n",
      "Accuracy of SVM on test set: 0.504\n",
      "Predicting test data takes 6.741 seconds\n",
      "Classification error rate: 0.4963579604578564\n",
      "Classification report \n",
      "               precision    recall  f1-score   support\n",
      "\n",
      "           0       0.50      1.00      0.67       484\n",
      "           1       0.00      0.00      0.00       477\n",
      "\n",
      "    accuracy                           0.50       961\n",
      "   macro avg       0.25      0.50      0.33       961\n",
      "weighted avg       0.25      0.50      0.34       961\n",
      "\n",
      "Confusion Matrix \n",
      " [[484   0]\n",
      " [477   0]]\n",
      "AUC is: 0.1240\n"
     ]
    },
    {
     "name": "stderr",
     "output_type": "stream",
     "text": [
      "C:\\Users\\liqia\\anaconda3\\lib\\site-packages\\sklearn\\metrics\\_classification.py:1245: UndefinedMetricWarning: Precision and F-score are ill-defined and being set to 0.0 in labels with no predicted samples. Use `zero_division` parameter to control this behavior.\n",
      "  _warn_prf(average, modifier, msg_start, len(result))\n",
      "C:\\Users\\liqia\\anaconda3\\lib\\site-packages\\sklearn\\metrics\\_classification.py:1245: UndefinedMetricWarning: Precision and F-score are ill-defined and being set to 0.0 in labels with no predicted samples. Use `zero_division` parameter to control this behavior.\n",
      "  _warn_prf(average, modifier, msg_start, len(result))\n",
      "C:\\Users\\liqia\\anaconda3\\lib\\site-packages\\sklearn\\metrics\\_classification.py:1245: UndefinedMetricWarning: Precision and F-score are ill-defined and being set to 0.0 in labels with no predicted samples. Use `zero_division` parameter to control this behavior.\n",
      "  _warn_prf(average, modifier, msg_start, len(result))\n"
     ]
    }
   ],
   "source": [
    "# X_train,Y_train; X_balanced_test,y_balanced_test\n",
    "#Train SVM using best parameters\n",
    "svm_best = SVC(C=0.1,gamma=1,kernel='rbf',probability=True) \n",
    "start_time=time.time()\n",
    "svm_best.fit(X_train, Y_train)\n",
    "\n",
    "print(\"Training  model takes %s seconds\" % round((time.time() - start_time),3))\n",
    "print('Accuracy of SVM on test set: {:.3f}'.format(svm_best.score(X_balanced_test,y_balanced_test)))\n",
    "\n",
    "start = time.time()\n",
    "svm_pred = svm_best.predict(X_balanced_test)\n",
    "end = time.time()\n",
    "\n",
    "svm_predprob = svm_best.predict_proba(X_balanced_test)[:,1]\n",
    "\n",
    "print(\"Predicting test data takes %s seconds\" % round((end - start),3))\n",
    "print('Classification error rate:', np.mean(np.array(y_balanced_test)!= svm_pred))\n",
    "print('Classification report \\n', classification_report(y_balanced_test, svm_pred))\n",
    "\n",
    "print('Confusion Matrix \\n', confusion_matrix(y_balanced_test, svm_pred))\n",
    "print('AUC is: {:.4f}'.format(roc_auc_score(y_balanced_test, svm_predprob)))"
   ]
  },
  {
   "cell_type": "code",
   "execution_count": 35,
   "metadata": {},
   "outputs": [
    {
     "name": "stdout",
     "output_type": "stream",
     "text": [
      "Training  model takes 50.034 seconds\n",
      "Accuracy of SVM on test set: 0.500\n",
      "Predicting test data takes 6.845 seconds\n",
      "Classification error rate: 0.5\n",
      "Classification report \n",
      "               precision    recall  f1-score   support\n",
      "\n",
      "           0       0.50      1.00      0.67       479\n",
      "           1       0.00      0.00      0.00       479\n",
      "\n",
      "    accuracy                           0.50       958\n",
      "   macro avg       0.25      0.50      0.33       958\n",
      "weighted avg       0.25      0.50      0.33       958\n",
      "\n",
      "Confusion Matrix \n",
      " [[479   0]\n",
      " [479   0]]\n",
      "AUC is: 0.5000\n"
     ]
    },
    {
     "name": "stderr",
     "output_type": "stream",
     "text": [
      "C:\\Users\\liqia\\anaconda3\\lib\\site-packages\\sklearn\\metrics\\_classification.py:1245: UndefinedMetricWarning: Precision and F-score are ill-defined and being set to 0.0 in labels with no predicted samples. Use `zero_division` parameter to control this behavior.\n",
      "  _warn_prf(average, modifier, msg_start, len(result))\n",
      "C:\\Users\\liqia\\anaconda3\\lib\\site-packages\\sklearn\\metrics\\_classification.py:1245: UndefinedMetricWarning: Precision and F-score are ill-defined and being set to 0.0 in labels with no predicted samples. Use `zero_division` parameter to control this behavior.\n",
      "  _warn_prf(average, modifier, msg_start, len(result))\n",
      "C:\\Users\\liqia\\anaconda3\\lib\\site-packages\\sklearn\\metrics\\_classification.py:1245: UndefinedMetricWarning: Precision and F-score are ill-defined and being set to 0.0 in labels with no predicted samples. Use `zero_division` parameter to control this behavior.\n",
      "  _warn_prf(average, modifier, msg_start, len(result))\n"
     ]
    }
   ],
   "source": [
    "# X_train,Y_train; X_test_balanced,y_test_balanced \n",
    "#Train SVM using best parameters\n",
    "svm_best = SVC(C=0.1,gamma=1,kernel='rbf',probability=True) \n",
    "start_time=time.time()\n",
    "svm_best.fit(X_train, Y_train)\n",
    "\n",
    "print(\"Training  model takes %s seconds\" % round((time.time() - start_time),3))\n",
    "print('Accuracy of SVM on test set: {:.3f}'.format(svm_best.score(X_test_balanced,y_test_balanced)))\n",
    "\n",
    "start = time.time()\n",
    "svm_pred = svm_best.predict(X_test_balanced)\n",
    "end = time.time()\n",
    "\n",
    "svm_predprob = svm_best.predict_proba(X_test_balanced)[:,1]\n",
    "\n",
    "print(\"Predicting test data takes %s seconds\" % round((end - start),3))\n",
    "print('Classification error rate:', np.mean(np.array(y_test_balanced)!= svm_pred))\n",
    "print('Classification report \\n', classification_report(y_test_balanced, svm_pred))\n",
    "\n",
    "print('Confusion Matrix \\n', confusion_matrix(y_test_balanced, svm_pred))\n",
    "print('AUC is: {:.4f}'.format(roc_auc_score(y_test_balanced, svm_predprob)))"
   ]
  },
  {
   "cell_type": "code",
   "execution_count": null,
   "metadata": {},
   "outputs": [],
   "source": []
  },
  {
   "cell_type": "markdown",
   "metadata": {},
   "source": [
    "weighted SVM"
   ]
  },
  {
   "cell_type": "code",
   "execution_count": 37,
   "metadata": {},
   "outputs": [
    {
     "name": "stdout",
     "output_type": "stream",
     "text": [
      "Mean ROC AUC: 0.708\n"
     ]
    }
   ],
   "source": [
    "weighted_svm = SVC(gamma = 'scale', class_weight = 'balanced')\n",
    "\n",
    "#CV Weighted SVM \n",
    "cv = RepeatedStratifiedKFold(n_splits=10, n_repeats=3, random_state=1)\n",
    "# evaluate model\n",
    "scores = cross_val_score(weighted_svm, X, Y, scoring='roc_auc', cv=cv, n_jobs=-1)\n",
    "# summarize performance\n",
    "print('Mean ROC AUC: %.3f' % np.mean(scores))"
   ]
  },
  {
   "cell_type": "code",
   "execution_count": 38,
   "metadata": {},
   "outputs": [
    {
     "data": {
      "text/plain": [
       "SVC(class_weight={0: 598.0, 1: 2402.0})"
      ]
     },
     "execution_count": 38,
     "metadata": {},
     "output_type": "execute_result"
    }
   ],
   "source": [
    "balance = [{0:598.0, 1:2402.0},{0:1,1:100}, {0:1,1:10}, {0:1,1:1}, {0:10,1:1}, {0:100,1:1}]\n",
    "param_grid = dict(class_weight=balance)\n",
    "\n",
    "grid_weightedsvm = GridSearchCV(estimator=weighted_svm, param_grid=param_grid, n_jobs=-1, cv=cv, scoring='roc_auc')\n",
    "grid_weightedsvm.fit(X,Y)\n",
    "grid_weightedsvm.best_params_\n",
    "grid_weightedsvm.best_estimator_\n",
    "grid_weightedsvm.best_params_\n",
    "grid_weightedsvm.best_estimator_"
   ]
  },
  {
   "cell_type": "code",
   "execution_count": 39,
   "metadata": {},
   "outputs": [
    {
     "name": "stdout",
     "output_type": "stream",
     "text": [
      "Best: 0.827703 using {'class_weight': {0: 598.0, 1: 2402.0}}\n",
      "0.827703 (0.030973) with: {'class_weight': {0: 598.0, 1: 2402.0}}\n",
      "0.792564 (0.035455) with: {'class_weight': {0: 1, 1: 100}}\n",
      "0.782922 (0.031263) with: {'class_weight': {0: 1, 1: 10}}\n",
      "0.798206 (0.034647) with: {'class_weight': {0: 1, 1: 1}}\n",
      "0.796063 (0.030676) with: {'class_weight': {0: 10, 1: 1}}\n",
      "0.796048 (0.030652) with: {'class_weight': {0: 100, 1: 1}}\n"
     ]
    }
   ],
   "source": [
    "print(\"Best: %f using %s\" % (grid_weightedsvm.best_score_, grid_weightedsvm.best_params_))\n",
    "# report all configurations\n",
    "means = grid_weightedsvm.cv_results_['mean_test_score']\n",
    "stds = grid_weightedsvm.cv_results_['std_test_score']\n",
    "params = grid_weightedsvm.cv_results_['params']\n",
    "for mean, stdev, param in zip(means, stds, params):\n",
    "    print(\"%f (%f) with: %r\" % (mean, stdev, param))"
   ]
  },
  {
   "cell_type": "code",
   "execution_count": 40,
   "metadata": {},
   "outputs": [
    {
     "name": "stdout",
     "output_type": "stream",
     "text": [
      "Training  model takes 54.529 seconds\n",
      "Accuracy of weighted SVM on test set: 0.863\n",
      "[0 1 1 0 0]\n",
      "Predicting test data takes 3.94 seconds\n",
      "Classification error rate: 0.11550468262226847\n",
      "Classification report \n",
      "               precision    recall  f1-score   support\n",
      "\n",
      "           0       0.92      0.84      0.88       484\n",
      "           1       0.85      0.93      0.89       477\n",
      "\n",
      "    accuracy                           0.88       961\n",
      "   macro avg       0.89      0.88      0.88       961\n",
      "weighted avg       0.89      0.88      0.88       961\n",
      "\n",
      "Confusion Matrix \n",
      " [[408  76]\n",
      " [ 35 442]]\n",
      "AUC is: 0.9400\n"
     ]
    }
   ],
   "source": [
    "#X_balanced_test,y_balanced_test\n",
    "\n",
    "weighted_svm_best = SVC(gamma = 'scale', class_weight ={0: 598.0, 1: 2402.0},probability=True)\n",
    "start_time=time.time()\n",
    "weighted_svm_best.fit(X, Y)\n",
    "print(\"Training  model takes %s seconds\" % round((time.time() - start_time),3))\n",
    "\n",
    "print('Accuracy of weighted SVM on test set: {:.3f}'.format(weighted_svm_best.score(X,Y)))\n",
    "\n",
    "start = time.time()\n",
    "weighted_svm_pred = weighted_svm_best.predict(X_balanced_test)\n",
    "end = time.time()\n",
    "print(weighted_svm_pred[0:5,])\n",
    "\n",
    "weighted_svm_predprob = weighted_svm_best.predict_proba(X_balanced_test)[:,1]\n",
    "\n",
    "print(\"Predicting test data takes %s seconds\" % round((end - start),3))\n",
    "print('Classification error rate:', np.mean(np.array(y_balanced_test)!= weighted_svm_pred))\n",
    "print('Classification report \\n', classification_report(y_balanced_test, weighted_svm_pred))\n",
    "\n",
    "print('Confusion Matrix \\n', confusion_matrix(y_balanced_test, weighted_svm_pred))\n",
    "print('AUC is: {:.4f}'.format(roc_auc_score(y_balanced_test, weighted_svm_predprob)))"
   ]
  },
  {
   "cell_type": "code",
   "execution_count": 43,
   "metadata": {},
   "outputs": [
    {
     "name": "stdout",
     "output_type": "stream",
     "text": [
      "Training  model takes 53.193 seconds\n",
      "Accuracy of weighted SVM on test set: 0.863\n",
      "[1 0 1 0 0]\n",
      "Predicting test data takes 4.188 seconds\n",
      "Classification error rate: 0.38204592901878914\n",
      "Classification report \n",
      "               precision    recall  f1-score   support\n",
      "\n",
      "           0       0.58      0.85      0.69       479\n",
      "           1       0.72      0.39      0.50       479\n",
      "\n",
      "    accuracy                           0.62       958\n",
      "   macro avg       0.65      0.62      0.60       958\n",
      "weighted avg       0.65      0.62      0.60       958\n",
      "\n",
      "Confusion Matrix \n",
      " [[406  73]\n",
      " [293 186]]\n",
      "AUC is: 0.6809\n"
     ]
    }
   ],
   "source": [
    "# X_test_balanced,y_test_balanced\n",
    "\n",
    "weighted_svm_best = SVC(gamma = 'scale', class_weight ={0: 598.0, 1: 2402.0},probability=True)\n",
    "start_time=time.time()\n",
    "weighted_svm_best.fit(X, Y)\n",
    "print(\"Training  model takes %s seconds\" % round((time.time() - start_time),3))\n",
    "\n",
    "print('Accuracy of weighted SVM on test set: {:.3f}'.format(weighted_svm_best.score(X,Y)))\n",
    "\n",
    "start = time.time()\n",
    "weighted_svm_pred = weighted_svm_best.predict(X_test_balanced)\n",
    "end = time.time()\n",
    "print(weighted_svm_pred[0:5,])\n",
    "\n",
    "weighted_svm_predprob = weighted_svm_best.predict_proba(X_test_balanced)[:,1]\n",
    "\n",
    "print(\"Predicting test data takes %s seconds\" % round((end - start),3))\n",
    "print('Classification error rate:', np.mean(np.array(y_test_balanced)!= weighted_svm_pred))\n",
    "print('Classification report \\n', classification_report(y_test_balanced, weighted_svm_pred))\n",
    "\n",
    "print('Confusion Matrix \\n', confusion_matrix(y_test_balanced, weighted_svm_pred))\n",
    "print('AUC is: {:.4f}'.format(roc_auc_score(y_test_balanced, weighted_svm_predprob)))"
   ]
  },
  {
   "cell_type": "code",
   "execution_count": 42,
   "metadata": {},
   "outputs": [
    {
     "name": "stdout",
     "output_type": "stream",
     "text": [
      "Training  model takes 56.864 seconds\n",
      "Accuracy of weighted SVM on test set: 0.863\n",
      "[1 0 1 0 0]\n",
      "Predicting test data takes 2.605 seconds\n",
      "Classification error rate: 0.14\n",
      "Classification report \n",
      "               precision    recall  f1-score   support\n",
      "\n",
      "           0       0.97      0.85      0.91       479\n",
      "           1       0.60      0.91      0.72       121\n",
      "\n",
      "    accuracy                           0.86       600\n",
      "   macro avg       0.79      0.88      0.81       600\n",
      "weighted avg       0.90      0.86      0.87       600\n",
      "\n",
      "Confusion Matrix \n",
      " [[406  73]\n",
      " [ 11 110]]\n",
      "AUC is: 0.9599\n"
     ]
    }
   ],
   "source": [
    "# X_test,Y_test\n",
    "weighted_svm_best = SVC(gamma = 'scale', class_weight ={0: 598.0, 1: 2402.0},probability=True)\n",
    "start_time=time.time()\n",
    "weighted_svm_best.fit(X, Y)\n",
    "print(\"Training  model takes %s seconds\" % round((time.time() - start_time),3))\n",
    "\n",
    "print('Accuracy of weighted SVM on test set: {:.3f}'.format(weighted_svm_best.score(X,Y)))\n",
    "\n",
    "start = time.time()\n",
    "weighted_svm_pred = weighted_svm_best.predict(X_test)\n",
    "end = time.time()\n",
    "print(weighted_svm_pred[0:5,])\n",
    "\n",
    "weighted_svm_predprob = weighted_svm_best.predict_proba(X_test)[:,1]\n",
    "\n",
    "print(\"Predicting test data takes %s seconds\" % round((end - start),3))\n",
    "print('Classification error rate:', np.mean(np.array(Y_test)!= weighted_svm_pred))\n",
    "print('Classification report \\n', classification_report(Y_test, weighted_svm_pred))\n",
    "\n",
    "print('Confusion Matrix \\n', confusion_matrix(Y_test, weighted_svm_pred))\n",
    "print('AUC is: {:.4f}'.format(roc_auc_score(Y_test, weighted_svm_predprob)))"
   ]
  },
  {
   "cell_type": "code",
   "execution_count": null,
   "metadata": {},
   "outputs": [],
   "source": []
  },
  {
   "cell_type": "code",
   "execution_count": null,
   "metadata": {},
   "outputs": [],
   "source": []
  },
  {
   "cell_type": "code",
   "execution_count": null,
   "metadata": {},
   "outputs": [],
   "source": []
  },
  {
   "cell_type": "code",
   "execution_count": null,
   "metadata": {},
   "outputs": [],
   "source": []
  },
  {
   "cell_type": "code",
   "execution_count": null,
   "metadata": {},
   "outputs": [],
   "source": []
  },
  {
   "cell_type": "code",
   "execution_count": null,
   "metadata": {},
   "outputs": [],
   "source": []
  }
 ],
 "metadata": {
  "kernelspec": {
   "display_name": "Python 3",
   "language": "python",
   "name": "python3"
  },
  "language_info": {
   "codemirror_mode": {
    "name": "ipython",
    "version": 3
   },
   "file_extension": ".py",
   "mimetype": "text/x-python",
   "name": "python",
   "nbconvert_exporter": "python",
   "pygments_lexer": "ipython3",
   "version": "3.8.5"
  }
 },
 "nbformat": 4,
 "nbformat_minor": 4
}
