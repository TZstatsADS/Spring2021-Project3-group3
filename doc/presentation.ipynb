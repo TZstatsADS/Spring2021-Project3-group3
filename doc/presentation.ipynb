{
 "cells": [
  {
   "cell_type": "markdown",
   "metadata": {},
   "source": [
    "presentation day test "
   ]
  },
  {
   "cell_type": "code",
   "execution_count": 59,
   "metadata": {},
   "outputs": [],
   "source": [
    "import numpy as np\n",
    "import scipy.io\n",
    "import sklearn.metrics\n",
    "import sklearn \n",
    "import os\n",
    "import random\n",
    "import pandas as pd\n",
    "import time\n",
    "sys.path.append('C:/Users/liqia/Spring2021-Project3-group-3-master/lib/')"
   ]
  },
  {
   "cell_type": "code",
   "execution_count": 54,
   "metadata": {},
   "outputs": [],
   "source": [
    "from scipy.spatial.distance import pdist\n",
    "import imbalanced_databases as imbd\n",
    "import matplotlib.pyplot as plt\n",
    "# import smote_variants as s\n",
    "import scipy.io as scio\n",
    "from PIL import Image\n",
    "import pandas as pd\n",
    "import numpy as np\n",
    "import xlsxwriter\n",
    "import scipy.io\n",
    "import sklearn\n",
    "import os, sys\n",
    "import pickle\n",
    "import random\n",
    "import time\n",
    "import cv2\n",
    "\n",
    "from sklearn.pipeline import Pipeline\n",
    "from sklearn.datasets import make_classification\n",
    "from sklearn.metrics import (classification_report, \n",
    "                            confusion_matrix, \n",
    "                            recall_score,\n",
    "                            accuracy_score,\n",
    "                            make_scorer,\n",
    "                            roc_auc_score)\n",
    "\n",
    "from sklearn.model_selection import (train_test_split,\n",
    "                                    cross_validate, \n",
    "                                    GridSearchCV,\n",
    "                                    RepeatedStratifiedKFold,\n",
    "                                    cross_val_score,\n",
    "                                    validation_curve)\n",
    "\n",
    "# dealing with imbalanced dataset\n",
    "from imblearn.under_sampling import RandomUnderSampler               \n",
    "from imblearn.over_sampling import SMOTE\n",
    "\n",
    "# models\n",
    "from sklearn.svm import SVC\n",
    "from sklearn.tree import DecisionTreeClassifier\n",
    "from sklearn.linear_model import SGDClassifier\n",
    "from sklearn.ensemble import (GradientBoostingClassifier, \n",
    "                              RandomForestClassifier,\n",
    "                              AdaBoostClassifier,\n",
    "                             VotingClassifier)\n",
    "\n",
    "from sklearn.linear_model import LogisticRegression\n",
    "from sklearn.naive_bayes import GaussianNB\n",
    "from sklearn.linear_model import RidgeClassifier\n",
    "from sklearn.neighbors import KNeighborsClassifier\n",
    "from sklearn.tree import DecisionTreeClassifier\n",
    "from sklearn.svm import SVC\n",
    "from sklearn import tree\n",
    "import xgboost as xgb\n",
    "from sklearn.neighbors import (KNeighborsClassifier, \n",
    "                               NearestCentroid,\n",
    "                               NeighborhoodComponentsAnalysis)\n",
    "\n",
    "\n",
    "random.seed(2021)\n",
    "\n",
    "# for CNN and Neural Networks\n",
    "import tensorflow as tf\n",
    "from tensorflow import keras\n",
    "from keras.regularizers import l2, l1_l2\n",
    "from tensorflow.keras import layers\n",
    "from tensorflow.keras import metrics\n",
    "from tensorflow.keras import regularizers\n",
    "from tensorflow.keras.models import Sequential\n",
    "from keras.preprocessing.image import ImageDataGenerator"
   ]
  },
  {
   "cell_type": "code",
   "execution_count": 60,
   "metadata": {},
   "outputs": [],
   "source": [
    "#3 columns: index, baseline, advanced\n",
    "index=list(range(0,3000))\n",
    "test_df=pd.DataFrame({'index':index})\n",
    "test_df['baseline']=\"\"\n",
    "test_df['advanced']=\"\"\n",
    "test_df.to_csv('C:/Users/liqia/Spring2021-Project3-group-3-master/data/label_prediction_test.csv',index=False)"
   ]
  },
  {
   "cell_type": "code",
   "execution_count": 61,
   "metadata": {},
   "outputs": [],
   "source": [
    "results = pd.read_csv('C:/Users/liqia/Spring2021-Project3-group-3-master/data/label_prediction_test.csv')"
   ]
  },
  {
   "cell_type": "code",
   "execution_count": 62,
   "metadata": {},
   "outputs": [],
   "source": [
    "path = \"C:/Users/liqia/Spring2021-Project3-group-3-master/data//train_set\"\n",
    "image_dir = path+\"images/\"\n",
    "pt_dir = path+\"points/\"\n",
    "label_path = path+\"label.csv\""
   ]
  },
  {
   "cell_type": "code",
   "execution_count": 63,
   "metadata": {},
   "outputs": [],
   "source": [
    "def read_data(path):\n",
    "  \n",
    "  # read labels\n",
    "  labels = pd.read_csv(path+'/label.csv')\n",
    "  y= labels['label'].to_numpy()\n",
    "\n",
    "  # read points\n",
    "  n = 3000\n",
    "  for i in range(1,n+1):\n",
    "    p_path = str(i).zfill(4)+'.mat'\n",
    "    mat = scipy.io.loadmat(path+'/points/'+p_path)\n",
    "    if 'faceCoordinatesUnwarped' in mat:\n",
    "      cords = mat['faceCoordinatesUnwarped'] \n",
    "    else:\n",
    "      cords = mat['faceCoordinates2']\n",
    "\n",
    "    distance = sklearn.metrics.pairwise_distances(cords)       \n",
    "          # compute the pairwise distances in each mat\n",
    "    flatten_distance = distance[np.triu_indices(len(cords[:,0]), k = 1)]    \n",
    "          # stretch the upper triangle of the symmetric matrix \n",
    "          # to a long array with dimension 3003\n",
    "          # 3003 = (1+77)*78/2\n",
    "    if i==1:\n",
    "      distances = np.mat([flatten_distance])\n",
    "    else:\n",
    "      distances = np.append(distances, np.mat([flatten_distance]), axis = 0)\n",
    "  return (distances, y)"
   ]
  },
  {
   "cell_type": "code",
   "execution_count": 64,
   "metadata": {},
   "outputs": [],
   "source": [
    "read_time_start=time.time()\n",
    "X, Y = read_data(path)"
   ]
  },
  {
   "cell_type": "code",
   "execution_count": 68,
   "metadata": {},
   "outputs": [],
   "source": [
    "baseline = pickle.load(open(\"C:/Users/liqia/Spring2021-Project3-group-3-master/output/baseline.p\", \"rb\"))\n",
    "baseline_preds = baseline.predict(X)\n",
    "results['baseline'] = list(baseline_preds)"
   ]
  },
  {
   "cell_type": "code",
   "execution_count": 67,
   "metadata": {},
   "outputs": [],
   "source": [
    "advanced = pickle.load(open(\"C:/Users/liqia/Spring2021-Project3-group-3-master/output/advanced.p\", \"rb\"))\n",
    "advanced_preds = advanced.predict(X)\n",
    "results['advanced'] = list(advanced_preds)"
   ]
  },
  {
   "cell_type": "code",
   "execution_count": null,
   "metadata": {},
   "outputs": [],
   "source": [
    "results.to_csv('C:/Users/liqia/Spring2021-Project3-group-3-master/output/label_prediction.csv',index=False)"
   ]
  },
  {
   "cell_type": "code",
   "execution_count": null,
   "metadata": {},
   "outputs": [],
   "source": [
    "results.head(10)"
   ]
  },
  {
   "cell_type": "code",
   "execution_count": null,
   "metadata": {},
   "outputs": [],
   "source": []
  }
 ],
 "metadata": {
  "kernelspec": {
   "display_name": "Python 3",
   "language": "python",
   "name": "python3"
  },
  "language_info": {
   "codemirror_mode": {
    "name": "ipython",
    "version": 3
   },
   "file_extension": ".py",
   "mimetype": "text/x-python",
   "name": "python",
   "nbconvert_exporter": "python",
   "pygments_lexer": "ipython3",
   "version": "3.8.5"
  }
 },
 "nbformat": 4,
 "nbformat_minor": 4
}
