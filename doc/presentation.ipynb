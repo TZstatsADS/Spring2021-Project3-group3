{
 "cells": [
  {
   "cell_type": "markdown",
   "metadata": {},
   "source": [
    "# Test Script for presentation day "
   ]
  },
  {
   "cell_type": "code",
   "execution_count": 15,
   "metadata": {},
   "outputs": [],
   "source": [
    "import numpy as np\n",
    "import pandas as pd\n",
    "import scipy.io\n",
    "from sklearn import metrics\n",
    "import pickle"
   ]
  },
  {
   "cell_type": "code",
   "execution_count": 16,
   "metadata": {},
   "outputs": [],
   "source": [
    "path = \"data/train_set/\""
   ]
  },
  {
   "cell_type": "code",
   "execution_count": 12,
   "metadata": {},
   "outputs": [],
   "source": [
    "def read_data(path):\n",
    "\n",
    "    # read labels\n",
    "    labels = pd.read_csv(path + 'label.csv')\n",
    "    y = labels['label'].to_numpy()\n",
    "\n",
    "    # read points\n",
    "    n = 3000\n",
    "    for i in range(1,n+1):\n",
    "        p_path = str(i).zfill(4)+'.mat'\n",
    "        mat = scipy.io.loadmat(path + 'points/'+ p_path)\n",
    "        if 'faceCoordinatesUnwarped' in mat:\n",
    "            cords = mat['faceCoordinatesUnwarped'] \n",
    "        else:\n",
    "            cords = mat['faceCoordinates2']\n",
    "\n",
    "        distance = metrics.pairwise_distances(cords)       \n",
    "              # compute the pairwise distances in each mat\n",
    "        flatten_distance = distance[np.triu_indices(len(cords[:,0]), k = 1)]    \n",
    "              # stretch the upper triangle of the symmetric matrix \n",
    "              # to a long array with dimension 3003\n",
    "              # 3003 = (1+77)*78/2\n",
    "        if i==1:\n",
    "            distances = np.mat([flatten_distance])\n",
    "        else:\n",
    "            distances = np.append(distances, np.mat([flatten_distance]), axis = 0)\n",
    "    \n",
    "    return (distances, y)"
   ]
  },
  {
   "cell_type": "code",
   "execution_count": 13,
   "metadata": {},
   "outputs": [],
   "source": [
    "X, Y = read_data(path)"
   ]
  },
  {
   "cell_type": "code",
   "execution_count": 17,
   "metadata": {},
   "outputs": [],
   "source": [
    "baseline = pickle.load(open(\"output/baseline.p\", \"rb\"))\n",
    "baseline_preds = baseline.predict(X)"
   ]
  },
  {
   "cell_type": "code",
   "execution_count": 18,
   "metadata": {},
   "outputs": [],
   "source": [
    "advanced = pickle.load(open(\"output/advanced.p\", \"rb\"))\n",
    "advanced_preds = advanced.predict(X)"
   ]
  },
  {
   "cell_type": "code",
   "execution_count": null,
   "metadata": {},
   "outputs": [],
   "source": [
    "index = list(range(1, 3001))\n",
    "results = pd.DataFrame({'index':index})\n",
    "results['baseline'] = list(baseline_preds)\n",
    "results['advanced'] = list(advanced_preds)"
   ]
  },
  {
   "cell_type": "code",
   "execution_count": null,
   "metadata": {},
   "outputs": [],
   "source": [
    "results.to_csv('label_prediction.csv', index=False)"
   ]
  },
  {
   "cell_type": "code",
   "execution_count": null,
   "metadata": {},
   "outputs": [],
   "source": [
    "results.head(10)"
   ]
  }
 ],
 "metadata": {
  "kernelspec": {
   "display_name": "Python 3",
   "language": "python",
   "name": "python3"
  },
  "language_info": {
   "codemirror_mode": {
    "name": "ipython",
    "version": 3
   },
   "file_extension": ".py",
   "mimetype": "text/x-python",
   "name": "python",
   "nbconvert_exporter": "python",
   "pygments_lexer": "ipython3",
   "version": "3.8.5"
  }
 },
 "nbformat": 4,
 "nbformat_minor": 4
}
